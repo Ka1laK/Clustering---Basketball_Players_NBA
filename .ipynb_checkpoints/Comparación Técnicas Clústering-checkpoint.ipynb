{
 "cells": [
  {
   "attachments": {},
   "cell_type": "markdown",
   "metadata": {},
   "source": [
    "# <u>Métodos No Supervisados"
   ]
  },
  {
   "attachments": {},
   "cell_type": "markdown",
   "metadata": {},
   "source": [
    "# Comparación de Cluster solo Usando la métrica de Silueta (Clustering Jerárquico, PAM y K-means)"
   ]
  },
  {
   "attachments": {},
   "cell_type": "markdown",
   "metadata": {},
   "source": [
    "#### Librerias"
   ]
  },
  {
   "cell_type": "code",
   "execution_count": null,
   "metadata": {},
   "outputs": [],
   "source": [
    "# pip install pyclustering"
   ]
  },
  {
   "cell_type": "code",
   "execution_count": null,
   "metadata": {},
   "outputs": [],
   "source": [
    "from pyclustering.cluster.clarans import clarans;\n",
    "from pyclustering.utils import timedcall;\n",
    "from pyclustering.cluster.kmedoids import kmedoids;\n",
    "import pandas as pd\n",
    "import numpy as np\n",
    "\n",
    "# visualization\n",
    "import seaborn as sns\n",
    "import matplotlib.pyplot as plt\n",
    "\n",
    "import warnings\n",
    "warnings.filterwarnings(\"ignore\")\n"
   ]
  },
  {
   "cell_type": "code",
   "execution_count": null,
   "metadata": {},
   "outputs": [],
   "source": [
    "basket = pd.read_csv(\"DATA/jugadores_basket.csv\")\n",
    "basket.head(8)"
   ]
  },
  {
   "cell_type": "code",
   "execution_count": null,
   "metadata": {},
   "outputs": [],
   "source": [
    "basket.shape"
   ]
  },
  {
   "attachments": {},
   "cell_type": "markdown",
   "metadata": {},
   "source": [
    "### Variables\n",
    "\n",
    "- asisten_porcen_minuto:    \n",
    "Asistencia porcentual por minuto = (Asistencias / Minutos jugados)    \n",
    "Es una estadística útil para evaluar la habilidad de un jugador para generar oportunidades de anotación para sus compañeros. Puede ayudar a identificar jugadores con habilidades de visión de juego y capacidad para distribuir el balón eficientemente. Sin embargo, es importante tener en cuenta que esta métrica no tiene en cuenta otros factores como la calidad de los compañeros de equipo, la estrategia del equipo o el estilo de juego individual.\n",
    "\n",
    "- talla: Talla del jugador en cm\n",
    "- tiempo_juego: Tiempo en el juego en minutos\n",
    "- edad: Edad del jugador en años\n",
    "- puntos_porcen_minuto:     \n",
    "Puntos por minuto = Puntos anotados / Minutos jugados   \n",
    "Esta métrica puede ser útil para evaluar la capacidad anotadora de un jugador y su eficiencia en términos de puntos por tiempo en la cancha.\n"
   ]
  },
  {
   "attachments": {},
   "cell_type": "markdown",
   "metadata": {},
   "source": [
    "### Analizamos la data"
   ]
  },
  {
   "cell_type": "code",
   "execution_count": null,
   "metadata": {},
   "outputs": [],
   "source": [
    "basket.info()"
   ]
  },
  {
   "cell_type": "code",
   "execution_count": null,
   "metadata": {},
   "outputs": [],
   "source": [
    "sns.pairplot(basket)"
   ]
  },
  {
   "cell_type": "code",
   "execution_count": null,
   "metadata": {},
   "outputs": [],
   "source": [
    "sns.pairplot(basket, corner=True)"
   ]
  },
  {
   "cell_type": "code",
   "execution_count": null,
   "metadata": {},
   "outputs": [],
   "source": [
    "basket.describe()"
   ]
  },
  {
   "cell_type": "code",
   "execution_count": null,
   "metadata": {},
   "outputs": [],
   "source": [
    "basket.describe(include=['object'])"
   ]
  },
  {
   "cell_type": "code",
   "execution_count": null,
   "metadata": {},
   "outputs": [],
   "source": [
    "basket[basket['nombres']=='Kevin']"
   ]
  },
  {
   "cell_type": "code",
   "execution_count": null,
   "metadata": {},
   "outputs": [],
   "source": [
    "basket[basket['apellidos']=='Sanchez']"
   ]
  },
  {
   "cell_type": "code",
   "execution_count": null,
   "metadata": {},
   "outputs": [],
   "source": [
    "identificadores = basket[['nombres','apellidos']]\n",
    "basket = basket[['asisten_porcen_minuto','talla','tiempo_juego','edad',\t'puntos_porcen_minuto']]"
   ]
  },
  {
   "cell_type": "code",
   "execution_count": null,
   "metadata": {},
   "outputs": [],
   "source": [
    "identificadores"
   ]
  },
  {
   "cell_type": "code",
   "execution_count": null,
   "metadata": {},
   "outputs": [],
   "source": [
    "basket"
   ]
  },
  {
   "attachments": {},
   "cell_type": "markdown",
   "metadata": {},
   "source": [
    "## Clustering Jerarquico"
   ]
  },
  {
   "attachments": {},
   "cell_type": "markdown",
   "metadata": {},
   "source": [
    "### Normalizamos los datos\n",
    "La normalización es un cambio de escala de los datos del rango original para que todos los valores estén dentro del nuevo rango de 0 y 1. \n",
    "$$x_{normalizado}= (x – min) / (max – min)$$  \n",
    "Donde los valores mínimo y máximo pertenecen al valor x que se está normalizando."
   ]
  },
  {
   "cell_type": "code",
   "execution_count": null,
   "metadata": {},
   "outputs": [],
   "source": [
    "from sklearn.preprocessing import MinMaxScaler\n",
    "\n",
    "# MinMaxScaler: Transforme las variables escalando cada una de ellas a un rango determinado.\n",
    "scaler = MinMaxScaler(feature_range=(0, 1))\n",
    "scaler = scaler.fit(basket)\n",
    "\n",
    "# Aplicar la transformación de normalización a los datos en basket\n",
    "normalized = scaler.transform(basket)\n",
    "\n",
    "normalized1 = pd.DataFrame(normalized,columns=list(basket.columns))\n",
    "zscore_df = normalized1\n",
    "zscore_df.head(10)"
   ]
  },
  {
   "attachments": {},
   "cell_type": "markdown",
   "metadata": {},
   "source": [
    "### Estandarizamos los datos\n",
    "Un valor se estandariza de la siguiente manera: \n",
    "$$x_{estadarizado} = (x – media) / sd$$\n",
    "\n",
    "Donde la media se calcula como: $$media = suma(x) / cuenta(x)$$ Y la desviación_estándar se calcula como: $$sd = raíz cuadrada (suma ((x – media) ^ 2) / cuenta (x))$$"
   ]
  },
  {
   "cell_type": "code",
   "execution_count": null,
   "metadata": {},
   "outputs": [],
   "source": [
    "from sklearn.preprocessing import StandardScaler\n",
    "\n",
    "scaler = StandardScaler()\n",
    "scaler = scaler.fit(basket)\n",
    "\n",
    "# Aplicar la transformación de estandarización a los datos en \"basket\"\n",
    "standarizar = scaler.transform(basket)\n",
    "\n",
    "standarizar1 = pd.DataFrame(standarizar,columns=list(basket.columns))\n",
    "zscore_df1 = standarizar1\n",
    "zscore_df1.head(10)"
   ]
  },
  {
   "attachments": {},
   "cell_type": "markdown",
   "metadata": {},
   "source": [
    "## Dendograma"
   ]
  },
  {
   "cell_type": "code",
   "execution_count": null,
   "metadata": {},
   "outputs": [],
   "source": [
    "from scipy.cluster.hierarchy import dendrogram, linkage  \n",
    "from matplotlib import pyplot as plt\n",
    "\n",
    "seed = 16\n",
    "np.random.seed(seed)\n",
    "\n",
    "linked = linkage(zscore_df,method = 'ward')\n",
    "\n",
    "labelList = range(1, 11)\n",
    "\n",
    "plt.figure(figsize=(16, 8))  \n",
    "\n",
    "## Se genera el dendrograma utilizando la función dendrogram de scipy.cluster.hierarchy\n",
    "dendrogram(linked)\n",
    "plt.show()  "
   ]
  },
  {
   "attachments": {},
   "cell_type": "markdown",
   "metadata": {},
   "source": [
    "## Construimos el Modelo Jerarquico con 4 cluster"
   ]
  },
  {
   "cell_type": "code",
   "execution_count": null,
   "metadata": {},
   "outputs": [],
   "source": [
    "from sklearn.cluster import AgglomerativeClustering\n",
    "\n",
    "seed = 16\n",
    "np.random.seed(seed)\n",
    "\n",
    "cluster_Ag = AgglomerativeClustering(n_clusters=4, affinity='euclidean', linkage='ward')  \n",
    "# ward: método de la varianza mínima. Tenemos otros como single, average, complete\n",
    "cluster_Ag.fit_predict(zscore_df)   ## Recordar que aca se reemplaza su dataframe"
   ]
  },
  {
   "cell_type": "code",
   "execution_count": null,
   "metadata": {},
   "outputs": [],
   "source": [
    "label_ag = pd.DataFrame(cluster_Ag.labels_,columns= ['Cluster'])\n",
    "cluster_Jerarq = pd.concat([basket,label_ag['Cluster']], axis=1)\n",
    "cluster_Jerarq"
   ]
  },
  {
   "cell_type": "code",
   "execution_count": null,
   "metadata": {},
   "outputs": [],
   "source": [
    "cluster_Ag.labels_"
   ]
  },
  {
   "cell_type": "code",
   "execution_count": null,
   "metadata": {},
   "outputs": [],
   "source": [
    "cluster_Jerarq.columns"
   ]
  },
  {
   "attachments": {},
   "cell_type": "markdown",
   "metadata": {},
   "source": [
    "## Visualizacion en 2D"
   ]
  },
  {
   "cell_type": "code",
   "execution_count": null,
   "metadata": {},
   "outputs": [],
   "source": [
    "plt.figure(figsize=(10, 7))  \n",
    "plt.scatter(zscore_df['asisten_porcen_minuto'], zscore_df['tiempo_juego'], c=cluster_Ag.labels_ , cmap='rainbow') "
   ]
  },
  {
   "attachments": {},
   "cell_type": "markdown",
   "metadata": {},
   "source": [
    "## Visualizacion en 3D"
   ]
  },
  {
   "cell_type": "code",
   "execution_count": null,
   "metadata": {},
   "outputs": [],
   "source": [
    "import plotly.express as px\n",
    "\n",
    "fig = px.scatter_3d(zscore_df, x='asisten_porcen_minuto', y='tiempo_juego', z='edad', color=cluster_Jerarq['Cluster'].astype(str))\n",
    "fig.show()"
   ]
  },
  {
   "attachments": {},
   "cell_type": "markdown",
   "metadata": {},
   "source": [
    "### Métrica de Silueta"
   ]
  },
  {
   "cell_type": "code",
   "execution_count": null,
   "metadata": {},
   "outputs": [],
   "source": [
    "from sklearn.metrics import silhouette_score\n",
    "silhouette_score(basket.values, cluster_Ag.labels_, metric='euclidean')"
   ]
  },
  {
   "attachments": {},
   "cell_type": "markdown",
   "metadata": {},
   "source": [
    "## Usamos Kmedoides con P.A.M\n",
    "\n",
    "Debemos de fijar la cantidad de cluster"
   ]
  },
  {
   "cell_type": "code",
   "execution_count": null,
   "metadata": {},
   "outputs": [],
   "source": [
    "seed = 16 # con esto definimos la semilla o con random_state\n",
    "np.random.seed(seed)\n",
    "\n",
    "kmedoids_instance = kmedoids(zscore_df.values, [3, 6, 4,10],random_state=16); ## para probar mas cluster solo agregar en\n",
    "# la lista [3, 6, 4] aca seria para 3 cluster si quieres 4 agrega [3, 6, 4, 10] un valor cualesquiera por que son aleatorios\n",
    "\n",
    "# Ejecutar el algoritmo K-Medoids y medir el tiempo de ejecución\n",
    "(ticks, result) = timedcall(kmedoids_instance.process);\n",
    "print(\"Tiempo de ejecución : \", ticks, \"\\n\");\n",
    "\n",
    "# retornando los clusters \n",
    "clusters_Kmed = kmedoids_instance.get_clusters();\n",
    "\n",
    "# Devolviendo las medoides \n",
    "medoids = kmedoids_instance.get_medoids();\n",
    "\n",
    "print(\"Índice de los puntos que pertenecen a un clúster:: \",clusters_Kmed)\n",
    "print(\"Índice de los medoides que el algoritmo encontró como los mejores:\", medoids)"
   ]
  },
  {
   "cell_type": "code",
   "execution_count": null,
   "metadata": {},
   "outputs": [],
   "source": [
    "clusters_Kmed[0]"
   ]
  },
  {
   "attachments": {},
   "cell_type": "markdown",
   "metadata": {},
   "source": [
    "Adecuamos los cluster con etiquetas"
   ]
  },
  {
   "cell_type": "code",
   "execution_count": null,
   "metadata": {},
   "outputs": [],
   "source": [
    "label = pd.DataFrame()\n",
    "for i in range(4):  \n",
    "    print(i)\n",
    "    a = pd.DataFrame(clusters_Kmed[i],columns = ['Index']) \n",
    "    a['Cluster'] = i\n",
    "    label = label.append(a)"
   ]
  },
  {
   "cell_type": "code",
   "execution_count": null,
   "metadata": {},
   "outputs": [],
   "source": [
    "label"
   ]
  },
  {
   "cell_type": "code",
   "execution_count": null,
   "metadata": {},
   "outputs": [],
   "source": [
    "label_f = label.sort_values(by ='Index').reset_index(drop='true')\n",
    "cluster_Med = pd.concat([basket,label_f['Cluster']], axis=1) # axis = 1 es por columnas\n",
    "cluster_Med"
   ]
  },
  {
   "cell_type": "code",
   "execution_count": null,
   "metadata": {},
   "outputs": [],
   "source": [
    "cluster_Med.Cluster.value_counts()"
   ]
  },
  {
   "attachments": {},
   "cell_type": "markdown",
   "metadata": {},
   "source": [
    "## Visualizacion en 2D"
   ]
  },
  {
   "cell_type": "code",
   "execution_count": null,
   "metadata": {},
   "outputs": [],
   "source": [
    "plt.figure(figsize=(10, 7))  \n",
    "plt.scatter(zscore_df['asisten_porcen_minuto'], zscore_df['puntos_porcen_minuto'], c=cluster_Med.Cluster, cmap='rainbow') "
   ]
  },
  {
   "attachments": {},
   "cell_type": "markdown",
   "metadata": {},
   "source": [
    "## Visualizacion en 3D"
   ]
  },
  {
   "cell_type": "code",
   "execution_count": null,
   "metadata": {},
   "outputs": [],
   "source": [
    "import plotly.express as px\n",
    "\n",
    "fig = px.scatter_3d(zscore_df, x='asisten_porcen_minuto', y='tiempo_juego', z='edad', color=cluster_Med['Cluster'].astype(str))\n",
    "fig.show()\n"
   ]
  },
  {
   "cell_type": "code",
   "execution_count": null,
   "metadata": {},
   "outputs": [],
   "source": [
    "# Crear un diccionario que mapee cada clúster a un nombre\n",
    "cluster_names = {\n",
    "    0: 'Cluster A',\n",
    "    1: 'Cluster B',\n",
    "    2: 'Cluster C',\n",
    "    3: 'Cluster D'\n",
    "    # Añade más clústeres y nombres si es necesario\n",
    "}\n",
    "\n",
    "# Añadir una nueva columna 'Nombre' en el DataFrame 'basket' con los nombres de clúster correspondientes\n",
    "cluster_Med['Segmento'] = cluster_Med['Cluster'].map(cluster_names)"
   ]
  },
  {
   "cell_type": "code",
   "execution_count": null,
   "metadata": {},
   "outputs": [],
   "source": [
    "cluster_Med"
   ]
  },
  {
   "cell_type": "code",
   "execution_count": null,
   "metadata": {},
   "outputs": [],
   "source": [
    "import plotly.express as px\n",
    "\n",
    "fig = px.scatter_3d(zscore_df, x='asisten_porcen_minuto', y='tiempo_juego', z='edad', color=cluster_Med['Cluster'].astype(str),\n",
    "                    hover_name=cluster_Med['Segmento'],labels={'color': 'Segmento'})\n",
    "fig.show()\n"
   ]
  },
  {
   "attachments": {},
   "cell_type": "markdown",
   "metadata": {},
   "source": [
    "### Métrica de Silueta"
   ]
  },
  {
   "cell_type": "code",
   "execution_count": null,
   "metadata": {},
   "outputs": [],
   "source": [
    "from sklearn.metrics import silhouette_score\n",
    "silhouette_score(basket.values, cluster_Med.Cluster, metric='euclidean')"
   ]
  },
  {
   "attachments": {},
   "cell_type": "markdown",
   "metadata": {},
   "source": [
    "## Usamos Kmeans"
   ]
  },
  {
   "cell_type": "code",
   "execution_count": null,
   "metadata": {},
   "outputs": [],
   "source": [
    "from sklearn.cluster import KMeans\n",
    "\n",
    "kmeans = KMeans(n_clusters=4,random_state=16)\n",
    "kmeans.fit(zscore_df.values)\n",
    "centroids = kmeans.cluster_centers_\n",
    "print(\"The index of kemans that algorithm found to be best :\", kmeans.labels_)"
   ]
  },
  {
   "attachments": {},
   "cell_type": "markdown",
   "metadata": {},
   "source": [
    "Adecuamos los cluster con etiquetas"
   ]
  },
  {
   "cell_type": "code",
   "execution_count": null,
   "metadata": {},
   "outputs": [],
   "source": [
    "label_km = pd.DataFrame(kmeans.labels_,columns= ['Cluster'])\n",
    "cluster_kmeans = pd.concat([basket,label_km['Cluster']], axis=1)\n",
    "cluster_kmeans"
   ]
  },
  {
   "cell_type": "code",
   "execution_count": null,
   "metadata": {},
   "outputs": [],
   "source": [
    "cluster_kmeans.Cluster.value_counts()"
   ]
  },
  {
   "attachments": {},
   "cell_type": "markdown",
   "metadata": {},
   "source": [
    "## Visualizacion en 2D"
   ]
  },
  {
   "cell_type": "code",
   "execution_count": null,
   "metadata": {},
   "outputs": [],
   "source": [
    "plt.figure(figsize=(10, 7))  \n",
    "plt.scatter(zscore_df['asisten_porcen_minuto'], zscore_df['puntos_porcen_minuto'], c=cluster_kmeans.Cluster, cmap='rainbow') "
   ]
  },
  {
   "attachments": {},
   "cell_type": "markdown",
   "metadata": {},
   "source": [
    "## Visualizacion en 3D"
   ]
  },
  {
   "cell_type": "code",
   "execution_count": null,
   "metadata": {},
   "outputs": [],
   "source": [
    "import plotly.express as px\n",
    "\n",
    "fig = px.scatter_3d(zscore_df, x='asisten_porcen_minuto', y='tiempo_juego', z='edad', color=cluster_kmeans['Cluster'].astype(str))\n",
    "fig.show()"
   ]
  },
  {
   "attachments": {},
   "cell_type": "markdown",
   "metadata": {},
   "source": [
    "### Métrica de Silueta"
   ]
  },
  {
   "cell_type": "code",
   "execution_count": null,
   "metadata": {},
   "outputs": [],
   "source": [
    "from sklearn.metrics import silhouette_score\n",
    "silhouette_score(basket.values, cluster_kmeans.Cluster, metric='euclidean')"
   ]
  },
  {
   "attachments": {},
   "cell_type": "markdown",
   "metadata": {},
   "source": [
    "### Referencias: \n",
    "https://machinelearningmastery.com/standardscaler-and-minmaxscaler-transforms-in-python/ \n",
    "\n",
    "https://scikit-learn.org/stable/modules/generated/sklearn.preprocessing.MinMaxScaler.html"
   ]
  }
 ],
 "metadata": {
  "kernelspec": {
   "display_name": "Python 3",
   "language": "python",
   "name": "python3"
  },
  "language_info": {
   "codemirror_mode": {
    "name": "ipython",
    "version": 3
   },
   "file_extension": ".py",
   "mimetype": "text/x-python",
   "name": "python",
   "nbconvert_exporter": "python",
   "pygments_lexer": "ipython3",
   "version": "3.9.15"
  }
 },
 "nbformat": 4,
 "nbformat_minor": 2
}
