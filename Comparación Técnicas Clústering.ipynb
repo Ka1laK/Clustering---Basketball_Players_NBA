{
 "cells": [
  {
   "cell_type": "markdown",
   "metadata": {
    "tags": []
   },
   "source": [
    "# INTRODUCCION A CLUSTERING"
   ]
  },
  {
   "cell_type": "markdown",
   "metadata": {},
   "source": [
    "## <u>Métodos No Supervisados"
   ]
  },
  {
   "cell_type": "markdown",
   "metadata": {},
   "source": [
    "## Comparación de Cluster solo Usando la métrica de Silueta (Clustering Jerárquico, PAM y K-means)"
   ]
  },
  {
   "cell_type": "markdown",
   "metadata": {},
   "source": [
    "#### Librerias"
   ]
  },
  {
   "cell_type": "code",
   "execution_count": 3,
   "metadata": {
    "tags": []
   },
   "outputs": [],
   "source": [
    "from pyclustering.cluster.clarans import clarans;\n",
    "from pyclustering.utils import timedcall;\n",
    "from pyclustering.cluster.kmedoids import kmedoids;\n",
    "import pandas as pd\n",
    "import numpy as np\n",
    "\n",
    "# visualization\n",
    "import seaborn as sns\n",
    "import matplotlib.pyplot as plt\n",
    "\n",
    "import warnings\n",
    "warnings.filterwarnings(\"ignore\")\n"
   ]
  },
  {
   "cell_type": "code",
   "execution_count": 4,
   "metadata": {
    "tags": []
   },
   "outputs": [
    {
     "data": {
      "text/html": [
       "<div>\n",
       "<style scoped>\n",
       "    .dataframe tbody tr th:only-of-type {\n",
       "        vertical-align: middle;\n",
       "    }\n",
       "\n",
       "    .dataframe tbody tr th {\n",
       "        vertical-align: top;\n",
       "    }\n",
       "\n",
       "    .dataframe thead th {\n",
       "        text-align: right;\n",
       "    }\n",
       "</style>\n",
       "<table border=\"1\" class=\"dataframe\">\n",
       "  <thead>\n",
       "    <tr style=\"text-align: right;\">\n",
       "      <th></th>\n",
       "      <th>nombres</th>\n",
       "      <th>apellidos</th>\n",
       "      <th>asisten_porcen_minuto</th>\n",
       "      <th>talla</th>\n",
       "      <th>tiempo_juego</th>\n",
       "      <th>edad</th>\n",
       "      <th>puntos_porcen_minuto</th>\n",
       "    </tr>\n",
       "  </thead>\n",
       "  <tbody>\n",
       "    <tr>\n",
       "      <th>0</th>\n",
       "      <td>James</td>\n",
       "      <td>Smith</td>\n",
       "      <td>0.0888</td>\n",
       "      <td>201</td>\n",
       "      <td>36.02</td>\n",
       "      <td>28</td>\n",
       "      <td>0.5885</td>\n",
       "    </tr>\n",
       "    <tr>\n",
       "      <th>1</th>\n",
       "      <td>Stephen</td>\n",
       "      <td>Johnson</td>\n",
       "      <td>0.1399</td>\n",
       "      <td>198</td>\n",
       "      <td>39.32</td>\n",
       "      <td>30</td>\n",
       "      <td>0.8291</td>\n",
       "    </tr>\n",
       "    <tr>\n",
       "      <th>2</th>\n",
       "      <td>Kevin</td>\n",
       "      <td>Williams</td>\n",
       "      <td>0.0747</td>\n",
       "      <td>198</td>\n",
       "      <td>38.80</td>\n",
       "      <td>26</td>\n",
       "      <td>0.4974</td>\n",
       "    </tr>\n",
       "    <tr>\n",
       "      <th>3</th>\n",
       "      <td>Giannis</td>\n",
       "      <td>Brown</td>\n",
       "      <td>0.0983</td>\n",
       "      <td>191</td>\n",
       "      <td>40.71</td>\n",
       "      <td>30</td>\n",
       "      <td>0.5772</td>\n",
       "    </tr>\n",
       "    <tr>\n",
       "      <th>4</th>\n",
       "      <td>LeBron</td>\n",
       "      <td>Jones</td>\n",
       "      <td>0.1276</td>\n",
       "      <td>196</td>\n",
       "      <td>38.40</td>\n",
       "      <td>28</td>\n",
       "      <td>0.5703</td>\n",
       "    </tr>\n",
       "    <tr>\n",
       "      <th>5</th>\n",
       "      <td>Kawhi</td>\n",
       "      <td>Garcia</td>\n",
       "      <td>0.1671</td>\n",
       "      <td>201</td>\n",
       "      <td>34.10</td>\n",
       "      <td>31</td>\n",
       "      <td>0.5835</td>\n",
       "    </tr>\n",
       "    <tr>\n",
       "      <th>6</th>\n",
       "      <td>Luka</td>\n",
       "      <td>Miller</td>\n",
       "      <td>0.1906</td>\n",
       "      <td>193</td>\n",
       "      <td>36.20</td>\n",
       "      <td>30</td>\n",
       "      <td>0.5276</td>\n",
       "    </tr>\n",
       "    <tr>\n",
       "      <th>7</th>\n",
       "      <td>Joel</td>\n",
       "      <td>Davis</td>\n",
       "      <td>0.1061</td>\n",
       "      <td>191</td>\n",
       "      <td>36.75</td>\n",
       "      <td>27</td>\n",
       "      <td>0.5523</td>\n",
       "    </tr>\n",
       "  </tbody>\n",
       "</table>\n",
       "</div>"
      ],
      "text/plain": [
       "   nombres apellidos  asisten_porcen_minuto  talla  tiempo_juego  edad  \\\n",
       "0    James     Smith                 0.0888    201         36.02    28   \n",
       "1  Stephen   Johnson                 0.1399    198         39.32    30   \n",
       "2    Kevin  Williams                 0.0747    198         38.80    26   \n",
       "3  Giannis     Brown                 0.0983    191         40.71    30   \n",
       "4   LeBron     Jones                 0.1276    196         38.40    28   \n",
       "5    Kawhi    Garcia                 0.1671    201         34.10    31   \n",
       "6     Luka    Miller                 0.1906    193         36.20    30   \n",
       "7     Joel     Davis                 0.1061    191         36.75    27   \n",
       "\n",
       "   puntos_porcen_minuto  \n",
       "0                0.5885  \n",
       "1                0.8291  \n",
       "2                0.4974  \n",
       "3                0.5772  \n",
       "4                0.5703  \n",
       "5                0.5835  \n",
       "6                0.5276  \n",
       "7                0.5523  "
      ]
     },
     "execution_count": 4,
     "metadata": {},
     "output_type": "execute_result"
    }
   ],
   "source": [
    "basket = pd.read_csv(\"datos/DATA/jugadores_basket.csv\")\n",
    "basket.head(8)"
   ]
  },
  {
   "cell_type": "code",
   "execution_count": 6,
   "metadata": {
    "tags": []
   },
   "outputs": [
    {
     "data": {
      "text/plain": [
       "(96, 7)"
      ]
     },
     "execution_count": 6,
     "metadata": {},
     "output_type": "execute_result"
    }
   ],
   "source": [
    "basket.shape"
   ]
  },
  {
   "cell_type": "markdown",
   "metadata": {},
   "source": [
    "### Variables\n",
    "\n",
    "- asisten_porcen_minuto:    \n",
    "Asistencia porcentual por minuto = (Asistencias / Minutos jugados)    \n",
    "Es una estadística útil para evaluar la habilidad de un jugador para generar oportunidades de anotación para sus compañeros. Puede ayudar a identificar jugadores con habilidades de visión de juego y capacidad para distribuir el balón eficientemente. Sin embargo, es importante tener en cuenta que esta métrica no tiene en cuenta otros factores como la calidad de los compañeros de equipo, la estrategia del equipo o el estilo de juego individual.\n",
    "\n",
    "- talla: Talla del jugador en cm\n",
    "- tiempo_juego: Tiempo en el juego en minutos\n",
    "- edad: Edad del jugador en años\n",
    "- puntos_porcen_minuto:     \n",
    "Puntos por minuto = Puntos anotados / Minutos jugados   \n",
    "Esta métrica puede ser útil para evaluar la capacidad anotadora de un jugador y su eficiencia en términos de puntos por tiempo en la cancha.\n"
   ]
  },
  {
   "cell_type": "markdown",
   "metadata": {},
   "source": [
    "### Analizamos la data"
   ]
  },
  {
   "cell_type": "code",
   "execution_count": 7,
   "metadata": {
    "tags": []
   },
   "outputs": [
    {
     "name": "stdout",
     "output_type": "stream",
     "text": [
      "<class 'pandas.core.frame.DataFrame'>\n",
      "RangeIndex: 96 entries, 0 to 95\n",
      "Data columns (total 7 columns):\n",
      " #   Column                 Non-Null Count  Dtype  \n",
      "---  ------                 --------------  -----  \n",
      " 0   nombres                96 non-null     object \n",
      " 1   apellidos              96 non-null     object \n",
      " 2   asisten_porcen_minuto  96 non-null     float64\n",
      " 3   talla                  96 non-null     int64  \n",
      " 4   tiempo_juego           96 non-null     float64\n",
      " 5   edad                   96 non-null     int64  \n",
      " 6   puntos_porcen_minuto   96 non-null     float64\n",
      "dtypes: float64(3), int64(2), object(2)\n",
      "memory usage: 5.4+ KB\n"
     ]
    }
   ],
   "source": [
    "basket.info()"
   ]
  },
  {
   "cell_type": "code",
   "execution_count": 8,
   "metadata": {
    "tags": []
   },
   "outputs": [
    {
     "data": {
      "text/plain": [
       "<seaborn.axisgrid.PairGrid at 0x1b4b0028dc0>"
      ]
     },
     "execution_count": 8,
     "metadata": {},
     "output_type": "execute_result"
    },
    {
     "data": {
      "image/png": "[encoded data removed]",
      "text/plain": [
       "<Figure size 1250x1250 with 30 Axes>"
      ]
     },
     "metadata": {},
     "output_type": "display_data"
    }
   ],
   "source": [
    "sns.pairplot(basket)"
   ]
  },
  {
   "cell_type": "code",
   "execution_count": 9,
   "metadata": {
    "tags": []
   },
   "outputs": [
    {
     "data": {
      "text/plain": [
       "<seaborn.axisgrid.PairGrid at 0x1b4b23a08b0>"
      ]
     },
     "execution_count": 9,
     "metadata": {},
     "output_type": "execute_result"
    },
    {
     "data": {
      "image/png": "[encoded data removed]",
      "text/plain": [
       "<Figure size 1250x1250 with 20 Axes>"
      ]
     },
     "metadata": {},
     "output_type": "display_data"
    }
   ],
   "source": [
    "sns.pairplot(basket, corner=True)"
   ]
  },
  {
   "cell_type": "code",
   "execution_count": 10,
   "metadata": {
    "tags": []
   },
   "outputs": [
    {
     "data": {
      "text/html": [
       "<div>\n",
       "<style scoped>\n",
       "    .dataframe tbody tr th:only-of-type {\n",
       "        vertical-align: middle;\n",
       "    }\n",
       "\n",
       "    .dataframe tbody tr th {\n",
       "        vertical-align: top;\n",
       "    }\n",
       "\n",
       "    .dataframe thead th {\n",
       "        text-align: right;\n",
       "    }\n",
       "</style>\n",
       "<table border=\"1\" class=\"dataframe\">\n",
       "  <thead>\n",
       "    <tr style=\"text-align: right;\">\n",
       "      <th></th>\n",
       "      <th>asisten_porcen_minuto</th>\n",
       "      <th>talla</th>\n",
       "      <th>tiempo_juego</th>\n",
       "      <th>edad</th>\n",
       "      <th>puntos_porcen_minuto</th>\n",
       "    </tr>\n",
       "  </thead>\n",
       "  <tbody>\n",
       "    <tr>\n",
       "      <th>count</th>\n",
       "      <td>96.000000</td>\n",
       "      <td>96.000000</td>\n",
       "      <td>96.000000</td>\n",
       "      <td>96.000000</td>\n",
       "      <td>96.000000</td>\n",
       "    </tr>\n",
       "    <tr>\n",
       "      <th>mean</th>\n",
       "      <td>0.161289</td>\n",
       "      <td>189.875000</td>\n",
       "      <td>25.944375</td>\n",
       "      <td>27.739583</td>\n",
       "      <td>0.420268</td>\n",
       "    </tr>\n",
       "    <tr>\n",
       "      <th>std</th>\n",
       "      <td>0.059793</td>\n",
       "      <td>6.960414</td>\n",
       "      <td>8.621110</td>\n",
       "      <td>3.325325</td>\n",
       "      <td>0.108863</td>\n",
       "    </tr>\n",
       "    <tr>\n",
       "      <th>min</th>\n",
       "      <td>0.049400</td>\n",
       "      <td>160.000000</td>\n",
       "      <td>10.080000</td>\n",
       "      <td>22.000000</td>\n",
       "      <td>0.159300</td>\n",
       "    </tr>\n",
       "    <tr>\n",
       "      <th>25%</th>\n",
       "      <td>0.109825</td>\n",
       "      <td>185.000000</td>\n",
       "      <td>18.852500</td>\n",
       "      <td>25.000000</td>\n",
       "      <td>0.338425</td>\n",
       "    </tr>\n",
       "    <tr>\n",
       "      <th>50%</th>\n",
       "      <td>0.158400</td>\n",
       "      <td>191.000000</td>\n",
       "      <td>25.710000</td>\n",
       "      <td>27.000000</td>\n",
       "      <td>0.428250</td>\n",
       "    </tr>\n",
       "    <tr>\n",
       "      <th>75%</th>\n",
       "      <td>0.209475</td>\n",
       "      <td>196.000000</td>\n",
       "      <td>33.935000</td>\n",
       "      <td>30.000000</td>\n",
       "      <td>0.483075</td>\n",
       "    </tr>\n",
       "    <tr>\n",
       "      <th>max</th>\n",
       "      <td>0.343700</td>\n",
       "      <td>203.000000</td>\n",
       "      <td>40.710000</td>\n",
       "      <td>37.000000</td>\n",
       "      <td>0.829100</td>\n",
       "    </tr>\n",
       "  </tbody>\n",
       "</table>\n",
       "</div>"
      ],
      "text/plain": [
       "       asisten_porcen_minuto       talla  tiempo_juego       edad  \\\n",
       "count              96.000000   96.000000     96.000000  96.000000   \n",
       "mean                0.161289  189.875000     25.944375  27.739583   \n",
       "std                 0.059793    6.960414      8.621110   3.325325   \n",
       "min                 0.049400  160.000000     10.080000  22.000000   \n",
       "25%                 0.109825  185.000000     18.852500  25.000000   \n",
       "50%                 0.158400  191.000000     25.710000  27.000000   \n",
       "75%                 0.209475  196.000000     33.935000  30.000000   \n",
       "max                 0.343700  203.000000     40.710000  37.000000   \n",
       "\n",
       "       puntos_porcen_minuto  \n",
       "count             96.000000  \n",
       "mean               0.420268  \n",
       "std                0.108863  \n",
       "min                0.159300  \n",
       "25%                0.338425  \n",
       "50%                0.428250  \n",
       "75%                0.483075  \n",
       "max                0.829100  "
      ]
     },
     "execution_count": 10,
     "metadata": {},
     "output_type": "execute_result"
    }
   ],
   "source": [
    "basket.describe()"
   ]
  },
  {
   "cell_type": "code",
   "execution_count": 11,
   "metadata": {
    "tags": []
   },
   "outputs": [
    {
     "data": {
      "text/html": [
       "<div>\n",
       "<style scoped>\n",
       "    .dataframe tbody tr th:only-of-type {\n",
       "        vertical-align: middle;\n",
       "    }\n",
       "\n",
       "    .dataframe tbody tr th {\n",
       "        vertical-align: top;\n",
       "    }\n",
       "\n",
       "    .dataframe thead th {\n",
       "        text-align: right;\n",
       "    }\n",
       "</style>\n",
       "<table border=\"1\" class=\"dataframe\">\n",
       "  <thead>\n",
       "    <tr style=\"text-align: right;\">\n",
       "      <th></th>\n",
       "      <th>nombres</th>\n",
       "      <th>apellidos</th>\n",
       "    </tr>\n",
       "  </thead>\n",
       "  <tbody>\n",
       "    <tr>\n",
       "      <th>count</th>\n",
       "      <td>96</td>\n",
       "      <td>96</td>\n",
       "    </tr>\n",
       "    <tr>\n",
       "      <th>unique</th>\n",
       "      <td>93</td>\n",
       "      <td>87</td>\n",
       "    </tr>\n",
       "    <tr>\n",
       "      <th>top</th>\n",
       "      <td>Kevin</td>\n",
       "      <td>Sanchez</td>\n",
       "    </tr>\n",
       "    <tr>\n",
       "      <th>freq</th>\n",
       "      <td>3</td>\n",
       "      <td>3</td>\n",
       "    </tr>\n",
       "  </tbody>\n",
       "</table>\n",
       "</div>"
      ],
      "text/plain": [
       "       nombres apellidos\n",
       "count       96        96\n",
       "unique      93        87\n",
       "top      Kevin   Sanchez\n",
       "freq         3         3"
      ]
     },
     "execution_count": 11,
     "metadata": {},
     "output_type": "execute_result"
    }
   ],
   "source": [
    "basket.describe(include=['object'])"
   ]
  },
  {
   "cell_type": "code",
   "execution_count": 12,
   "metadata": {
    "tags": []
   },
   "outputs": [
    {
     "data": {
      "text/html": [
       "<div>\n",
       "<style scoped>\n",
       "    .dataframe tbody tr th:only-of-type {\n",
       "        vertical-align: middle;\n",
       "    }\n",
       "\n",
       "    .dataframe tbody tr th {\n",
       "        vertical-align: top;\n",
       "    }\n",
       "\n",
       "    .dataframe thead th {\n",
       "        text-align: right;\n",
       "    }\n",
       "</style>\n",
       "<table border=\"1\" class=\"dataframe\">\n",
       "  <thead>\n",
       "    <tr style=\"text-align: right;\">\n",
       "      <th></th>\n",
       "      <th>nombres</th>\n",
       "      <th>apellidos</th>\n",
       "      <th>asisten_porcen_minuto</th>\n",
       "      <th>talla</th>\n",
       "      <th>tiempo_juego</th>\n",
       "      <th>edad</th>\n",
       "      <th>puntos_porcen_minuto</th>\n",
       "    </tr>\n",
       "  </thead>\n",
       "  <tbody>\n",
       "    <tr>\n",
       "      <th>2</th>\n",
       "      <td>Kevin</td>\n",
       "      <td>Williams</td>\n",
       "      <td>0.0747</td>\n",
       "      <td>198</td>\n",
       "      <td>38.80</td>\n",
       "      <td>26</td>\n",
       "      <td>0.4974</td>\n",
       "    </tr>\n",
       "    <tr>\n",
       "      <th>67</th>\n",
       "      <td>Kevin</td>\n",
       "      <td>Kelly</td>\n",
       "      <td>0.2187</td>\n",
       "      <td>191</td>\n",
       "      <td>21.95</td>\n",
       "      <td>28</td>\n",
       "      <td>0.3007</td>\n",
       "    </tr>\n",
       "    <tr>\n",
       "      <th>90</th>\n",
       "      <td>Kevin</td>\n",
       "      <td>Cox</td>\n",
       "      <td>0.1706</td>\n",
       "      <td>170</td>\n",
       "      <td>17.00</td>\n",
       "      <td>25</td>\n",
       "      <td>0.5059</td>\n",
       "    </tr>\n",
       "  </tbody>\n",
       "</table>\n",
       "</div>"
      ],
      "text/plain": [
       "   nombres apellidos  asisten_porcen_minuto  talla  tiempo_juego  edad  \\\n",
       "2    Kevin  Williams                 0.0747    198         38.80    26   \n",
       "67   Kevin     Kelly                 0.2187    191         21.95    28   \n",
       "90   Kevin       Cox                 0.1706    170         17.00    25   \n",
       "\n",
       "    puntos_porcen_minuto  \n",
       "2                 0.4974  \n",
       "67                0.3007  \n",
       "90                0.5059  "
      ]
     },
     "execution_count": 12,
     "metadata": {},
     "output_type": "execute_result"
    }
   ],
   "source": [
    "basket[basket['nombres']=='Kevin']"
   ]
  },
  {
   "cell_type": "code",
   "execution_count": 13,
   "metadata": {
    "tags": []
   },
   "outputs": [
    {
     "data": {
      "text/html": [
       "<div>\n",
       "<style scoped>\n",
       "    .dataframe tbody tr th:only-of-type {\n",
       "        vertical-align: middle;\n",
       "    }\n",
       "\n",
       "    .dataframe tbody tr th {\n",
       "        vertical-align: top;\n",
       "    }\n",
       "\n",
       "    .dataframe thead th {\n",
       "        text-align: right;\n",
       "    }\n",
       "</style>\n",
       "<table border=\"1\" class=\"dataframe\">\n",
       "  <thead>\n",
       "    <tr style=\"text-align: right;\">\n",
       "      <th></th>\n",
       "      <th>nombres</th>\n",
       "      <th>apellidos</th>\n",
       "      <th>asisten_porcen_minuto</th>\n",
       "      <th>talla</th>\n",
       "      <th>tiempo_juego</th>\n",
       "      <th>edad</th>\n",
       "      <th>puntos_porcen_minuto</th>\n",
       "    </tr>\n",
       "  </thead>\n",
       "  <tbody>\n",
       "    <tr>\n",
       "      <th>31</th>\n",
       "      <td>Deandre</td>\n",
       "      <td>Sanchez</td>\n",
       "      <td>0.3437</td>\n",
       "      <td>185</td>\n",
       "      <td>34.91</td>\n",
       "      <td>31</td>\n",
       "      <td>0.4325</td>\n",
       "    </tr>\n",
       "    <tr>\n",
       "      <th>89</th>\n",
       "      <td>Keldon</td>\n",
       "      <td>Sanchez</td>\n",
       "      <td>0.1994</td>\n",
       "      <td>188</td>\n",
       "      <td>20.06</td>\n",
       "      <td>27</td>\n",
       "      <td>0.4187</td>\n",
       "    </tr>\n",
       "    <tr>\n",
       "      <th>93</th>\n",
       "      <td>Luis</td>\n",
       "      <td>Sanchez</td>\n",
       "      <td>0.1778</td>\n",
       "      <td>185</td>\n",
       "      <td>18.56</td>\n",
       "      <td>23</td>\n",
       "      <td>0.2802</td>\n",
       "    </tr>\n",
       "  </tbody>\n",
       "</table>\n",
       "</div>"
      ],
      "text/plain": [
       "    nombres apellidos  asisten_porcen_minuto  talla  tiempo_juego  edad  \\\n",
       "31  Deandre   Sanchez                 0.3437    185         34.91    31   \n",
       "89   Keldon   Sanchez                 0.1994    188         20.06    27   \n",
       "93     Luis   Sanchez                 0.1778    185         18.56    23   \n",
       "\n",
       "    puntos_porcen_minuto  \n",
       "31                0.4325  \n",
       "89                0.4187  \n",
       "93                0.2802  "
      ]
     },
     "execution_count": 13,
     "metadata": {},
     "output_type": "execute_result"
    }
   ],
   "source": [
    "basket[basket['apellidos']=='Sanchez']"
   ]
  },
  {
   "cell_type": "code",
   "execution_count": 14,
   "metadata": {
    "tags": []
   },
   "outputs": [],
   "source": [
    "identificadores = basket[['nombres','apellidos']]\n",
    "basket = basket[['asisten_porcen_minuto','talla','tiempo_juego','edad',\t'puntos_porcen_minuto']]"
   ]
  },
  {
   "cell_type": "code",
   "execution_count": 15,
   "metadata": {
    "tags": []
   },
   "outputs": [
    {
     "data": {
      "text/html": [
       "<div>\n",
       "<style scoped>\n",
       "    .dataframe tbody tr th:only-of-type {\n",
       "        vertical-align: middle;\n",
       "    }\n",
       "\n",
       "    .dataframe tbody tr th {\n",
       "        vertical-align: top;\n",
       "    }\n",
       "\n",
       "    .dataframe thead th {\n",
       "        text-align: right;\n",
       "    }\n",
       "</style>\n",
       "<table border=\"1\" class=\"dataframe\">\n",
       "  <thead>\n",
       "    <tr style=\"text-align: right;\">\n",
       "      <th></th>\n",
       "      <th>nombres</th>\n",
       "      <th>apellidos</th>\n",
       "    </tr>\n",
       "  </thead>\n",
       "  <tbody>\n",
       "    <tr>\n",
       "      <th>0</th>\n",
       "      <td>James</td>\n",
       "      <td>Smith</td>\n",
       "    </tr>\n",
       "    <tr>\n",
       "      <th>1</th>\n",
       "      <td>Stephen</td>\n",
       "      <td>Johnson</td>\n",
       "    </tr>\n",
       "    <tr>\n",
       "      <th>2</th>\n",
       "      <td>Kevin</td>\n",
       "      <td>Williams</td>\n",
       "    </tr>\n",
       "    <tr>\n",
       "      <th>3</th>\n",
       "      <td>Giannis</td>\n",
       "      <td>Brown</td>\n",
       "    </tr>\n",
       "    <tr>\n",
       "      <th>4</th>\n",
       "      <td>LeBron</td>\n",
       "      <td>Jones</td>\n",
       "    </tr>\n",
       "    <tr>\n",
       "      <th>...</th>\n",
       "      <td>...</td>\n",
       "      <td>...</td>\n",
       "    </tr>\n",
       "    <tr>\n",
       "      <th>91</th>\n",
       "      <td>Jorge</td>\n",
       "      <td>Diaz</td>\n",
       "    </tr>\n",
       "    <tr>\n",
       "      <th>92</th>\n",
       "      <td>Manuel</td>\n",
       "      <td>Richardson</td>\n",
       "    </tr>\n",
       "    <tr>\n",
       "      <th>93</th>\n",
       "      <td>Luis</td>\n",
       "      <td>Sanchez</td>\n",
       "    </tr>\n",
       "    <tr>\n",
       "      <th>94</th>\n",
       "      <td>Felix</td>\n",
       "      <td>Wright</td>\n",
       "    </tr>\n",
       "    <tr>\n",
       "      <th>95</th>\n",
       "      <td>Alex</td>\n",
       "      <td>King</td>\n",
       "    </tr>\n",
       "  </tbody>\n",
       "</table>\n",
       "<p>96 rows × 2 columns</p>\n",
       "</div>"
      ],
      "text/plain": [
       "    nombres   apellidos\n",
       "0     James       Smith\n",
       "1   Stephen     Johnson\n",
       "2     Kevin    Williams\n",
       "3   Giannis       Brown\n",
       "4    LeBron       Jones\n",
       "..      ...         ...\n",
       "91    Jorge        Diaz\n",
       "92   Manuel  Richardson\n",
       "93     Luis     Sanchez\n",
       "94    Felix      Wright\n",
       "95     Alex        King\n",
       "\n",
       "[96 rows x 2 columns]"
      ]
     },
     "execution_count": 15,
     "metadata": {},
     "output_type": "execute_result"
    }
   ],
   "source": [
    "identificadores"
   ]
  },
  {
   "cell_type": "code",
   "execution_count": 16,
   "metadata": {
    "tags": []
   },
   "outputs": [
    {
     "data": {
      "text/html": [
       "<div>\n",
       "<style scoped>\n",
       "    .dataframe tbody tr th:only-of-type {\n",
       "        vertical-align: middle;\n",
       "    }\n",
       "\n",
       "    .dataframe tbody tr th {\n",
       "        vertical-align: top;\n",
       "    }\n",
       "\n",
       "    .dataframe thead th {\n",
       "        text-align: right;\n",
       "    }\n",
       "</style>\n",
       "<table border=\"1\" class=\"dataframe\">\n",
       "  <thead>\n",
       "    <tr style=\"text-align: right;\">\n",
       "      <th></th>\n",
       "      <th>asisten_porcen_minuto</th>\n",
       "      <th>talla</th>\n",
       "      <th>tiempo_juego</th>\n",
       "      <th>edad</th>\n",
       "      <th>puntos_porcen_minuto</th>\n",
       "    </tr>\n",
       "  </thead>\n",
       "  <tbody>\n",
       "    <tr>\n",
       "      <th>0</th>\n",
       "      <td>0.0888</td>\n",
       "      <td>201</td>\n",
       "      <td>36.02</td>\n",
       "      <td>28</td>\n",
       "      <td>0.5885</td>\n",
       "    </tr>\n",
       "    <tr>\n",
       "      <th>1</th>\n",
       "      <td>0.1399</td>\n",
       "      <td>198</td>\n",
       "      <td>39.32</td>\n",
       "      <td>30</td>\n",
       "      <td>0.8291</td>\n",
       "    </tr>\n",
       "    <tr>\n",
       "      <th>2</th>\n",
       "      <td>0.0747</td>\n",
       "      <td>198</td>\n",
       "      <td>38.80</td>\n",
       "      <td>26</td>\n",
       "      <td>0.4974</td>\n",
       "    </tr>\n",
       "    <tr>\n",
       "      <th>3</th>\n",
       "      <td>0.0983</td>\n",
       "      <td>191</td>\n",
       "      <td>40.71</td>\n",
       "      <td>30</td>\n",
       "      <td>0.5772</td>\n",
       "    </tr>\n",
       "    <tr>\n",
       "      <th>4</th>\n",
       "      <td>0.1276</td>\n",
       "      <td>196</td>\n",
       "      <td>38.40</td>\n",
       "      <td>28</td>\n",
       "      <td>0.5703</td>\n",
       "    </tr>\n",
       "    <tr>\n",
       "      <th>...</th>\n",
       "      <td>...</td>\n",
       "      <td>...</td>\n",
       "      <td>...</td>\n",
       "      <td>...</td>\n",
       "      <td>...</td>\n",
       "    </tr>\n",
       "    <tr>\n",
       "      <th>91</th>\n",
       "      <td>0.1554</td>\n",
       "      <td>183</td>\n",
       "      <td>11.58</td>\n",
       "      <td>24</td>\n",
       "      <td>0.3195</td>\n",
       "    </tr>\n",
       "    <tr>\n",
       "      <th>92</th>\n",
       "      <td>0.2282</td>\n",
       "      <td>185</td>\n",
       "      <td>10.08</td>\n",
       "      <td>24</td>\n",
       "      <td>0.2381</td>\n",
       "    </tr>\n",
       "    <tr>\n",
       "      <th>93</th>\n",
       "      <td>0.1778</td>\n",
       "      <td>185</td>\n",
       "      <td>18.56</td>\n",
       "      <td>23</td>\n",
       "      <td>0.2802</td>\n",
       "    </tr>\n",
       "    <tr>\n",
       "      <th>94</th>\n",
       "      <td>0.1863</td>\n",
       "      <td>185</td>\n",
       "      <td>11.81</td>\n",
       "      <td>23</td>\n",
       "      <td>0.3810</td>\n",
       "    </tr>\n",
       "    <tr>\n",
       "      <th>95</th>\n",
       "      <td>0.1014</td>\n",
       "      <td>193</td>\n",
       "      <td>13.81</td>\n",
       "      <td>32</td>\n",
       "      <td>0.1593</td>\n",
       "    </tr>\n",
       "  </tbody>\n",
       "</table>\n",
       "<p>96 rows × 5 columns</p>\n",
       "</div>"
      ],
      "text/plain": [
       "    asisten_porcen_minuto  talla  tiempo_juego  edad  puntos_porcen_minuto\n",
       "0                  0.0888    201         36.02    28                0.5885\n",
       "1                  0.1399    198         39.32    30                0.8291\n",
       "2                  0.0747    198         38.80    26                0.4974\n",
       "3                  0.0983    191         40.71    30                0.5772\n",
       "4                  0.1276    196         38.40    28                0.5703\n",
       "..                    ...    ...           ...   ...                   ...\n",
       "91                 0.1554    183         11.58    24                0.3195\n",
       "92                 0.2282    185         10.08    24                0.2381\n",
       "93                 0.1778    185         18.56    23                0.2802\n",
       "94                 0.1863    185         11.81    23                0.3810\n",
       "95                 0.1014    193         13.81    32                0.1593\n",
       "\n",
       "[96 rows x 5 columns]"
      ]
     },
     "execution_count": 16,
     "metadata": {},
     "output_type": "execute_result"
    }
   ],
   "source": [
    "basket"
   ]
  },
  {
   "cell_type": "markdown",
   "metadata": {},
   "source": [
    "## Clustering Jerarquico"
   ]
  },
  {
   "cell_type": "markdown",
   "metadata": {},
   "source": [
    "### Normalizamos los datos\n",
    "La normalización es un cambio de escala de los datos del rango original para que todos los valores estén dentro del nuevo rango de 0 y 1. \n",
    "$$x_{normalizado}= (x – min) / (max – min)$$  \n",
    "Donde los valores mínimo y máximo pertenecen al valor x que se está normalizando."
   ]
  },
  {
   "cell_type": "code",
   "execution_count": 17,
   "metadata": {
    "tags": []
   },
   "outputs": [
    {
     "data": {
      "text/html": [
       "<div>\n",
       "<style scoped>\n",
       "    .dataframe tbody tr th:only-of-type {\n",
       "        vertical-align: middle;\n",
       "    }\n",
       "\n",
       "    .dataframe tbody tr th {\n",
       "        vertical-align: top;\n",
       "    }\n",
       "\n",
       "    .dataframe thead th {\n",
       "        text-align: right;\n",
       "    }\n",
       "</style>\n",
       "<table border=\"1\" class=\"dataframe\">\n",
       "  <thead>\n",
       "    <tr style=\"text-align: right;\">\n",
       "      <th></th>\n",
       "      <th>asisten_porcen_minuto</th>\n",
       "      <th>talla</th>\n",
       "      <th>tiempo_juego</th>\n",
       "      <th>edad</th>\n",
       "      <th>puntos_porcen_minuto</th>\n",
       "    </tr>\n",
       "  </thead>\n",
       "  <tbody>\n",
       "    <tr>\n",
       "      <th>0</th>\n",
       "      <td>0.133877</td>\n",
       "      <td>0.953488</td>\n",
       "      <td>0.846882</td>\n",
       "      <td>0.400000</td>\n",
       "      <td>0.640788</td>\n",
       "    </tr>\n",
       "    <tr>\n",
       "      <th>1</th>\n",
       "      <td>0.307509</td>\n",
       "      <td>0.883721</td>\n",
       "      <td>0.954620</td>\n",
       "      <td>0.533333</td>\n",
       "      <td>1.000000</td>\n",
       "    </tr>\n",
       "    <tr>\n",
       "      <th>2</th>\n",
       "      <td>0.085967</td>\n",
       "      <td>0.883721</td>\n",
       "      <td>0.937643</td>\n",
       "      <td>0.266667</td>\n",
       "      <td>0.504778</td>\n",
       "    </tr>\n",
       "    <tr>\n",
       "      <th>3</th>\n",
       "      <td>0.166157</td>\n",
       "      <td>0.720930</td>\n",
       "      <td>1.000000</td>\n",
       "      <td>0.533333</td>\n",
       "      <td>0.623918</td>\n",
       "    </tr>\n",
       "    <tr>\n",
       "      <th>4</th>\n",
       "      <td>0.265715</td>\n",
       "      <td>0.837209</td>\n",
       "      <td>0.924584</td>\n",
       "      <td>0.400000</td>\n",
       "      <td>0.613616</td>\n",
       "    </tr>\n",
       "    <tr>\n",
       "      <th>5</th>\n",
       "      <td>0.399932</td>\n",
       "      <td>0.953488</td>\n",
       "      <td>0.784198</td>\n",
       "      <td>0.600000</td>\n",
       "      <td>0.633323</td>\n",
       "    </tr>\n",
       "    <tr>\n",
       "      <th>6</th>\n",
       "      <td>0.479783</td>\n",
       "      <td>0.767442</td>\n",
       "      <td>0.852759</td>\n",
       "      <td>0.533333</td>\n",
       "      <td>0.549866</td>\n",
       "    </tr>\n",
       "    <tr>\n",
       "      <th>7</th>\n",
       "      <td>0.192661</td>\n",
       "      <td>0.720930</td>\n",
       "      <td>0.870715</td>\n",
       "      <td>0.333333</td>\n",
       "      <td>0.586742</td>\n",
       "    </tr>\n",
       "    <tr>\n",
       "      <th>8</th>\n",
       "      <td>0.663269</td>\n",
       "      <td>0.581395</td>\n",
       "      <td>0.925563</td>\n",
       "      <td>0.466667</td>\n",
       "      <td>0.360406</td>\n",
       "    </tr>\n",
       "    <tr>\n",
       "      <th>9</th>\n",
       "      <td>0.399592</td>\n",
       "      <td>1.000000</td>\n",
       "      <td>0.765916</td>\n",
       "      <td>0.133333</td>\n",
       "      <td>0.474321</td>\n",
       "    </tr>\n",
       "  </tbody>\n",
       "</table>\n",
       "</div>"
      ],
      "text/plain": [
       "   asisten_porcen_minuto     talla  tiempo_juego      edad  \\\n",
       "0               0.133877  0.953488      0.846882  0.400000   \n",
       "1               0.307509  0.883721      0.954620  0.533333   \n",
       "2               0.085967  0.883721      0.937643  0.266667   \n",
       "3               0.166157  0.720930      1.000000  0.533333   \n",
       "4               0.265715  0.837209      0.924584  0.400000   \n",
       "5               0.399932  0.953488      0.784198  0.600000   \n",
       "6               0.479783  0.767442      0.852759  0.533333   \n",
       "7               0.192661  0.720930      0.870715  0.333333   \n",
       "8               0.663269  0.581395      0.925563  0.466667   \n",
       "9               0.399592  1.000000      0.765916  0.133333   \n",
       "\n",
       "   puntos_porcen_minuto  \n",
       "0              0.640788  \n",
       "1              1.000000  \n",
       "2              0.504778  \n",
       "3              0.623918  \n",
       "4              0.613616  \n",
       "5              0.633323  \n",
       "6              0.549866  \n",
       "7              0.586742  \n",
       "8              0.360406  \n",
       "9              0.474321  "
      ]
     },
     "execution_count": 17,
     "metadata": {},
     "output_type": "execute_result"
    }
   ],
   "source": [
    "from sklearn.preprocessing import MinMaxScaler\n",
    "\n",
    "# MinMaxScaler: Transforme las variables escalando cada una de ellas a un rango determinado.\n",
    "scaler = MinMaxScaler(feature_range=(0, 1))\n",
    "scaler = scaler.fit(basket)\n",
    "\n",
    "# Aplicar la transformación de normalización a los datos en basket\n",
    "normalized = scaler.transform(basket)\n",
    "\n",
    "normalized1 = pd.DataFrame(normalized,columns=list(basket.columns))\n",
    "zscore_df = normalized1\n",
    "zscore_df.head(10)"
   ]
  },
  {
   "cell_type": "markdown",
   "metadata": {},
   "source": [
    "### Estandarizamos los datos\n",
    "Un valor se estandariza de la siguiente manera: \n",
    "$$x_{estadarizado} = (x – media) / sd$$\n",
    "\n",
    "Donde la media se calcula como: $$media = suma(x) / cuenta(x)$$ Y la desviación_estándar se calcula como: $$sd = raíz cuadrada (suma ((x – media) ^ 2) / cuenta (x))$$"
   ]
  },
  {
   "cell_type": "code",
   "execution_count": 18,
   "metadata": {
    "tags": []
   },
   "outputs": [
    {
     "data": {
      "text/html": [
       "<div>\n",
       "<style scoped>\n",
       "    .dataframe tbody tr th:only-of-type {\n",
       "        vertical-align: middle;\n",
       "    }\n",
       "\n",
       "    .dataframe tbody tr th {\n",
       "        vertical-align: top;\n",
       "    }\n",
       "\n",
       "    .dataframe thead th {\n",
       "        text-align: right;\n",
       "    }\n",
       "</style>\n",
       "<table border=\"1\" class=\"dataframe\">\n",
       "  <thead>\n",
       "    <tr style=\"text-align: right;\">\n",
       "      <th></th>\n",
       "      <th>asisten_porcen_minuto</th>\n",
       "      <th>talla</th>\n",
       "      <th>tiempo_juego</th>\n",
       "      <th>edad</th>\n",
       "      <th>puntos_porcen_minuto</th>\n",
       "    </tr>\n",
       "  </thead>\n",
       "  <tbody>\n",
       "    <tr>\n",
       "      <th>0</th>\n",
       "      <td>-1.218687</td>\n",
       "      <td>1.606715</td>\n",
       "      <td>1.174850</td>\n",
       "      <td>0.078724</td>\n",
       "      <td>1.553464</td>\n",
       "    </tr>\n",
       "    <tr>\n",
       "      <th>1</th>\n",
       "      <td>-0.359587</td>\n",
       "      <td>1.173443</td>\n",
       "      <td>1.559641</td>\n",
       "      <td>0.683326</td>\n",
       "      <td>3.775175</td>\n",
       "    </tr>\n",
       "    <tr>\n",
       "      <th>2</th>\n",
       "      <td>-1.455738</td>\n",
       "      <td>1.173443</td>\n",
       "      <td>1.499007</td>\n",
       "      <td>-0.525878</td>\n",
       "      <td>0.712243</td>\n",
       "    </tr>\n",
       "    <tr>\n",
       "      <th>3</th>\n",
       "      <td>-1.058972</td>\n",
       "      <td>0.162477</td>\n",
       "      <td>1.721720</td>\n",
       "      <td>0.683326</td>\n",
       "      <td>1.449120</td>\n",
       "    </tr>\n",
       "    <tr>\n",
       "      <th>4</th>\n",
       "      <td>-0.566376</td>\n",
       "      <td>0.884596</td>\n",
       "      <td>1.452366</td>\n",
       "      <td>0.078724</td>\n",
       "      <td>1.385405</td>\n",
       "    </tr>\n",
       "    <tr>\n",
       "      <th>5</th>\n",
       "      <td>0.097703</td>\n",
       "      <td>1.606715</td>\n",
       "      <td>0.950972</td>\n",
       "      <td>0.985628</td>\n",
       "      <td>1.507294</td>\n",
       "    </tr>\n",
       "    <tr>\n",
       "      <th>6</th>\n",
       "      <td>0.492788</td>\n",
       "      <td>0.451324</td>\n",
       "      <td>1.195839</td>\n",
       "      <td>0.683326</td>\n",
       "      <td>0.991111</td>\n",
       "    </tr>\n",
       "    <tr>\n",
       "      <th>7</th>\n",
       "      <td>-0.927837</td>\n",
       "      <td>0.162477</td>\n",
       "      <td>1.259971</td>\n",
       "      <td>-0.223577</td>\n",
       "      <td>1.219192</td>\n",
       "    </tr>\n",
       "    <tr>\n",
       "      <th>8</th>\n",
       "      <td>1.400643</td>\n",
       "      <td>-0.704066</td>\n",
       "      <td>1.455864</td>\n",
       "      <td>0.381025</td>\n",
       "      <td>-0.180689</td>\n",
       "    </tr>\n",
       "    <tr>\n",
       "      <th>9</th>\n",
       "      <td>0.096022</td>\n",
       "      <td>1.895562</td>\n",
       "      <td>0.885674</td>\n",
       "      <td>-1.130480</td>\n",
       "      <td>0.523868</td>\n",
       "    </tr>\n",
       "  </tbody>\n",
       "</table>\n",
       "</div>"
      ],
      "text/plain": [
       "   asisten_porcen_minuto     talla  tiempo_juego      edad  \\\n",
       "0              -1.218687  1.606715      1.174850  0.078724   \n",
       "1              -0.359587  1.173443      1.559641  0.683326   \n",
       "2              -1.455738  1.173443      1.499007 -0.525878   \n",
       "3              -1.058972  0.162477      1.721720  0.683326   \n",
       "4              -0.566376  0.884596      1.452366  0.078724   \n",
       "5               0.097703  1.606715      0.950972  0.985628   \n",
       "6               0.492788  0.451324      1.195839  0.683326   \n",
       "7              -0.927837  0.162477      1.259971 -0.223577   \n",
       "8               1.400643 -0.704066      1.455864  0.381025   \n",
       "9               0.096022  1.895562      0.885674 -1.130480   \n",
       "\n",
       "   puntos_porcen_minuto  \n",
       "0              1.553464  \n",
       "1              3.775175  \n",
       "2              0.712243  \n",
       "3              1.449120  \n",
       "4              1.385405  \n",
       "5              1.507294  \n",
       "6              0.991111  \n",
       "7              1.219192  \n",
       "8             -0.180689  \n",
       "9              0.523868  "
      ]
     },
     "execution_count": 18,
     "metadata": {},
     "output_type": "execute_result"
    }
   ],
   "source": [
    "from sklearn.preprocessing import StandardScaler\n",
    "\n",
    "scaler = StandardScaler()\n",
    "scaler = scaler.fit(basket)\n",
    "\n",
    "# Aplicar la transformación de estandarización a los datos en \"basket\"\n",
    "standarizar = scaler.transform(basket)\n",
    "\n",
    "standarizar1 = pd.DataFrame(standarizar,columns=list(basket.columns))\n",
    "zscore_df1 = standarizar1\n",
    "zscore_df1.head(10)"
   ]
  },
  {
   "cell_type": "markdown",
   "metadata": {},
   "source": [
    "## Dendograma"
   ]
  },
  {
   "cell_type": "code",
   "execution_count": 19,
   "metadata": {
    "tags": []
   },
   "outputs": [
    {
     "data": {
      "image/png": "[encoded data removed]",
      "text/plain": [
       "<Figure size 1600x800 with 1 Axes>"
      ]
     },
     "metadata": {},
     "output_type": "display_data"
    }
   ],
   "source": [
    "from scipy.cluster.hierarchy import dendrogram, linkage  \n",
    "from matplotlib import pyplot as plt\n",
    "\n",
    "seed = 16\n",
    "np.random.seed(seed)\n",
    "\n",
    "linked = linkage(zscore_df,method = 'ward')\n",
    "\n",
    "labelList = range(1, 11)\n",
    "\n",
    "plt.figure(figsize=(16, 8))  \n",
    "\n",
    "## Se genera el dendrograma utilizando la función dendrogram de scipy.cluster.hierarchy\n",
    "dendrogram(linked)\n",
    "plt.show()  "
   ]
  },
  {
   "cell_type": "markdown",
   "metadata": {},
   "source": [
    "## Construimos el Modelo Jerarquico con 4 cluster"
   ]
  },
  {
   "cell_type": "code",
   "execution_count": 20,
   "metadata": {
    "tags": []
   },
   "outputs": [
    {
     "data": {
      "text/plain": [
       "array([2, 2, 2, 2, 2, 2, 2, 2, 3, 2, 3, 2, 2, 2, 3, 1, 2, 3, 1, 2, 3, 2,\n",
       "       2, 2, 2, 3, 1, 2, 1, 3, 3, 3, 2, 3, 2, 3, 2, 1, 2, 0, 3, 1, 0, 0,\n",
       "       3, 3, 0, 0, 3, 3, 0, 3, 3, 0, 0, 0, 1, 0, 0, 3, 0, 0, 1, 0, 0, 1,\n",
       "       1, 0, 1, 3, 0, 1, 3, 0, 1, 0, 3, 0, 0, 0, 0, 0, 0, 1, 1, 0, 0, 0,\n",
       "       3, 0, 0, 0, 0, 0, 0, 1], dtype=int64)"
      ]
     },
     "execution_count": 20,
     "metadata": {},
     "output_type": "execute_result"
    }
   ],
   "source": [
    "from sklearn.cluster import AgglomerativeClustering\n",
    "\n",
    "seed = 16\n",
    "np.random.seed(seed)\n",
    "\n",
    "cluster_Ag = AgglomerativeClustering(n_clusters=4, affinity='euclidean', linkage='ward')  \n",
    "# ward: método de la varianza mínima. Tenemos otros como single, average, complete\n",
    "cluster_Ag.fit_predict(zscore_df)   ## Recordar que aca se reemplaza su dataframe"
   ]
  },
  {
   "cell_type": "code",
   "execution_count": 21,
   "metadata": {
    "tags": []
   },
   "outputs": [
    {
     "data": {
      "text/html": [
       "<div>\n",
       "<style scoped>\n",
       "    .dataframe tbody tr th:only-of-type {\n",
       "        vertical-align: middle;\n",
       "    }\n",
       "\n",
       "    .dataframe tbody tr th {\n",
       "        vertical-align: top;\n",
       "    }\n",
       "\n",
       "    .dataframe thead th {\n",
       "        text-align: right;\n",
       "    }\n",
       "</style>\n",
       "<table border=\"1\" class=\"dataframe\">\n",
       "  <thead>\n",
       "    <tr style=\"text-align: right;\">\n",
       "      <th></th>\n",
       "      <th>asisten_porcen_minuto</th>\n",
       "      <th>talla</th>\n",
       "      <th>tiempo_juego</th>\n",
       "      <th>edad</th>\n",
       "      <th>puntos_porcen_minuto</th>\n",
       "      <th>Cluster</th>\n",
       "    </tr>\n",
       "  </thead>\n",
       "  <tbody>\n",
       "    <tr>\n",
       "      <th>0</th>\n",
       "      <td>0.0888</td>\n",
       "      <td>201</td>\n",
       "      <td>36.02</td>\n",
       "      <td>28</td>\n",
       "      <td>0.5885</td>\n",
       "      <td>2</td>\n",
       "    </tr>\n",
       "    <tr>\n",
       "      <th>1</th>\n",
       "      <td>0.1399</td>\n",
       "      <td>198</td>\n",
       "      <td>39.32</td>\n",
       "      <td>30</td>\n",
       "      <td>0.8291</td>\n",
       "      <td>2</td>\n",
       "    </tr>\n",
       "    <tr>\n",
       "      <th>2</th>\n",
       "      <td>0.0747</td>\n",
       "      <td>198</td>\n",
       "      <td>38.80</td>\n",
       "      <td>26</td>\n",
       "      <td>0.4974</td>\n",
       "      <td>2</td>\n",
       "    </tr>\n",
       "    <tr>\n",
       "      <th>3</th>\n",
       "      <td>0.0983</td>\n",
       "      <td>191</td>\n",
       "      <td>40.71</td>\n",
       "      <td>30</td>\n",
       "      <td>0.5772</td>\n",
       "      <td>2</td>\n",
       "    </tr>\n",
       "    <tr>\n",
       "      <th>4</th>\n",
       "      <td>0.1276</td>\n",
       "      <td>196</td>\n",
       "      <td>38.40</td>\n",
       "      <td>28</td>\n",
       "      <td>0.5703</td>\n",
       "      <td>2</td>\n",
       "    </tr>\n",
       "    <tr>\n",
       "      <th>...</th>\n",
       "      <td>...</td>\n",
       "      <td>...</td>\n",
       "      <td>...</td>\n",
       "      <td>...</td>\n",
       "      <td>...</td>\n",
       "      <td>...</td>\n",
       "    </tr>\n",
       "    <tr>\n",
       "      <th>91</th>\n",
       "      <td>0.1554</td>\n",
       "      <td>183</td>\n",
       "      <td>11.58</td>\n",
       "      <td>24</td>\n",
       "      <td>0.3195</td>\n",
       "      <td>0</td>\n",
       "    </tr>\n",
       "    <tr>\n",
       "      <th>92</th>\n",
       "      <td>0.2282</td>\n",
       "      <td>185</td>\n",
       "      <td>10.08</td>\n",
       "      <td>24</td>\n",
       "      <td>0.2381</td>\n",
       "      <td>0</td>\n",
       "    </tr>\n",
       "    <tr>\n",
       "      <th>93</th>\n",
       "      <td>0.1778</td>\n",
       "      <td>185</td>\n",
       "      <td>18.56</td>\n",
       "      <td>23</td>\n",
       "      <td>0.2802</td>\n",
       "      <td>0</td>\n",
       "    </tr>\n",
       "    <tr>\n",
       "      <th>94</th>\n",
       "      <td>0.1863</td>\n",
       "      <td>185</td>\n",
       "      <td>11.81</td>\n",
       "      <td>23</td>\n",
       "      <td>0.3810</td>\n",
       "      <td>0</td>\n",
       "    </tr>\n",
       "    <tr>\n",
       "      <th>95</th>\n",
       "      <td>0.1014</td>\n",
       "      <td>193</td>\n",
       "      <td>13.81</td>\n",
       "      <td>32</td>\n",
       "      <td>0.1593</td>\n",
       "      <td>1</td>\n",
       "    </tr>\n",
       "  </tbody>\n",
       "</table>\n",
       "<p>96 rows × 6 columns</p>\n",
       "</div>"
      ],
      "text/plain": [
       "    asisten_porcen_minuto  talla  tiempo_juego  edad  puntos_porcen_minuto  \\\n",
       "0                  0.0888    201         36.02    28                0.5885   \n",
       "1                  0.1399    198         39.32    30                0.8291   \n",
       "2                  0.0747    198         38.80    26                0.4974   \n",
       "3                  0.0983    191         40.71    30                0.5772   \n",
       "4                  0.1276    196         38.40    28                0.5703   \n",
       "..                    ...    ...           ...   ...                   ...   \n",
       "91                 0.1554    183         11.58    24                0.3195   \n",
       "92                 0.2282    185         10.08    24                0.2381   \n",
       "93                 0.1778    185         18.56    23                0.2802   \n",
       "94                 0.1863    185         11.81    23                0.3810   \n",
       "95                 0.1014    193         13.81    32                0.1593   \n",
       "\n",
       "    Cluster  \n",
       "0         2  \n",
       "1         2  \n",
       "2         2  \n",
       "3         2  \n",
       "4         2  \n",
       "..      ...  \n",
       "91        0  \n",
       "92        0  \n",
       "93        0  \n",
       "94        0  \n",
       "95        1  \n",
       "\n",
       "[96 rows x 6 columns]"
      ]
     },
     "execution_count": 21,
     "metadata": {},
     "output_type": "execute_result"
    }
   ],
   "source": [
    "label_ag = pd.DataFrame(cluster_Ag.labels_,columns= ['Cluster'])\n",
    "cluster_Jerarq = pd.concat([basket,label_ag['Cluster']], axis=1)\n",
    "cluster_Jerarq"
   ]
  },
  {
   "cell_type": "code",
   "execution_count": 22,
   "metadata": {
    "tags": []
   },
   "outputs": [
    {
     "data": {
      "text/plain": [
       "array([2, 2, 2, 2, 2, 2, 2, 2, 3, 2, 3, 2, 2, 2, 3, 1, 2, 3, 1, 2, 3, 2,\n",
       "       2, 2, 2, 3, 1, 2, 1, 3, 3, 3, 2, 3, 2, 3, 2, 1, 2, 0, 3, 1, 0, 0,\n",
       "       3, 3, 0, 0, 3, 3, 0, 3, 3, 0, 0, 0, 1, 0, 0, 3, 0, 0, 1, 0, 0, 1,\n",
       "       1, 0, 1, 3, 0, 1, 3, 0, 1, 0, 3, 0, 0, 0, 0, 0, 0, 1, 1, 0, 0, 0,\n",
       "       3, 0, 0, 0, 0, 0, 0, 1], dtype=int64)"
      ]
     },
     "execution_count": 22,
     "metadata": {},
     "output_type": "execute_result"
    }
   ],
   "source": [
    "cluster_Ag.labels_"
   ]
  },
  {
   "cell_type": "code",
   "execution_count": 23,
   "metadata": {
    "tags": []
   },
   "outputs": [
    {
     "data": {
      "text/plain": [
       "Index(['asisten_porcen_minuto', 'talla', 'tiempo_juego', 'edad',\n",
       "       'puntos_porcen_minuto', 'Cluster'],\n",
       "      dtype='object')"
      ]
     },
     "execution_count": 23,
     "metadata": {},
     "output_type": "execute_result"
    }
   ],
   "source": [
    "cluster_Jerarq.columns"
   ]
  },
  {
   "cell_type": "markdown",
   "metadata": {},
   "source": [
    "## Visualizacion en 2D"
   ]
  },
  {
   "cell_type": "code",
   "execution_count": 24,
   "metadata": {
    "tags": []
   },
   "outputs": [
    {
     "data": {
      "text/plain": [
       "<matplotlib.collections.PathCollection at 0x1b4b486a8c0>"
      ]
     },
     "execution_count": 24,
     "metadata": {},
     "output_type": "execute_result"
    },
    {
     "data": {
      "image/png": "[encoded data removed]",
      "text/plain": [
       "<Figure size 1000x700 with 1 Axes>"
      ]
     },
     "metadata": {},
     "output_type": "display_data"
    }
   ],
   "source": [
    "plt.figure(figsize=(10, 7))  \n",
    "plt.scatter(zscore_df['asisten_porcen_minuto'], zscore_df['tiempo_juego'], c=cluster_Ag.labels_ , cmap='rainbow') "
   ]
  },
  {
   "cell_type": "markdown",
   "metadata": {},
   "source": [
    "## Visualizacion en 3D"
   ]
  },
  {
   "cell_type": "code",
   "execution_count": 27,
   "metadata": {
    "tags": []
   },
   "outputs": [
    {
     "name": "stdout",
     "output_type": "stream",
     "text": [
      "Collecting plotly\n",
      "  Downloading plotly-5.18.0-py3-none-any.whl (15.6 MB)\n",
      "                                              0.0/15.6 MB ? eta -:--:--\n",
      "                                              0.0/15.6 MB ? eta -:--:--\n",
      "                                              0.4/15.6 MB 6.1 MB/s eta 0:00:03\n",
      "     ----                                     1.9/15.6 MB 17.4 MB/s eta 0:00:01\n",
      "     --------                                 3.5/15.6 MB 22.1 MB/s eta 0:00:01\n",
      "     ------------                             4.9/15.6 MB 22.2 MB/s eta 0:00:01\n",
      "     ----------------                         6.5/15.6 MB 24.3 MB/s eta 0:00:01\n",
      "     --------------------                     7.9/15.6 MB 25.4 MB/s eta 0:00:01\n",
      "     -----------------------                  9.4/15.6 MB 26.1 MB/s eta 0:00:01\n",
      "     ------------------------                 9.8/15.6 MB 24.0 MB/s eta 0:00:01\n",
      "     -------------------------               10.1/15.6 MB 22.2 MB/s eta 0:00:01\n",
      "     -------------------------               10.3/15.6 MB 22.6 MB/s eta 0:00:01\n",
      "     --------------------------              10.6/15.6 MB 21.1 MB/s eta 0:00:01\n",
      "     ---------------------------             10.9/15.6 MB 19.3 MB/s eta 0:00:01\n",
      "     ---------------------------             11.1/15.6 MB 18.7 MB/s eta 0:00:01\n",
      "     ----------------------------            11.4/15.6 MB 16.8 MB/s eta 0:00:01\n",
      "     -----------------------------           11.7/15.6 MB 16.0 MB/s eta 0:00:01\n",
      "     -----------------------------           11.8/15.6 MB 14.9 MB/s eta 0:00:01\n",
      "     -----------------------------           12.0/15.6 MB 13.9 MB/s eta 0:00:01\n",
      "     ------------------------------          12.4/15.6 MB 13.4 MB/s eta 0:00:01\n",
      "     -------------------------------         12.6/15.6 MB 12.9 MB/s eta 0:00:01\n",
      "     --------------------------------        12.9/15.6 MB 12.1 MB/s eta 0:00:01\n",
      "     --------------------------------        13.1/15.6 MB 11.5 MB/s eta 0:00:01\n",
      "     ---------------------------------       13.4/15.6 MB 11.1 MB/s eta 0:00:01\n",
      "     ---------------------------------       13.5/15.6 MB 10.4 MB/s eta 0:00:01\n",
      "     ----------------------------------      13.8/15.6 MB 10.1 MB/s eta 0:00:01\n",
      "     ------------------------------------     14.2/15.6 MB 9.8 MB/s eta 0:00:01\n",
      "     ------------------------------------     14.5/15.6 MB 9.4 MB/s eta 0:00:01\n",
      "     -------------------------------------    14.7/15.6 MB 9.1 MB/s eta 0:00:01\n",
      "     --------------------------------------   15.0/15.6 MB 8.7 MB/s eta 0:00:01\n",
      "     --------------------------------------   15.2/15.6 MB 8.4 MB/s eta 0:00:01\n",
      "     ---------------------------------------  15.5/15.6 MB 8.2 MB/s eta 0:00:01\n",
      "     ---------------------------------------  15.6/15.6 MB 7.9 MB/s eta 0:00:01\n",
      "     ---------------------------------------  15.6/15.6 MB 7.8 MB/s eta 0:00:01\n",
      "     ---------------------------------------- 15.6/15.6 MB 7.5 MB/s eta 0:00:00\n",
      "Collecting tenacity>=6.2.0 (from plotly)\n",
      "  Downloading tenacity-8.2.3-py3-none-any.whl (24 kB)\n",
      "Requirement already satisfied: packaging in c:\\users\\risse\\anaconda3\\envs\\data_analitica\\lib\\site-packages (from plotly) (23.0)\n",
      "Installing collected packages: tenacity, plotly\n",
      "Successfully installed plotly-5.18.0 tenacity-8.2.3\n",
      "Note: you may need to restart the kernel to use updated packages.\n"
     ]
    }
   ],
   "source": [
    "pip install plotly"
   ]
  },
  {
   "cell_type": "code",
   "execution_count": 29,
   "metadata": {
    "tags": []
   },
   "outputs": [
    {
     "data": {
      "application/vnd.plotly.v1+json": {
       "config": {
        "plotlyServerURL": "https://plot.ly"
       },
       "data": [
        {
         "hovertemplate": "color=2<br>asisten_porcen_minuto=%{x}<br>tiempo_juego=%{y}<br>edad=%{z}<extra></extra>",
         "legendgroup": "2",
         "marker": {
          "color": "#636efa",
          "symbol": "circle"
         },
         "mode": "markers",
         "name": "2",
         "scene": "scene",
         "showlegend": true,
         "type": "scatter3d",
         "x": [
          0.1338769962623174,
          0.30750934420659193,
          0.08596670064559972,
          0.1661569826707441,
          0.2657152565409445,
          0.399932042133877,
          0.4797825348284064,
          0.19266055045871558,
          0.39959225280326205,
          0.24906557934080872,
          0.2534828406388039,
          0.32857628270472305,
          0.20829085966700647,
          0.19469928644240572,
          0.4532789670404349,
          0.38498131158681625,
          0.308868501529052,
          0.363234794427455,
          0.2738702004757051,
          0.19164118246687054,
          0.3679918450560653,
          0.25891946992864423,
          0.2884811416921509
         ],
         "y": [
          0.8468821416911525,
          0.9546196539340515,
          0.9376428338230491,
          1,
          0.9245837414299705,
          0.7841984982043748,
          0.852758733268038,
          0.870714985308521,
          0.7659157688540645,
          0.8681031668299053,
          0.7770159973881816,
          0.8328436173685929,
          0.8207639569049949,
          0.8331700946784197,
          0.6353248449232778,
          0.6944172380019589,
          0.7646098596147568,
          0.7992164544564153,
          0.6754815540319947,
          0.5964740450538688,
          0.6852758733268038,
          0.5808031341821744,
          0.6914789422135161
         ],
         "z": [
          0.40000000000000013,
          0.5333333333333334,
          0.26666666666666683,
          0.5333333333333334,
          0.40000000000000013,
          0.5999999999999999,
          0.5333333333333334,
          0.3333333333333335,
          0.13333333333333353,
          0.4666666666666668,
          0.13333333333333353,
          0.5333333333333334,
          0.20000000000000018,
          0.06666666666666665,
          0.40000000000000013,
          0.40000000000000013,
          0.06666666666666665,
          0.6666666666666667,
          0.26666666666666683,
          0.40000000000000013,
          0.20000000000000018,
          0.4666666666666668,
          0.40000000000000013
         ]
        },
        {
         "hovertemplate": "color=3<br>asisten_porcen_minuto=%{x}<br>tiempo_juego=%{y}<br>edad=%{z}<extra></extra>",
         "legendgroup": "3",
         "marker": {
          "color": "#EF553B",
          "symbol": "circle"
         },
         "mode": "markers",
         "name": "3",
         "scene": "scene",
         "showlegend": true,
         "type": "scatter3d",
         "x": [
          0.6632687733605165,
          0.6765205572545022,
          0.6187563710499491,
          0.6887529731566429,
          0.49677200135915733,
          0.7431192660550459,
          0.5358477743798845,
          0.5946313285762826,
          1,
          0.6224940536867143,
          0.6228338430173292,
          0.6418620455317704,
          0.6034658511722732,
          0.3924566768603466,
          0.6799184505606524,
          0.6401630988786953,
          0.5351681957186545,
          0.5402650356778798,
          0.7737003058103976,
          0.6975874957526333,
          0.5613319741760109,
          0.6299694189602447,
          0.7213727488956846
         ],
         "y": [
          0.9255631733594514,
          0.8139079333986288,
          0.9118511263467188,
          0.7068233757753835,
          0.822722820763957,
          0.9614756774404178,
          0.8534116878876916,
          0.8641854391119816,
          0.810643160300359,
          0.7655892915442377,
          0.863206007182501,
          0.8217433888344758,
          0.7064968984655566,
          0.5817825661116551,
          0.6653607574273588,
          0.7280444009141365,
          0.7757100881488737,
          0.5794972249428665,
          0.5546849493960171,
          0.798889977146588,
          0.34051583414952663,
          0.4632713026444662,
          0.4694743715311786
         ],
         "z": [
          0.4666666666666668,
          0.3333333333333335,
          0.40000000000000013,
          0.4666666666666668,
          0.6666666666666667,
          0.3333333333333335,
          0.5333333333333334,
          0.06666666666666665,
          0.5999999999999999,
          0.3333333333333335,
          0.6666666666666667,
          0.26666666666666683,
          0.3333333333333335,
          0.20000000000000018,
          0.20000000000000018,
          0.3333333333333335,
          0.5333333333333334,
          0.20000000000000018,
          0.40000000000000013,
          0.40000000000000013,
          0.13333333333333353,
          0.26666666666666683,
          0.3333333333333335
         ]
        },
        {
         "hovertemplate": "color=1<br>asisten_porcen_minuto=%{x}<br>tiempo_juego=%{y}<br>edad=%{z}<extra></extra>",
         "legendgroup": "1",
         "marker": {
          "color": "#00cc96",
          "symbol": "circle"
         },
         "mode": "markers",
         "name": "1",
         "scene": "scene",
         "showlegend": true,
         "type": "scatter3d",
         "x": [
          0,
          0.17431192660550457,
          0.2521236833163438,
          0.1365953109072375,
          0.19571865443425077,
          0.17397213727488955,
          0.01902820251444104,
          0.29289840299014613,
          0.3340129119945634,
          0.2796466190961604,
          0.5548759768943256,
          0.13727488956846753,
          0.3513421678559293,
          0.3989126741420319,
          0.1963982330954808,
          0.17669045191980973
         ],
         "y": [
          0.7280444009141365,
          0.6114920013059093,
          0.5426052889324191,
          0.5089781260202417,
          0.46457721188377404,
          0.41756447926869084,
          0.6199804113614105,
          0.10414626183480247,
          0.3339862879529872,
          0.24094025465230168,
          0.14658831211230822,
          0.10741103493307214,
          0.20502775057133532,
          0.14038524322559587,
          0.06660137120470128,
          0.12177603656545871
         ],
         "z": [
          0.6666666666666667,
          0.8,
          0.8,
          0.5333333333333334,
          0.8,
          0.5333333333333334,
          0.5999999999999999,
          0.5999999999999999,
          0.5999999999999999,
          0.7333333333333336,
          1.0000000000000002,
          0.8,
          0.7333333333333336,
          0.8666666666666669,
          0.5999999999999999,
          0.6666666666666667
         ]
        },
        {
         "hovertemplate": "color=0<br>asisten_porcen_minuto=%{x}<br>tiempo_juego=%{y}<br>edad=%{z}<extra></extra>",
         "legendgroup": "0",
         "marker": {
          "color": "#ab63fa",
          "symbol": "circle"
         },
         "mode": "markers",
         "name": "0",
         "scene": "scene",
         "showlegend": true,
         "type": "scatter3d",
         "x": [
          0.031260618416581704,
          0.5674481821270813,
          0.3367312266394835,
          0.235813795446823,
          0.4913353720693171,
          0.3730886850152906,
          0.13013931362555217,
          0.17533129459734967,
          0.1522256201155284,
          0.19605844376486578,
          0.07951070336391439,
          0.011552837240910635,
          0.5558953448861705,
          0.18654434250764526,
          0.21610601427115186,
          0.5752633367312266,
          0.3727488956846755,
          0.4678899082568807,
          0.3622154264356099,
          0.3836221542643561,
          0.2531430513081889,
          0.5722052327556915,
          0.3785253143051308,
          0.10567448182127079,
          0.43560992184845404,
          0.45090044172612986,
          0.4709480122324159,
          0.22867821950390757,
          0.509683995922528,
          0.4118246687054027,
          0.3601766904519199,
          0.6075433231396534,
          0.43628950050968407,
          0.4651715936119606
         ],
         "y": [
          0.3950375448906301,
          0.4704538034606594,
          0.4404178909565785,
          0.41332027424094026,
          0.34410708455762323,
          0.5115899444988574,
          0.3783872020894548,
          0.38230492980737835,
          0.3294156056154098,
          0.46359777995429324,
          0.29905321580150174,
          0.2895853738165198,
          0.375775383610839,
          0.2030688867123735,
          0.42213516160626846,
          0.38752856676460984,
          0.38916095331374473,
          0.31668299053215804,
          0.1942539993470454,
          0.2745674175644793,
          0.2507345739471107,
          0.10545217107411037,
          0.2393078681031669,
          0.1172053542278812,
          0.24094025465230168,
          0.08325171400587661,
          0.07051909892262492,
          0.06268364348677768,
          0.32582435520731307,
          0.22592229840026118,
          0.04897159647404509,
          0,
          0.27685275873326803,
          0.056480574600065336
         ],
         "z": [
          0.06666666666666665,
          0.6666666666666667,
          0.3333333333333335,
          0.13333333333333353,
          0.3333333333333335,
          0.5999999999999999,
          0.26666666666666683,
          0.13333333333333353,
          0.26666666666666683,
          0.13333333333333353,
          0.3333333333333335,
          0,
          0.5333333333333334,
          0.06666666666666665,
          0.20000000000000018,
          0.40000000000000013,
          0.13333333333333353,
          0.40000000000000013,
          0.06666666666666665,
          0.40000000000000013,
          0.26666666666666683,
          0.20000000000000018,
          0.26666666666666683,
          0.20000000000000018,
          0.3333333333333335,
          0.20000000000000018,
          0.5333333333333334,
          0.13333333333333353,
          0.3333333333333335,
          0.20000000000000018,
          0.13333333333333353,
          0.13333333333333353,
          0.06666666666666665,
          0.06666666666666665
         ]
        }
       ],
       "layout": {
        "legend": {
         "title": {
          "text": "color"
         },
         "tracegroupgap": 0
        },
        "margin": {
         "t": 60
        },
        "scene": {
         "domain": {
          "x": [
           0,
           1
          ],
          "y": [
           0,
           1
          ]
         },
         "xaxis": {
          "title": {
           "text": "asisten_porcen_minuto"
          }
         },
         "yaxis": {
          "title": {
           "text": "tiempo_juego"
          }
         },
         "zaxis": {
          "title": {
           "text": "edad"
          }
         }
        },
        "template": {
         "data": {
          "bar": [
           {
            "error_x": {
             "color": "#2a3f5f"
            },
            "error_y": {
             "color": "#2a3f5f"
            },
            "marker": {
             "line": {
              "color": "#E5ECF6",
              "width": 0.5
             },
             "pattern": {
              "fillmode": "overlay",
              "size": 10,
              "solidity": 0.2
             }
            },
            "type": "bar"
           }
          ],
          "barpolar": [
           {
            "marker": {
             "line": {
              "color": "#E5ECF6",
              "width": 0.5
             },
             "pattern": {
              "fillmode": "overlay",
              "size": 10,
              "solidity": 0.2
             }
            },
            "type": "barpolar"
           }
          ],
          "carpet": [
           {
            "aaxis": {
             "endlinecolor": "#2a3f5f",
             "gridcolor": "white",
             "linecolor": "white",
             "minorgridcolor": "white",
             "startlinecolor": "#2a3f5f"
            },
            "baxis": {
             "endlinecolor": "#2a3f5f",
             "gridcolor": "white",
             "linecolor": "white",
             "minorgridcolor": "white",
             "startlinecolor": "#2a3f5f"
            },
            "type": "carpet"
           }
          ],
          "choropleth": [
           {
            "colorbar": {
             "outlinewidth": 0,
             "ticks": ""
            },
            "type": "choropleth"
           }
          ],
          "contour": [
           {
            "colorbar": {
             "outlinewidth": 0,
             "ticks": ""
            },
            "colorscale": [
             [
              0,
              "#0d0887"
             ],
             [
              0.1111111111111111,
              "#46039f"
             ],
             [
              0.2222222222222222,
              "#7201a8"
             ],
             [
              0.3333333333333333,
              "#9c179e"
             ],
             [
              0.4444444444444444,
              "#bd3786"
             ],
             [
              0.5555555555555556,
              "#d8576b"
             ],
             [
              0.6666666666666666,
              "#ed7953"
             ],
             [
              0.7777777777777778,
              "#fb9f3a"
             ],
             [
              0.8888888888888888,
              "#fdca26"
             ],
             [
              1,
              "#f0f921"
             ]
            ],
            "type": "contour"
           }
          ],
          "contourcarpet": [
           {
            "colorbar": {
             "outlinewidth": 0,
             "ticks": ""
            },
            "type": "contourcarpet"
           }
          ],
          "heatmap": [
           {
            "colorbar": {
             "outlinewidth": 0,
             "ticks": ""
            },
            "colorscale": [
             [
              0,
              "#0d0887"
             ],
             [
              0.1111111111111111,
              "#46039f"
             ],
             [
              0.2222222222222222,
              "#7201a8"
             ],
             [
              0.3333333333333333,
              "#9c179e"
             ],
             [
              0.4444444444444444,
              "#bd3786"
             ],
             [
              0.5555555555555556,
              "#d8576b"
             ],
             [
              0.6666666666666666,
              "#ed7953"
             ],
             [
              0.7777777777777778,
              "#fb9f3a"
             ],
             [
              0.8888888888888888,
              "#fdca26"
             ],
             [
              1,
              "#f0f921"
             ]
            ],
            "type": "heatmap"
           }
          ],
          "heatmapgl": [
           {
            "colorbar": {
             "outlinewidth": 0,
             "ticks": ""
            },
            "colorscale": [
             [
              0,
              "#0d0887"
             ],
             [
              0.1111111111111111,
              "#46039f"
             ],
             [
              0.2222222222222222,
              "#7201a8"
             ],
             [
              0.3333333333333333,
              "#9c179e"
             ],
             [
              0.4444444444444444,
              "#bd3786"
             ],
             [
              0.5555555555555556,
              "#d8576b"
             ],
             [
              0.6666666666666666,
              "#ed7953"
             ],
             [
              0.7777777777777778,
              "#fb9f3a"
             ],
             [
              0.8888888888888888,
              "#fdca26"
             ],
             [
              1,
              "#f0f921"
             ]
            ],
            "type": "heatmapgl"
           }
          ],
          "histogram": [
           {
            "marker": {
             "pattern": {
              "fillmode": "overlay",
              "size": 10,
              "solidity": 0.2
             }
            },
            "type": "histogram"
           }
          ],
          "histogram2d": [
           {
            "colorbar": {
             "outlinewidth": 0,
             "ticks": ""
            },
            "colorscale": [
             [
              0,
              "#0d0887"
             ],
             [
              0.1111111111111111,
              "#46039f"
             ],
             [
              0.2222222222222222,
              "#7201a8"
             ],
             [
              0.3333333333333333,
              "#9c179e"
             ],
             [
              0.4444444444444444,
              "#bd3786"
             ],
             [
              0.5555555555555556,
              "#d8576b"
             ],
             [
              0.6666666666666666,
              "#ed7953"
             ],
             [
              0.7777777777777778,
              "#fb9f3a"
             ],
             [
              0.8888888888888888,
              "#fdca26"
             ],
             [
              1,
              "#f0f921"
             ]
            ],
            "type": "histogram2d"
           }
          ],
          "histogram2dcontour": [
           {
            "colorbar": {
             "outlinewidth": 0,
             "ticks": ""
            },
            "colorscale": [
             [
              0,
              "#0d0887"
             ],
             [
              0.1111111111111111,
              "#46039f"
             ],
             [
              0.2222222222222222,
              "#7201a8"
             ],
             [
              0.3333333333333333,
              "#9c179e"
             ],
             [
              0.4444444444444444,
              "#bd3786"
             ],
             [
              0.5555555555555556,
              "#d8576b"
             ],
             [
              0.6666666666666666,
              "#ed7953"
             ],
             [
              0.7777777777777778,
              "#fb9f3a"
             ],
             [
              0.8888888888888888,
              "#fdca26"
             ],
             [
              1,
              "#f0f921"
             ]
            ],
            "type": "histogram2dcontour"
           }
          ],
          "mesh3d": [
           {
            "colorbar": {
             "outlinewidth": 0,
             "ticks": ""
            },
            "type": "mesh3d"
           }
          ],
          "parcoords": [
           {
            "line": {
             "colorbar": {
              "outlinewidth": 0,
              "ticks": ""
             }
            },
            "type": "parcoords"
           }
          ],
          "pie": [
           {
            "automargin": true,
            "type": "pie"
           }
          ],
          "scatter": [
           {
            "fillpattern": {
             "fillmode": "overlay",
             "size": 10,
             "solidity": 0.2
            },
            "type": "scatter"
           }
          ],
          "scatter3d": [
           {
            "line": {
             "colorbar": {
              "outlinewidth": 0,
              "ticks": ""
             }
            },
            "marker": {
             "colorbar": {
              "outlinewidth": 0,
              "ticks": ""
             }
            },
            "type": "scatter3d"
           }
          ],
          "scattercarpet": [
           {
            "marker": {
             "colorbar": {
              "outlinewidth": 0,
              "ticks": ""
             }
            },
            "type": "scattercarpet"
           }
          ],
          "scattergeo": [
           {
            "marker": {
             "colorbar": {
              "outlinewidth": 0,
              "ticks": ""
             }
            },
            "type": "scattergeo"
           }
          ],
          "scattergl": [
           {
            "marker": {
             "colorbar": {
              "outlinewidth": 0,
              "ticks": ""
             }
            },
            "type": "scattergl"
           }
          ],
          "scattermapbox": [
           {
            "marker": {
             "colorbar": {
              "outlinewidth": 0,
              "ticks": ""
             }
            },
            "type": "scattermapbox"
           }
          ],
          "scatterpolar": [
           {
            "marker": {
             "colorbar": {
              "outlinewidth": 0,
              "ticks": ""
             }
            },
            "type": "scatterpolar"
           }
          ],
          "scatterpolargl": [
           {
            "marker": {
             "colorbar": {
              "outlinewidth": 0,
              "ticks": ""
             }
            },
            "type": "scatterpolargl"
           }
          ],
          "scatterternary": [
           {
            "marker": {
             "colorbar": {
              "outlinewidth": 0,
              "ticks": ""
             }
            },
            "type": "scatterternary"
           }
          ],
          "surface": [
           {
            "colorbar": {
             "outlinewidth": 0,
             "ticks": ""
            },
            "colorscale": [
             [
              0,
              "#0d0887"
             ],
             [
              0.1111111111111111,
              "#46039f"
             ],
             [
              0.2222222222222222,
              "#7201a8"
             ],
             [
              0.3333333333333333,
              "#9c179e"
             ],
             [
              0.4444444444444444,
              "#bd3786"
             ],
             [
              0.5555555555555556,
              "#d8576b"
             ],
             [
              0.6666666666666666,
              "#ed7953"
             ],
             [
              0.7777777777777778,
              "#fb9f3a"
             ],
             [
              0.8888888888888888,
              "#fdca26"
             ],
             [
              1,
              "#f0f921"
             ]
            ],
            "type": "surface"
           }
          ],
          "table": [
           {
            "cells": {
             "fill": {
              "color": "#EBF0F8"
             },
             "line": {
              "color": "white"
             }
            },
            "header": {
             "fill": {
              "color": "#C8D4E3"
             },
             "line": {
              "color": "white"
             }
            },
            "type": "table"
           }
          ]
         },
         "layout": {
          "annotationdefaults": {
           "arrowcolor": "#2a3f5f",
           "arrowhead": 0,
           "arrowwidth": 1
          },
          "autotypenumbers": "strict",
          "coloraxis": {
           "colorbar": {
            "outlinewidth": 0,
            "ticks": ""
           }
          },
          "colorscale": {
           "diverging": [
            [
             0,
             "#8e0152"
            ],
            [
             0.1,
             "#c51b7d"
            ],
            [
             0.2,
             "#de77ae"
            ],
            [
             0.3,
             "#f1b6da"
            ],
            [
             0.4,
             "#fde0ef"
            ],
            [
             0.5,
             "#f7f7f7"
            ],
            [
             0.6,
             "#e6f5d0"
            ],
            [
             0.7,
             "#b8e186"
            ],
            [
             0.8,
             "#7fbc41"
            ],
            [
             0.9,
             "#4d9221"
            ],
            [
             1,
             "#276419"
            ]
           ],
           "sequential": [
            [
             0,
             "#0d0887"
            ],
            [
             0.1111111111111111,
             "#46039f"
            ],
            [
             0.2222222222222222,
             "#7201a8"
            ],
            [
             0.3333333333333333,
             "#9c179e"
            ],
            [
             0.4444444444444444,
             "#bd3786"
            ],
            [
             0.5555555555555556,
             "#d8576b"
            ],
            [
             0.6666666666666666,
             "#ed7953"
            ],
            [
             0.7777777777777778,
             "#fb9f3a"
            ],
            [
             0.8888888888888888,
             "#fdca26"
            ],
            [
             1,
             "#f0f921"
            ]
           ],
           "sequentialminus": [
            [
             0,
             "#0d0887"
            ],
            [
             0.1111111111111111,
             "#46039f"
            ],
            [
             0.2222222222222222,
             "#7201a8"
            ],
            [
             0.3333333333333333,
             "#9c179e"
            ],
            [
             0.4444444444444444,
             "#bd3786"
            ],
            [
             0.5555555555555556,
             "#d8576b"
            ],
            [
             0.6666666666666666,
             "#ed7953"
            ],
            [
             0.7777777777777778,
             "#fb9f3a"
            ],
            [
             0.8888888888888888,
             "#fdca26"
            ],
            [
             1,
             "#f0f921"
            ]
           ]
          },
          "colorway": [
           "#636efa",
           "#EF553B",
           "#00cc96",
           "#ab63fa",
           "#FFA15A",
           "#19d3f3",
           "#FF6692",
           "#B6E880",
           "#FF97FF",
           "#FECB52"
          ],
          "font": {
           "color": "#2a3f5f"
          },
          "geo": {
           "bgcolor": "white",
           "lakecolor": "white",
           "landcolor": "#E5ECF6",
           "showlakes": true,
           "showland": true,
           "subunitcolor": "white"
          },
          "hoverlabel": {
           "align": "left"
          },
          "hovermode": "closest",
          "mapbox": {
           "style": "light"
          },
          "paper_bgcolor": "white",
          "plot_bgcolor": "#E5ECF6",
          "polar": {
           "angularaxis": {
            "gridcolor": "white",
            "linecolor": "white",
            "ticks": ""
           },
           "bgcolor": "#E5ECF6",
           "radialaxis": {
            "gridcolor": "white",
            "linecolor": "white",
            "ticks": ""
           }
          },
          "scene": {
           "xaxis": {
            "backgroundcolor": "#E5ECF6",
            "gridcolor": "white",
            "gridwidth": 2,
            "linecolor": "white",
            "showbackground": true,
            "ticks": "",
            "zerolinecolor": "white"
           },
           "yaxis": {
            "backgroundcolor": "#E5ECF6",
            "gridcolor": "white",
            "gridwidth": 2,
            "linecolor": "white",
            "showbackground": true,
            "ticks": "",
            "zerolinecolor": "white"
           },
           "zaxis": {
            "backgroundcolor": "#E5ECF6",
            "gridcolor": "white",
            "gridwidth": 2,
            "linecolor": "white",
            "showbackground": true,
            "ticks": "",
            "zerolinecolor": "white"
           }
          },
          "shapedefaults": {
           "line": {
            "color": "#2a3f5f"
           }
          },
          "ternary": {
           "aaxis": {
            "gridcolor": "white",
            "linecolor": "white",
            "ticks": ""
           },
           "baxis": {
            "gridcolor": "white",
            "linecolor": "white",
            "ticks": ""
           },
           "bgcolor": "#E5ECF6",
           "caxis": {
            "gridcolor": "white",
            "linecolor": "white",
            "ticks": ""
           }
          },
          "title": {
           "x": 0.05
          },
          "xaxis": {
           "automargin": true,
           "gridcolor": "white",
           "linecolor": "white",
           "ticks": "",
           "title": {
            "standoff": 15
           },
           "zerolinecolor": "white",
           "zerolinewidth": 2
          },
          "yaxis": {
           "automargin": true,
           "gridcolor": "white",
           "linecolor": "white",
           "ticks": "",
           "title": {
            "standoff": 15
           },
           "zerolinecolor": "white",
           "zerolinewidth": 2
          }
         }
        }
       }
      },
      "text/html": [
       "<div>                            <div id=\"1dc8350f-232b-46a3-b503-246170407866\" class=\"plotly-graph-div\" style=\"height:525px; width:100%;\"></div>            <script type=\"text/javascript\">                require([\"plotly\"], function(Plotly) {                    window.PLOTLYENV=window.PLOTLYENV || {};                                    if (document.getElementById(\"1dc8350f-232b-46a3-b503-246170407866\")) {                    Plotly.newPlot(                        \"1dc8350f-232b-46a3-b503-246170407866\",                        [{\"hovertemplate\":\"color=2\\u003cbr\\u003easisten_porcen_minuto=%{x}\\u003cbr\\u003etiempo_juego=%{y}\\u003cbr\\u003eedad=%{z}\\u003cextra\\u003e\\u003c\\u002fextra\\u003e\",\"legendgroup\":\"2\",\"marker\":{\"color\":\"#636efa\",\"symbol\":\"circle\"},\"mode\":\"markers\",\"name\":\"2\",\"scene\":\"scene\",\"showlegend\":true,\"x\":[0.1338769962623174,0.30750934420659193,0.08596670064559972,0.1661569826707441,0.2657152565409445,0.399932042133877,0.4797825348284064,0.19266055045871558,0.39959225280326205,0.24906557934080872,0.2534828406388039,0.32857628270472305,0.20829085966700647,0.19469928644240572,0.4532789670404349,0.38498131158681625,0.308868501529052,0.363234794427455,0.2738702004757051,0.19164118246687054,0.3679918450560653,0.25891946992864423,0.2884811416921509],\"y\":[0.8468821416911525,0.9546196539340515,0.9376428338230491,1.0,0.9245837414299705,0.7841984982043748,0.852758733268038,0.870714985308521,0.7659157688540645,0.8681031668299053,0.7770159973881816,0.8328436173685929,0.8207639569049949,0.8331700946784197,0.6353248449232778,0.6944172380019589,0.7646098596147568,0.7992164544564153,0.6754815540319947,0.5964740450538688,0.6852758733268038,0.5808031341821744,0.6914789422135161],\"z\":[0.40000000000000013,0.5333333333333334,0.26666666666666683,0.5333333333333334,0.40000000000000013,0.5999999999999999,0.5333333333333334,0.3333333333333335,0.13333333333333353,0.4666666666666668,0.13333333333333353,0.5333333333333334,0.20000000000000018,0.06666666666666665,0.40000000000000013,0.40000000000000013,0.06666666666666665,0.6666666666666667,0.26666666666666683,0.40000000000000013,0.20000000000000018,0.4666666666666668,0.40000000000000013],\"type\":\"scatter3d\"},{\"hovertemplate\":\"color=3\\u003cbr\\u003easisten_porcen_minuto=%{x}\\u003cbr\\u003etiempo_juego=%{y}\\u003cbr\\u003eedad=%{z}\\u003cextra\\u003e\\u003c\\u002fextra\\u003e\",\"legendgroup\":\"3\",\"marker\":{\"color\":\"#EF553B\",\"symbol\":\"circle\"},\"mode\":\"markers\",\"name\":\"3\",\"scene\":\"scene\",\"showlegend\":true,\"x\":[0.6632687733605165,0.6765205572545022,0.6187563710499491,0.6887529731566429,0.49677200135915733,0.7431192660550459,0.5358477743798845,0.5946313285762826,1.0,0.6224940536867143,0.6228338430173292,0.6418620455317704,0.6034658511722732,0.3924566768603466,0.6799184505606524,0.6401630988786953,0.5351681957186545,0.5402650356778798,0.7737003058103976,0.6975874957526333,0.5613319741760109,0.6299694189602447,0.7213727488956846],\"y\":[0.9255631733594514,0.8139079333986288,0.9118511263467188,0.7068233757753835,0.822722820763957,0.9614756774404178,0.8534116878876916,0.8641854391119816,0.810643160300359,0.7655892915442377,0.863206007182501,0.8217433888344758,0.7064968984655566,0.5817825661116551,0.6653607574273588,0.7280444009141365,0.7757100881488737,0.5794972249428665,0.5546849493960171,0.798889977146588,0.34051583414952663,0.4632713026444662,0.4694743715311786],\"z\":[0.4666666666666668,0.3333333333333335,0.40000000000000013,0.4666666666666668,0.6666666666666667,0.3333333333333335,0.5333333333333334,0.06666666666666665,0.5999999999999999,0.3333333333333335,0.6666666666666667,0.26666666666666683,0.3333333333333335,0.20000000000000018,0.20000000000000018,0.3333333333333335,0.5333333333333334,0.20000000000000018,0.40000000000000013,0.40000000000000013,0.13333333333333353,0.26666666666666683,0.3333333333333335],\"type\":\"scatter3d\"},{\"hovertemplate\":\"color=1\\u003cbr\\u003easisten_porcen_minuto=%{x}\\u003cbr\\u003etiempo_juego=%{y}\\u003cbr\\u003eedad=%{z}\\u003cextra\\u003e\\u003c\\u002fextra\\u003e\",\"legendgroup\":\"1\",\"marker\":{\"color\":\"#00cc96\",\"symbol\":\"circle\"},\"mode\":\"markers\",\"name\":\"1\",\"scene\":\"scene\",\"showlegend\":true,\"x\":[0.0,0.17431192660550457,0.2521236833163438,0.1365953109072375,0.19571865443425077,0.17397213727488955,0.01902820251444104,0.29289840299014613,0.3340129119945634,0.2796466190961604,0.5548759768943256,0.13727488956846753,0.3513421678559293,0.3989126741420319,0.1963982330954808,0.17669045191980973],\"y\":[0.7280444009141365,0.6114920013059093,0.5426052889324191,0.5089781260202417,0.46457721188377404,0.41756447926869084,0.6199804113614105,0.10414626183480247,0.3339862879529872,0.24094025465230168,0.14658831211230822,0.10741103493307214,0.20502775057133532,0.14038524322559587,0.06660137120470128,0.12177603656545871],\"z\":[0.6666666666666667,0.8,0.8,0.5333333333333334,0.8,0.5333333333333334,0.5999999999999999,0.5999999999999999,0.5999999999999999,0.7333333333333336,1.0000000000000002,0.8,0.7333333333333336,0.8666666666666669,0.5999999999999999,0.6666666666666667],\"type\":\"scatter3d\"},{\"hovertemplate\":\"color=0\\u003cbr\\u003easisten_porcen_minuto=%{x}\\u003cbr\\u003etiempo_juego=%{y}\\u003cbr\\u003eedad=%{z}\\u003cextra\\u003e\\u003c\\u002fextra\\u003e\",\"legendgroup\":\"0\",\"marker\":{\"color\":\"#ab63fa\",\"symbol\":\"circle\"},\"mode\":\"markers\",\"name\":\"0\",\"scene\":\"scene\",\"showlegend\":true,\"x\":[0.031260618416581704,0.5674481821270813,0.3367312266394835,0.235813795446823,0.4913353720693171,0.3730886850152906,0.13013931362555217,0.17533129459734967,0.1522256201155284,0.19605844376486578,0.07951070336391439,0.011552837240910635,0.5558953448861705,0.18654434250764526,0.21610601427115186,0.5752633367312266,0.3727488956846755,0.4678899082568807,0.3622154264356099,0.3836221542643561,0.2531430513081889,0.5722052327556915,0.3785253143051308,0.10567448182127079,0.43560992184845404,0.45090044172612986,0.4709480122324159,0.22867821950390757,0.509683995922528,0.4118246687054027,0.3601766904519199,0.6075433231396534,0.43628950050968407,0.4651715936119606],\"y\":[0.3950375448906301,0.4704538034606594,0.4404178909565785,0.41332027424094026,0.34410708455762323,0.5115899444988574,0.3783872020894548,0.38230492980737835,0.3294156056154098,0.46359777995429324,0.29905321580150174,0.2895853738165198,0.375775383610839,0.2030688867123735,0.42213516160626846,0.38752856676460984,0.38916095331374473,0.31668299053215804,0.1942539993470454,0.2745674175644793,0.2507345739471107,0.10545217107411037,0.2393078681031669,0.1172053542278812,0.24094025465230168,0.08325171400587661,0.07051909892262492,0.06268364348677768,0.32582435520731307,0.22592229840026118,0.04897159647404509,0.0,0.27685275873326803,0.056480574600065336],\"z\":[0.06666666666666665,0.6666666666666667,0.3333333333333335,0.13333333333333353,0.3333333333333335,0.5999999999999999,0.26666666666666683,0.13333333333333353,0.26666666666666683,0.13333333333333353,0.3333333333333335,0.0,0.5333333333333334,0.06666666666666665,0.20000000000000018,0.40000000000000013,0.13333333333333353,0.40000000000000013,0.06666666666666665,0.40000000000000013,0.26666666666666683,0.20000000000000018,0.26666666666666683,0.20000000000000018,0.3333333333333335,0.20000000000000018,0.5333333333333334,0.13333333333333353,0.3333333333333335,0.20000000000000018,0.13333333333333353,0.13333333333333353,0.06666666666666665,0.06666666666666665],\"type\":\"scatter3d\"}],                        {\"template\":{\"data\":{\"histogram2dcontour\":[{\"type\":\"histogram2dcontour\",\"colorbar\":{\"outlinewidth\":0,\"ticks\":\"\"},\"colorscale\":[[0.0,\"#0d0887\"],[0.1111111111111111,\"#46039f\"],[0.2222222222222222,\"#7201a8\"],[0.3333333333333333,\"#9c179e\"],[0.4444444444444444,\"#bd3786\"],[0.5555555555555556,\"#d8576b\"],[0.6666666666666666,\"#ed7953\"],[0.7777777777777778,\"#fb9f3a\"],[0.8888888888888888,\"#fdca26\"],[1.0,\"#f0f921\"]]}],\"choropleth\":[{\"type\":\"choropleth\",\"colorbar\":{\"outlinewidth\":0,\"ticks\":\"\"}}],\"histogram2d\":[{\"type\":\"histogram2d\",\"colorbar\":{\"outlinewidth\":0,\"ticks\":\"\"},\"colorscale\":[[0.0,\"#0d0887\"],[0.1111111111111111,\"#46039f\"],[0.2222222222222222,\"#7201a8\"],[0.3333333333333333,\"#9c179e\"],[0.4444444444444444,\"#bd3786\"],[0.5555555555555556,\"#d8576b\"],[0.6666666666666666,\"#ed7953\"],[0.7777777777777778,\"#fb9f3a\"],[0.8888888888888888,\"#fdca26\"],[1.0,\"#f0f921\"]]}],\"heatmap\":[{\"type\":\"heatmap\",\"colorbar\":{\"outlinewidth\":0,\"ticks\":\"\"},\"colorscale\":[[0.0,\"#0d0887\"],[0.1111111111111111,\"#46039f\"],[0.2222222222222222,\"#7201a8\"],[0.3333333333333333,\"#9c179e\"],[0.4444444444444444,\"#bd3786\"],[0.5555555555555556,\"#d8576b\"],[0.6666666666666666,\"#ed7953\"],[0.7777777777777778,\"#fb9f3a\"],[0.8888888888888888,\"#fdca26\"],[1.0,\"#f0f921\"]]}],\"heatmapgl\":[{\"type\":\"heatmapgl\",\"colorbar\":{\"outlinewidth\":0,\"ticks\":\"\"},\"colorscale\":[[0.0,\"#0d0887\"],[0.1111111111111111,\"#46039f\"],[0.2222222222222222,\"#7201a8\"],[0.3333333333333333,\"#9c179e\"],[0.4444444444444444,\"#bd3786\"],[0.5555555555555556,\"#d8576b\"],[0.6666666666666666,\"#ed7953\"],[0.7777777777777778,\"#fb9f3a\"],[0.8888888888888888,\"#fdca26\"],[1.0,\"#f0f921\"]]}],\"contourcarpet\":[{\"type\":\"contourcarpet\",\"colorbar\":{\"outlinewidth\":0,\"ticks\":\"\"}}],\"contour\":[{\"type\":\"contour\",\"colorbar\":{\"outlinewidth\":0,\"ticks\":\"\"},\"colorscale\":[[0.0,\"#0d0887\"],[0.1111111111111111,\"#46039f\"],[0.2222222222222222,\"#7201a8\"],[0.3333333333333333,\"#9c179e\"],[0.4444444444444444,\"#bd3786\"],[0.5555555555555556,\"#d8576b\"],[0.6666666666666666,\"#ed7953\"],[0.7777777777777778,\"#fb9f3a\"],[0.8888888888888888,\"#fdca26\"],[1.0,\"#f0f921\"]]}],\"surface\":[{\"type\":\"surface\",\"colorbar\":{\"outlinewidth\":0,\"ticks\":\"\"},\"colorscale\":[[0.0,\"#0d0887\"],[0.1111111111111111,\"#46039f\"],[0.2222222222222222,\"#7201a8\"],[0.3333333333333333,\"#9c179e\"],[0.4444444444444444,\"#bd3786\"],[0.5555555555555556,\"#d8576b\"],[0.6666666666666666,\"#ed7953\"],[0.7777777777777778,\"#fb9f3a\"],[0.8888888888888888,\"#fdca26\"],[1.0,\"#f0f921\"]]}],\"mesh3d\":[{\"type\":\"mesh3d\",\"colorbar\":{\"outlinewidth\":0,\"ticks\":\"\"}}],\"scatter\":[{\"fillpattern\":{\"fillmode\":\"overlay\",\"size\":10,\"solidity\":0.2},\"type\":\"scatter\"}],\"parcoords\":[{\"type\":\"parcoords\",\"line\":{\"colorbar\":{\"outlinewidth\":0,\"ticks\":\"\"}}}],\"scatterpolargl\":[{\"type\":\"scatterpolargl\",\"marker\":{\"colorbar\":{\"outlinewidth\":0,\"ticks\":\"\"}}}],\"bar\":[{\"error_x\":{\"color\":\"#2a3f5f\"},\"error_y\":{\"color\":\"#2a3f5f\"},\"marker\":{\"line\":{\"color\":\"#E5ECF6\",\"width\":0.5},\"pattern\":{\"fillmode\":\"overlay\",\"size\":10,\"solidity\":0.2}},\"type\":\"bar\"}],\"scattergeo\":[{\"type\":\"scattergeo\",\"marker\":{\"colorbar\":{\"outlinewidth\":0,\"ticks\":\"\"}}}],\"scatterpolar\":[{\"type\":\"scatterpolar\",\"marker\":{\"colorbar\":{\"outlinewidth\":0,\"ticks\":\"\"}}}],\"histogram\":[{\"marker\":{\"pattern\":{\"fillmode\":\"overlay\",\"size\":10,\"solidity\":0.2}},\"type\":\"histogram\"}],\"scattergl\":[{\"type\":\"scattergl\",\"marker\":{\"colorbar\":{\"outlinewidth\":0,\"ticks\":\"\"}}}],\"scatter3d\":[{\"type\":\"scatter3d\",\"line\":{\"colorbar\":{\"outlinewidth\":0,\"ticks\":\"\"}},\"marker\":{\"colorbar\":{\"outlinewidth\":0,\"ticks\":\"\"}}}],\"scattermapbox\":[{\"type\":\"scattermapbox\",\"marker\":{\"colorbar\":{\"outlinewidth\":0,\"ticks\":\"\"}}}],\"scatterternary\":[{\"type\":\"scatterternary\",\"marker\":{\"colorbar\":{\"outlinewidth\":0,\"ticks\":\"\"}}}],\"scattercarpet\":[{\"type\":\"scattercarpet\",\"marker\":{\"colorbar\":{\"outlinewidth\":0,\"ticks\":\"\"}}}],\"carpet\":[{\"aaxis\":{\"endlinecolor\":\"#2a3f5f\",\"gridcolor\":\"white\",\"linecolor\":\"white\",\"minorgridcolor\":\"white\",\"startlinecolor\":\"#2a3f5f\"},\"baxis\":{\"endlinecolor\":\"#2a3f5f\",\"gridcolor\":\"white\",\"linecolor\":\"white\",\"minorgridcolor\":\"white\",\"startlinecolor\":\"#2a3f5f\"},\"type\":\"carpet\"}],\"table\":[{\"cells\":{\"fill\":{\"color\":\"#EBF0F8\"},\"line\":{\"color\":\"white\"}},\"header\":{\"fill\":{\"color\":\"#C8D4E3\"},\"line\":{\"color\":\"white\"}},\"type\":\"table\"}],\"barpolar\":[{\"marker\":{\"line\":{\"color\":\"#E5ECF6\",\"width\":0.5},\"pattern\":{\"fillmode\":\"overlay\",\"size\":10,\"solidity\":0.2}},\"type\":\"barpolar\"}],\"pie\":[{\"automargin\":true,\"type\":\"pie\"}]},\"layout\":{\"autotypenumbers\":\"strict\",\"colorway\":[\"#636efa\",\"#EF553B\",\"#00cc96\",\"#ab63fa\",\"#FFA15A\",\"#19d3f3\",\"#FF6692\",\"#B6E880\",\"#FF97FF\",\"#FECB52\"],\"font\":{\"color\":\"#2a3f5f\"},\"hovermode\":\"closest\",\"hoverlabel\":{\"align\":\"left\"},\"paper_bgcolor\":\"white\",\"plot_bgcolor\":\"#E5ECF6\",\"polar\":{\"bgcolor\":\"#E5ECF6\",\"angularaxis\":{\"gridcolor\":\"white\",\"linecolor\":\"white\",\"ticks\":\"\"},\"radialaxis\":{\"gridcolor\":\"white\",\"linecolor\":\"white\",\"ticks\":\"\"}},\"ternary\":{\"bgcolor\":\"#E5ECF6\",\"aaxis\":{\"gridcolor\":\"white\",\"linecolor\":\"white\",\"ticks\":\"\"},\"baxis\":{\"gridcolor\":\"white\",\"linecolor\":\"white\",\"ticks\":\"\"},\"caxis\":{\"gridcolor\":\"white\",\"linecolor\":\"white\",\"ticks\":\"\"}},\"coloraxis\":{\"colorbar\":{\"outlinewidth\":0,\"ticks\":\"\"}},\"colorscale\":{\"sequential\":[[0.0,\"#0d0887\"],[0.1111111111111111,\"#46039f\"],[0.2222222222222222,\"#7201a8\"],[0.3333333333333333,\"#9c179e\"],[0.4444444444444444,\"#bd3786\"],[0.5555555555555556,\"#d8576b\"],[0.6666666666666666,\"#ed7953\"],[0.7777777777777778,\"#fb9f3a\"],[0.8888888888888888,\"#fdca26\"],[1.0,\"#f0f921\"]],\"sequentialminus\":[[0.0,\"#0d0887\"],[0.1111111111111111,\"#46039f\"],[0.2222222222222222,\"#7201a8\"],[0.3333333333333333,\"#9c179e\"],[0.4444444444444444,\"#bd3786\"],[0.5555555555555556,\"#d8576b\"],[0.6666666666666666,\"#ed7953\"],[0.7777777777777778,\"#fb9f3a\"],[0.8888888888888888,\"#fdca26\"],[1.0,\"#f0f921\"]],\"diverging\":[[0,\"#8e0152\"],[0.1,\"#c51b7d\"],[0.2,\"#de77ae\"],[0.3,\"#f1b6da\"],[0.4,\"#fde0ef\"],[0.5,\"#f7f7f7\"],[0.6,\"#e6f5d0\"],[0.7,\"#b8e186\"],[0.8,\"#7fbc41\"],[0.9,\"#4d9221\"],[1,\"#276419\"]]},\"xaxis\":{\"gridcolor\":\"white\",\"linecolor\":\"white\",\"ticks\":\"\",\"title\":{\"standoff\":15},\"zerolinecolor\":\"white\",\"automargin\":true,\"zerolinewidth\":2},\"yaxis\":{\"gridcolor\":\"white\",\"linecolor\":\"white\",\"ticks\":\"\",\"title\":{\"standoff\":15},\"zerolinecolor\":\"white\",\"automargin\":true,\"zerolinewidth\":2},\"scene\":{\"xaxis\":{\"backgroundcolor\":\"#E5ECF6\",\"gridcolor\":\"white\",\"linecolor\":\"white\",\"showbackground\":true,\"ticks\":\"\",\"zerolinecolor\":\"white\",\"gridwidth\":2},\"yaxis\":{\"backgroundcolor\":\"#E5ECF6\",\"gridcolor\":\"white\",\"linecolor\":\"white\",\"showbackground\":true,\"ticks\":\"\",\"zerolinecolor\":\"white\",\"gridwidth\":2},\"zaxis\":{\"backgroundcolor\":\"#E5ECF6\",\"gridcolor\":\"white\",\"linecolor\":\"white\",\"showbackground\":true,\"ticks\":\"\",\"zerolinecolor\":\"white\",\"gridwidth\":2}},\"shapedefaults\":{\"line\":{\"color\":\"#2a3f5f\"}},\"annotationdefaults\":{\"arrowcolor\":\"#2a3f5f\",\"arrowhead\":0,\"arrowwidth\":1},\"geo\":{\"bgcolor\":\"white\",\"landcolor\":\"#E5ECF6\",\"subunitcolor\":\"white\",\"showland\":true,\"showlakes\":true,\"lakecolor\":\"white\"},\"title\":{\"x\":0.05},\"mapbox\":{\"style\":\"light\"}}},\"scene\":{\"domain\":{\"x\":[0.0,1.0],\"y\":[0.0,1.0]},\"xaxis\":{\"title\":{\"text\":\"asisten_porcen_minuto\"}},\"yaxis\":{\"title\":{\"text\":\"tiempo_juego\"}},\"zaxis\":{\"title\":{\"text\":\"edad\"}}},\"legend\":{\"title\":{\"text\":\"color\"},\"tracegroupgap\":0},\"margin\":{\"t\":60}},                        {\"responsive\": true}                    ).then(function(){\n",
       "                            \n",
       "var gd = document.getElementById('1dc8350f-232b-46a3-b503-246170407866');\n",
       "var x = new MutationObserver(function (mutations, observer) {{\n",
       "        var display = window.getComputedStyle(gd).display;\n",
       "        if (!display || display === 'none') {{\n",
       "            console.log([gd, 'removed!']);\n",
       "            Plotly.purge(gd);\n",
       "            observer.disconnect();\n",
       "        }}\n",
       "}});\n",
       "\n",
       "// Listen for the removal of the full notebook cells\n",
       "var notebookContainer = gd.closest('#notebook-container');\n",
       "if (notebookContainer) {{\n",
       "    x.observe(notebookContainer, {childList: true});\n",
       "}}\n",
       "\n",
       "// Listen for the clearing of the current output cell\n",
       "var outputEl = gd.closest('.output');\n",
       "if (outputEl) {{\n",
       "    x.observe(outputEl, {childList: true});\n",
       "}}\n",
       "\n",
       "                        })                };                });            </script>        </div>"
      ]
     },
     "metadata": {},
     "output_type": "display_data"
    }
   ],
   "source": [
    "import plotly.express as px\n",
    "\n",
    "fig = px.scatter_3d(zscore_df, x='asisten_porcen_minuto', y='tiempo_juego', z='edad', color=cluster_Jerarq['Cluster'].astype(str))\n",
    "fig.show()"
   ]
  },
  {
   "cell_type": "markdown",
   "metadata": {},
   "source": [
    "### Métrica de Silueta"
   ]
  },
  {
   "cell_type": "code",
   "execution_count": 30,
   "metadata": {
    "tags": []
   },
   "outputs": [
    {
     "data": {
      "text/plain": [
       "0.1938778728877288"
      ]
     },
     "execution_count": 30,
     "metadata": {},
     "output_type": "execute_result"
    }
   ],
   "source": [
    "from sklearn.metrics import silhouette_score\n",
    "silhouette_score(basket.values, cluster_Ag.labels_, metric='euclidean')"
   ]
  },
  {
   "cell_type": "markdown",
   "metadata": {},
   "source": [
    "## Usamos Kmedoides con P.A.M\n",
    "\n",
    "Debemos de fijar la cantidad de cluster"
   ]
  },
  {
   "cell_type": "code",
   "execution_count": 31,
   "metadata": {
    "tags": []
   },
   "outputs": [
    {
     "name": "stdout",
     "output_type": "stream",
     "text": [
      "Tiempo de ejecución :  0.004445000000487198 \n",
      "\n",
      "Índice de los puntos que pertenecen a un clúster::  [[39, 43, 45, 46, 47, 53, 54, 55, 57, 58, 60, 63, 64, 67, 70, 72, 73, 75, 76, 77, 78, 79, 80, 81, 82, 85, 86, 87, 89, 90, 91, 92, 93, 94], [26, 37, 41, 42, 50, 61, 62, 65, 66, 68, 71, 74, 83, 84, 95], [0, 1, 2, 3, 4, 5, 6, 7, 9, 11, 13, 15, 16, 18, 19, 22, 23, 24, 27, 28, 32, 36, 38, 56], [8, 10, 12, 14, 17, 20, 21, 25, 29, 30, 31, 33, 34, 35, 40, 44, 48, 49, 51, 52, 59, 69, 88]]\n",
      "Índice de los medoides que el algoritmo encontró como los mejores: [80, 74, 11, 33]\n"
     ]
    }
   ],
   "source": [
    "seed = 16 # con esto definimos la semilla o con random_state\n",
    "np.random.seed(seed)\n",
    "\n",
    "kmedoids_instance = kmedoids(zscore_df.values, [3, 6, 4,10],random_state=16); ## para probar mas cluster solo agregar en\n",
    "# la lista [3, 6, 4] aca seria para 3 cluster si quieres 4 agrega [3, 6, 4, 10] un valor cualesquiera por que son aleatorios\n",
    "\n",
    "# Ejecutar el algoritmo K-Medoids y medir el tiempo de ejecución\n",
    "(ticks, result) = timedcall(kmedoids_instance.process);\n",
    "print(\"Tiempo de ejecución : \", ticks, \"\\n\");\n",
    "\n",
    "# retornando los clusters \n",
    "clusters_Kmed = kmedoids_instance.get_clusters();\n",
    "\n",
    "# Devolviendo las medoides \n",
    "medoids = kmedoids_instance.get_medoids();\n",
    "\n",
    "print(\"Índice de los puntos que pertenecen a un clúster:: \",clusters_Kmed)\n",
    "print(\"Índice de los medoides que el algoritmo encontró como los mejores:\", medoids)"
   ]
  },
  {
   "cell_type": "code",
   "execution_count": 32,
   "metadata": {
    "tags": []
   },
   "outputs": [
    {
     "data": {
      "text/plain": [
       "[39,\n",
       " 43,\n",
       " 45,\n",
       " 46,\n",
       " 47,\n",
       " 53,\n",
       " 54,\n",
       " 55,\n",
       " 57,\n",
       " 58,\n",
       " 60,\n",
       " 63,\n",
       " 64,\n",
       " 67,\n",
       " 70,\n",
       " 72,\n",
       " 73,\n",
       " 75,\n",
       " 76,\n",
       " 77,\n",
       " 78,\n",
       " 79,\n",
       " 80,\n",
       " 81,\n",
       " 82,\n",
       " 85,\n",
       " 86,\n",
       " 87,\n",
       " 89,\n",
       " 90,\n",
       " 91,\n",
       " 92,\n",
       " 93,\n",
       " 94]"
      ]
     },
     "execution_count": 32,
     "metadata": {},
     "output_type": "execute_result"
    }
   ],
   "source": [
    "clusters_Kmed[0]"
   ]
  },
  {
   "cell_type": "markdown",
   "metadata": {},
   "source": [
    "Adecuamos los cluster con etiquetas"
   ]
  },
  {
   "cell_type": "code",
   "execution_count": 38,
   "metadata": {
    "tags": []
   },
   "outputs": [],
   "source": [
    "# label = pd.DataFrame()\n",
    "# for i in range(4):  \n",
    "#     print(i)\n",
    "#     a = pd.DataFrame(clusters_Kmed[i],columns = ['Index']) \n",
    "#     a['Cluster'] = i\n",
    "#     label = label.append(a)"
   ]
  },
  {
   "cell_type": "code",
   "execution_count": 39,
   "metadata": {
    "tags": []
   },
   "outputs": [
    {
     "name": "stdout",
     "output_type": "stream",
     "text": [
      "0\n",
      "1\n",
      "2\n",
      "3\n"
     ]
    }
   ],
   "source": [
    "import pandas as pd\n",
    "\n",
    "# Inicializar una lista para almacenar los DataFrames individuales\n",
    "label_list = []\n",
    "\n",
    "for i in range(4):\n",
    "    print(i)\n",
    "    # Crear DataFrame individual\n",
    "    a = pd.DataFrame(clusters_Kmed[i], columns=['Index'])\n",
    "    a['Cluster'] = i\n",
    "    # Agregar el DataFrame a la lista\n",
    "    label_list.append(a)\n",
    "\n",
    "# Combinar todos los DataFrames en uno solo usando pd.concat\n",
    "label = pd.concat(label_list, ignore_index=True)\n"
   ]
  },
  {
   "cell_type": "code",
   "execution_count": 40,
   "metadata": {
    "tags": []
   },
   "outputs": [
    {
     "data": {
      "text/html": [
       "<div>\n",
       "<style scoped>\n",
       "    .dataframe tbody tr th:only-of-type {\n",
       "        vertical-align: middle;\n",
       "    }\n",
       "\n",
       "    .dataframe tbody tr th {\n",
       "        vertical-align: top;\n",
       "    }\n",
       "\n",
       "    .dataframe thead th {\n",
       "        text-align: right;\n",
       "    }\n",
       "</style>\n",
       "<table border=\"1\" class=\"dataframe\">\n",
       "  <thead>\n",
       "    <tr style=\"text-align: right;\">\n",
       "      <th></th>\n",
       "      <th>Index</th>\n",
       "      <th>Cluster</th>\n",
       "    </tr>\n",
       "  </thead>\n",
       "  <tbody>\n",
       "    <tr>\n",
       "      <th>0</th>\n",
       "      <td>39</td>\n",
       "      <td>0</td>\n",
       "    </tr>\n",
       "    <tr>\n",
       "      <th>1</th>\n",
       "      <td>43</td>\n",
       "      <td>0</td>\n",
       "    </tr>\n",
       "    <tr>\n",
       "      <th>2</th>\n",
       "      <td>45</td>\n",
       "      <td>0</td>\n",
       "    </tr>\n",
       "    <tr>\n",
       "      <th>3</th>\n",
       "      <td>46</td>\n",
       "      <td>0</td>\n",
       "    </tr>\n",
       "    <tr>\n",
       "      <th>4</th>\n",
       "      <td>47</td>\n",
       "      <td>0</td>\n",
       "    </tr>\n",
       "    <tr>\n",
       "      <th>...</th>\n",
       "      <td>...</td>\n",
       "      <td>...</td>\n",
       "    </tr>\n",
       "    <tr>\n",
       "      <th>91</th>\n",
       "      <td>51</td>\n",
       "      <td>3</td>\n",
       "    </tr>\n",
       "    <tr>\n",
       "      <th>92</th>\n",
       "      <td>52</td>\n",
       "      <td>3</td>\n",
       "    </tr>\n",
       "    <tr>\n",
       "      <th>93</th>\n",
       "      <td>59</td>\n",
       "      <td>3</td>\n",
       "    </tr>\n",
       "    <tr>\n",
       "      <th>94</th>\n",
       "      <td>69</td>\n",
       "      <td>3</td>\n",
       "    </tr>\n",
       "    <tr>\n",
       "      <th>95</th>\n",
       "      <td>88</td>\n",
       "      <td>3</td>\n",
       "    </tr>\n",
       "  </tbody>\n",
       "</table>\n",
       "<p>96 rows × 2 columns</p>\n",
       "</div>"
      ],
      "text/plain": [
       "    Index  Cluster\n",
       "0      39        0\n",
       "1      43        0\n",
       "2      45        0\n",
       "3      46        0\n",
       "4      47        0\n",
       "..    ...      ...\n",
       "91     51        3\n",
       "92     52        3\n",
       "93     59        3\n",
       "94     69        3\n",
       "95     88        3\n",
       "\n",
       "[96 rows x 2 columns]"
      ]
     },
     "execution_count": 40,
     "metadata": {},
     "output_type": "execute_result"
    }
   ],
   "source": [
    "label"
   ]
  },
  {
   "cell_type": "code",
   "execution_count": 41,
   "metadata": {
    "tags": []
   },
   "outputs": [
    {
     "data": {
      "text/html": [
       "<div>\n",
       "<style scoped>\n",
       "    .dataframe tbody tr th:only-of-type {\n",
       "        vertical-align: middle;\n",
       "    }\n",
       "\n",
       "    .dataframe tbody tr th {\n",
       "        vertical-align: top;\n",
       "    }\n",
       "\n",
       "    .dataframe thead th {\n",
       "        text-align: right;\n",
       "    }\n",
       "</style>\n",
       "<table border=\"1\" class=\"dataframe\">\n",
       "  <thead>\n",
       "    <tr style=\"text-align: right;\">\n",
       "      <th></th>\n",
       "      <th>asisten_porcen_minuto</th>\n",
       "      <th>talla</th>\n",
       "      <th>tiempo_juego</th>\n",
       "      <th>edad</th>\n",
       "      <th>puntos_porcen_minuto</th>\n",
       "      <th>Cluster</th>\n",
       "    </tr>\n",
       "  </thead>\n",
       "  <tbody>\n",
       "    <tr>\n",
       "      <th>0</th>\n",
       "      <td>0.0888</td>\n",
       "      <td>201</td>\n",
       "      <td>36.02</td>\n",
       "      <td>28</td>\n",
       "      <td>0.5885</td>\n",
       "      <td>2</td>\n",
       "    </tr>\n",
       "    <tr>\n",
       "      <th>1</th>\n",
       "      <td>0.1399</td>\n",
       "      <td>198</td>\n",
       "      <td>39.32</td>\n",
       "      <td>30</td>\n",
       "      <td>0.8291</td>\n",
       "      <td>2</td>\n",
       "    </tr>\n",
       "    <tr>\n",
       "      <th>2</th>\n",
       "      <td>0.0747</td>\n",
       "      <td>198</td>\n",
       "      <td>38.80</td>\n",
       "      <td>26</td>\n",
       "      <td>0.4974</td>\n",
       "      <td>2</td>\n",
       "    </tr>\n",
       "    <tr>\n",
       "      <th>3</th>\n",
       "      <td>0.0983</td>\n",
       "      <td>191</td>\n",
       "      <td>40.71</td>\n",
       "      <td>30</td>\n",
       "      <td>0.5772</td>\n",
       "      <td>2</td>\n",
       "    </tr>\n",
       "    <tr>\n",
       "      <th>4</th>\n",
       "      <td>0.1276</td>\n",
       "      <td>196</td>\n",
       "      <td>38.40</td>\n",
       "      <td>28</td>\n",
       "      <td>0.5703</td>\n",
       "      <td>2</td>\n",
       "    </tr>\n",
       "    <tr>\n",
       "      <th>...</th>\n",
       "      <td>...</td>\n",
       "      <td>...</td>\n",
       "      <td>...</td>\n",
       "      <td>...</td>\n",
       "      <td>...</td>\n",
       "      <td>...</td>\n",
       "    </tr>\n",
       "    <tr>\n",
       "      <th>91</th>\n",
       "      <td>0.1554</td>\n",
       "      <td>183</td>\n",
       "      <td>11.58</td>\n",
       "      <td>24</td>\n",
       "      <td>0.3195</td>\n",
       "      <td>0</td>\n",
       "    </tr>\n",
       "    <tr>\n",
       "      <th>92</th>\n",
       "      <td>0.2282</td>\n",
       "      <td>185</td>\n",
       "      <td>10.08</td>\n",
       "      <td>24</td>\n",
       "      <td>0.2381</td>\n",
       "      <td>0</td>\n",
       "    </tr>\n",
       "    <tr>\n",
       "      <th>93</th>\n",
       "      <td>0.1778</td>\n",
       "      <td>185</td>\n",
       "      <td>18.56</td>\n",
       "      <td>23</td>\n",
       "      <td>0.2802</td>\n",
       "      <td>0</td>\n",
       "    </tr>\n",
       "    <tr>\n",
       "      <th>94</th>\n",
       "      <td>0.1863</td>\n",
       "      <td>185</td>\n",
       "      <td>11.81</td>\n",
       "      <td>23</td>\n",
       "      <td>0.3810</td>\n",
       "      <td>0</td>\n",
       "    </tr>\n",
       "    <tr>\n",
       "      <th>95</th>\n",
       "      <td>0.1014</td>\n",
       "      <td>193</td>\n",
       "      <td>13.81</td>\n",
       "      <td>32</td>\n",
       "      <td>0.1593</td>\n",
       "      <td>1</td>\n",
       "    </tr>\n",
       "  </tbody>\n",
       "</table>\n",
       "<p>96 rows × 6 columns</p>\n",
       "</div>"
      ],
      "text/plain": [
       "    asisten_porcen_minuto  talla  tiempo_juego  edad  puntos_porcen_minuto  \\\n",
       "0                  0.0888    201         36.02    28                0.5885   \n",
       "1                  0.1399    198         39.32    30                0.8291   \n",
       "2                  0.0747    198         38.80    26                0.4974   \n",
       "3                  0.0983    191         40.71    30                0.5772   \n",
       "4                  0.1276    196         38.40    28                0.5703   \n",
       "..                    ...    ...           ...   ...                   ...   \n",
       "91                 0.1554    183         11.58    24                0.3195   \n",
       "92                 0.2282    185         10.08    24                0.2381   \n",
       "93                 0.1778    185         18.56    23                0.2802   \n",
       "94                 0.1863    185         11.81    23                0.3810   \n",
       "95                 0.1014    193         13.81    32                0.1593   \n",
       "\n",
       "    Cluster  \n",
       "0         2  \n",
       "1         2  \n",
       "2         2  \n",
       "3         2  \n",
       "4         2  \n",
       "..      ...  \n",
       "91        0  \n",
       "92        0  \n",
       "93        0  \n",
       "94        0  \n",
       "95        1  \n",
       "\n",
       "[96 rows x 6 columns]"
      ]
     },
     "execution_count": 41,
     "metadata": {},
     "output_type": "execute_result"
    }
   ],
   "source": [
    "label_f = label.sort_values(by ='Index').reset_index(drop='true')\n",
    "cluster_Med = pd.concat([basket,label_f['Cluster']], axis=1) # axis = 1 es por columnas\n",
    "cluster_Med"
   ]
  },
  {
   "cell_type": "code",
   "execution_count": 42,
   "metadata": {
    "tags": []
   },
   "outputs": [
    {
     "data": {
      "text/plain": [
       "Cluster\n",
       "0    34\n",
       "2    24\n",
       "3    23\n",
       "1    15\n",
       "Name: count, dtype: int64"
      ]
     },
     "execution_count": 42,
     "metadata": {},
     "output_type": "execute_result"
    }
   ],
   "source": [
    "cluster_Med.Cluster.value_counts()"
   ]
  },
  {
   "cell_type": "markdown",
   "metadata": {},
   "source": [
    "## Visualizacion en 2D"
   ]
  },
  {
   "cell_type": "code",
   "execution_count": 43,
   "metadata": {
    "tags": []
   },
   "outputs": [
    {
     "data": {
      "text/plain": [
       "<matplotlib.collections.PathCollection at 0x1b4bcba6410>"
      ]
     },
     "execution_count": 43,
     "metadata": {},
     "output_type": "execute_result"
    },
    {
     "data": {
      "image/png": "[encoded data removed]",
      "text/plain": [
       "<Figure size 1000x700 with 1 Axes>"
      ]
     },
     "metadata": {},
     "output_type": "display_data"
    }
   ],
   "source": [
    "plt.figure(figsize=(10, 7))  \n",
    "plt.scatter(zscore_df['asisten_porcen_minuto'], zscore_df['puntos_porcen_minuto'], c=cluster_Med.Cluster, cmap='rainbow') "
   ]
  },
  {
   "cell_type": "markdown",
   "metadata": {},
   "source": [
    "## Visualizacion en 3D"
   ]
  },
  {
   "cell_type": "code",
   "execution_count": 44,
   "metadata": {
    "tags": []
   },
   "outputs": [
    {
     "data": {
      "application/vnd.plotly.v1+json": {
       "config": {
        "plotlyServerURL": "https://plot.ly"
       },
       "data": [
        {
         "hovertemplate": "color=2<br>asisten_porcen_minuto=%{x}<br>tiempo_juego=%{y}<br>edad=%{z}<extra></extra>",
         "legendgroup": "2",
         "marker": {
          "color": "#636efa",
          "symbol": "circle"
         },
         "mode": "markers",
         "name": "2",
         "scene": "scene",
         "showlegend": true,
         "type": "scatter3d",
         "x": [
          0.1338769962623174,
          0.30750934420659193,
          0.08596670064559972,
          0.1661569826707441,
          0.2657152565409445,
          0.399932042133877,
          0.4797825348284064,
          0.19266055045871558,
          0.39959225280326205,
          0.24906557934080872,
          0.32857628270472305,
          0,
          0.20829085966700647,
          0.17431192660550457,
          0.19469928644240572,
          0.38498131158681625,
          0.308868501529052,
          0.363234794427455,
          0.2738702004757051,
          0.1365953109072375,
          0.19164118246687054,
          0.25891946992864423,
          0.2884811416921509,
          0.01902820251444104
         ],
         "y": [
          0.8468821416911525,
          0.9546196539340515,
          0.9376428338230491,
          1,
          0.9245837414299705,
          0.7841984982043748,
          0.852758733268038,
          0.870714985308521,
          0.7659157688540645,
          0.8681031668299053,
          0.8328436173685929,
          0.7280444009141365,
          0.8207639569049949,
          0.6114920013059093,
          0.8331700946784197,
          0.6944172380019589,
          0.7646098596147568,
          0.7992164544564153,
          0.6754815540319947,
          0.5089781260202417,
          0.5964740450538688,
          0.5808031341821744,
          0.6914789422135161,
          0.6199804113614105
         ],
         "z": [
          0.40000000000000013,
          0.5333333333333334,
          0.26666666666666683,
          0.5333333333333334,
          0.40000000000000013,
          0.5999999999999999,
          0.5333333333333334,
          0.3333333333333335,
          0.13333333333333353,
          0.4666666666666668,
          0.5333333333333334,
          0.6666666666666667,
          0.20000000000000018,
          0.8,
          0.06666666666666665,
          0.40000000000000013,
          0.06666666666666665,
          0.6666666666666667,
          0.26666666666666683,
          0.5333333333333334,
          0.40000000000000013,
          0.4666666666666668,
          0.40000000000000013,
          0.5999999999999999
         ]
        },
        {
         "hovertemplate": "color=3<br>asisten_porcen_minuto=%{x}<br>tiempo_juego=%{y}<br>edad=%{z}<extra></extra>",
         "legendgroup": "3",
         "marker": {
          "color": "#EF553B",
          "symbol": "circle"
         },
         "mode": "markers",
         "name": "3",
         "scene": "scene",
         "showlegend": true,
         "type": "scatter3d",
         "x": [
          0.6632687733605165,
          0.6765205572545022,
          0.2534828406388039,
          0.6187563710499491,
          0.6887529731566429,
          0.49677200135915733,
          0.4532789670404349,
          0.7431192660550459,
          0.5358477743798845,
          0.5946313285762826,
          1,
          0.6224940536867143,
          0.3679918450560653,
          0.6228338430173292,
          0.6418620455317704,
          0.6034658511722732,
          0.6799184505606524,
          0.6401630988786953,
          0.5351681957186545,
          0.5402650356778798,
          0.7737003058103976,
          0.6975874957526333,
          0.7213727488956846
         ],
         "y": [
          0.9255631733594514,
          0.8139079333986288,
          0.7770159973881816,
          0.9118511263467188,
          0.7068233757753835,
          0.822722820763957,
          0.6353248449232778,
          0.9614756774404178,
          0.8534116878876916,
          0.8641854391119816,
          0.810643160300359,
          0.7655892915442377,
          0.6852758733268038,
          0.863206007182501,
          0.8217433888344758,
          0.7064968984655566,
          0.6653607574273588,
          0.7280444009141365,
          0.7757100881488737,
          0.5794972249428665,
          0.5546849493960171,
          0.798889977146588,
          0.4694743715311786
         ],
         "z": [
          0.4666666666666668,
          0.3333333333333335,
          0.13333333333333353,
          0.40000000000000013,
          0.4666666666666668,
          0.6666666666666667,
          0.40000000000000013,
          0.3333333333333335,
          0.5333333333333334,
          0.06666666666666665,
          0.5999999999999999,
          0.3333333333333335,
          0.20000000000000018,
          0.6666666666666667,
          0.26666666666666683,
          0.3333333333333335,
          0.20000000000000018,
          0.3333333333333335,
          0.5333333333333334,
          0.20000000000000018,
          0.40000000000000013,
          0.40000000000000013,
          0.3333333333333335
         ]
        },
        {
         "hovertemplate": "color=1<br>asisten_porcen_minuto=%{x}<br>tiempo_juego=%{y}<br>edad=%{z}<extra></extra>",
         "legendgroup": "1",
         "marker": {
          "color": "#00cc96",
          "symbol": "circle"
         },
         "mode": "markers",
         "name": "1",
         "scene": "scene",
         "showlegend": true,
         "type": "scatter3d",
         "x": [
          0.2521236833163438,
          0.19571865443425077,
          0.17397213727488955,
          0.5674481821270813,
          0.3730886850152906,
          0.5558953448861705,
          0.29289840299014613,
          0.3340129119945634,
          0.2796466190961604,
          0.5548759768943256,
          0.13727488956846753,
          0.3513421678559293,
          0.3989126741420319,
          0.1963982330954808,
          0.17669045191980973
         ],
         "y": [
          0.5426052889324191,
          0.46457721188377404,
          0.41756447926869084,
          0.4704538034606594,
          0.5115899444988574,
          0.375775383610839,
          0.10414626183480247,
          0.3339862879529872,
          0.24094025465230168,
          0.14658831211230822,
          0.10741103493307214,
          0.20502775057133532,
          0.14038524322559587,
          0.06660137120470128,
          0.12177603656545871
         ],
         "z": [
          0.8,
          0.8,
          0.5333333333333334,
          0.6666666666666667,
          0.5999999999999999,
          0.5333333333333334,
          0.5999999999999999,
          0.5999999999999999,
          0.7333333333333336,
          1.0000000000000002,
          0.8,
          0.7333333333333336,
          0.8666666666666669,
          0.5999999999999999,
          0.6666666666666667
         ]
        },
        {
         "hovertemplate": "color=0<br>asisten_porcen_minuto=%{x}<br>tiempo_juego=%{y}<br>edad=%{z}<extra></extra>",
         "legendgroup": "0",
         "marker": {
          "color": "#ab63fa",
          "symbol": "circle"
         },
         "mode": "markers",
         "name": "0",
         "scene": "scene",
         "showlegend": true,
         "type": "scatter3d",
         "x": [
          0.031260618416581704,
          0.3367312266394835,
          0.3924566768603466,
          0.235813795446823,
          0.4913353720693171,
          0.13013931362555217,
          0.17533129459734967,
          0.1522256201155284,
          0.19605844376486578,
          0.07951070336391439,
          0.011552837240910635,
          0.18654434250764526,
          0.21610601427115186,
          0.5752633367312266,
          0.3727488956846755,
          0.5613319741760109,
          0.4678899082568807,
          0.3622154264356099,
          0.6299694189602447,
          0.3836221542643561,
          0.2531430513081889,
          0.5722052327556915,
          0.3785253143051308,
          0.10567448182127079,
          0.43560992184845404,
          0.45090044172612986,
          0.4709480122324159,
          0.22867821950390757,
          0.509683995922528,
          0.4118246687054027,
          0.3601766904519199,
          0.6075433231396534,
          0.43628950050968407,
          0.4651715936119606
         ],
         "y": [
          0.3950375448906301,
          0.4404178909565785,
          0.5817825661116551,
          0.41332027424094026,
          0.34410708455762323,
          0.3783872020894548,
          0.38230492980737835,
          0.3294156056154098,
          0.46359777995429324,
          0.29905321580150174,
          0.2895853738165198,
          0.2030688867123735,
          0.42213516160626846,
          0.38752856676460984,
          0.38916095331374473,
          0.34051583414952663,
          0.31668299053215804,
          0.1942539993470454,
          0.4632713026444662,
          0.2745674175644793,
          0.2507345739471107,
          0.10545217107411037,
          0.2393078681031669,
          0.1172053542278812,
          0.24094025465230168,
          0.08325171400587661,
          0.07051909892262492,
          0.06268364348677768,
          0.32582435520731307,
          0.22592229840026118,
          0.04897159647404509,
          0,
          0.27685275873326803,
          0.056480574600065336
         ],
         "z": [
          0.06666666666666665,
          0.3333333333333335,
          0.20000000000000018,
          0.13333333333333353,
          0.3333333333333335,
          0.26666666666666683,
          0.13333333333333353,
          0.26666666666666683,
          0.13333333333333353,
          0.3333333333333335,
          0,
          0.06666666666666665,
          0.20000000000000018,
          0.40000000000000013,
          0.13333333333333353,
          0.13333333333333353,
          0.40000000000000013,
          0.06666666666666665,
          0.26666666666666683,
          0.40000000000000013,
          0.26666666666666683,
          0.20000000000000018,
          0.26666666666666683,
          0.20000000000000018,
          0.3333333333333335,
          0.20000000000000018,
          0.5333333333333334,
          0.13333333333333353,
          0.3333333333333335,
          0.20000000000000018,
          0.13333333333333353,
          0.13333333333333353,
          0.06666666666666665,
          0.06666666666666665
         ]
        }
       ],
       "layout": {
        "legend": {
         "title": {
          "text": "color"
         },
         "tracegroupgap": 0
        },
        "margin": {
         "t": 60
        },
        "scene": {
         "domain": {
          "x": [
           0,
           1
          ],
          "y": [
           0,
           1
          ]
         },
         "xaxis": {
          "title": {
           "text": "asisten_porcen_minuto"
          }
         },
         "yaxis": {
          "title": {
           "text": "tiempo_juego"
          }
         },
         "zaxis": {
          "title": {
           "text": "edad"
          }
         }
        },
        "template": {
         "data": {
          "bar": [
           {
            "error_x": {
             "color": "#2a3f5f"
            },
            "error_y": {
             "color": "#2a3f5f"
            },
            "marker": {
             "line": {
              "color": "#E5ECF6",
              "width": 0.5
             },
             "pattern": {
              "fillmode": "overlay",
              "size": 10,
              "solidity": 0.2
             }
            },
            "type": "bar"
           }
          ],
          "barpolar": [
           {
            "marker": {
             "line": {
              "color": "#E5ECF6",
              "width": 0.5
             },
             "pattern": {
              "fillmode": "overlay",
              "size": 10,
              "solidity": 0.2
             }
            },
            "type": "barpolar"
           }
          ],
          "carpet": [
           {
            "aaxis": {
             "endlinecolor": "#2a3f5f",
             "gridcolor": "white",
             "linecolor": "white",
             "minorgridcolor": "white",
             "startlinecolor": "#2a3f5f"
            },
            "baxis": {
             "endlinecolor": "#2a3f5f",
             "gridcolor": "white",
             "linecolor": "white",
             "minorgridcolor": "white",
             "startlinecolor": "#2a3f5f"
            },
            "type": "carpet"
           }
          ],
          "choropleth": [
           {
            "colorbar": {
             "outlinewidth": 0,
             "ticks": ""
            },
            "type": "choropleth"
           }
          ],
          "contour": [
           {
            "colorbar": {
             "outlinewidth": 0,
             "ticks": ""
            },
            "colorscale": [
             [
              0,
              "#0d0887"
             ],
             [
              0.1111111111111111,
              "#46039f"
             ],
             [
              0.2222222222222222,
              "#7201a8"
             ],
             [
              0.3333333333333333,
              "#9c179e"
             ],
             [
              0.4444444444444444,
              "#bd3786"
             ],
             [
              0.5555555555555556,
              "#d8576b"
             ],
             [
              0.6666666666666666,
              "#ed7953"
             ],
             [
              0.7777777777777778,
              "#fb9f3a"
             ],
             [
              0.8888888888888888,
              "#fdca26"
             ],
             [
              1,
              "#f0f921"
             ]
            ],
            "type": "contour"
           }
          ],
          "contourcarpet": [
           {
            "colorbar": {
             "outlinewidth": 0,
             "ticks": ""
            },
            "type": "contourcarpet"
           }
          ],
          "heatmap": [
           {
            "colorbar": {
             "outlinewidth": 0,
             "ticks": ""
            },
            "colorscale": [
             [
              0,
              "#0d0887"
             ],
             [
              0.1111111111111111,
              "#46039f"
             ],
             [
              0.2222222222222222,
              "#7201a8"
             ],
             [
              0.3333333333333333,
              "#9c179e"
             ],
             [
              0.4444444444444444,
              "#bd3786"
             ],
             [
              0.5555555555555556,
              "#d8576b"
             ],
             [
              0.6666666666666666,
              "#ed7953"
             ],
             [
              0.7777777777777778,
              "#fb9f3a"
             ],
             [
              0.8888888888888888,
              "#fdca26"
             ],
             [
              1,
              "#f0f921"
             ]
            ],
            "type": "heatmap"
           }
          ],
          "heatmapgl": [
           {
            "colorbar": {
             "outlinewidth": 0,
             "ticks": ""
            },
            "colorscale": [
             [
              0,
              "#0d0887"
             ],
             [
              0.1111111111111111,
              "#46039f"
             ],
             [
              0.2222222222222222,
              "#7201a8"
             ],
             [
              0.3333333333333333,
              "#9c179e"
             ],
             [
              0.4444444444444444,
              "#bd3786"
             ],
             [
              0.5555555555555556,
              "#d8576b"
             ],
             [
              0.6666666666666666,
              "#ed7953"
             ],
             [
              0.7777777777777778,
              "#fb9f3a"
             ],
             [
              0.8888888888888888,
              "#fdca26"
             ],
             [
              1,
              "#f0f921"
             ]
            ],
            "type": "heatmapgl"
           }
          ],
          "histogram": [
           {
            "marker": {
             "pattern": {
              "fillmode": "overlay",
              "size": 10,
              "solidity": 0.2
             }
            },
            "type": "histogram"
           }
          ],
          "histogram2d": [
           {
            "colorbar": {
             "outlinewidth": 0,
             "ticks": ""
            },
            "colorscale": [
             [
              0,
              "#0d0887"
             ],
             [
              0.1111111111111111,
              "#46039f"
             ],
             [
              0.2222222222222222,
              "#7201a8"
             ],
             [
              0.3333333333333333,
              "#9c179e"
             ],
             [
              0.4444444444444444,
              "#bd3786"
             ],
             [
              0.5555555555555556,
              "#d8576b"
             ],
             [
              0.6666666666666666,
              "#ed7953"
             ],
             [
              0.7777777777777778,
              "#fb9f3a"
             ],
             [
              0.8888888888888888,
              "#fdca26"
             ],
             [
              1,
              "#f0f921"
             ]
            ],
            "type": "histogram2d"
           }
          ],
          "histogram2dcontour": [
           {
            "colorbar": {
             "outlinewidth": 0,
             "ticks": ""
            },
            "colorscale": [
             [
              0,
              "#0d0887"
             ],
             [
              0.1111111111111111,
              "#46039f"
             ],
             [
              0.2222222222222222,
              "#7201a8"
             ],
             [
              0.3333333333333333,
              "#9c179e"
             ],
             [
              0.4444444444444444,
              "#bd3786"
             ],
             [
              0.5555555555555556,
              "#d8576b"
             ],
             [
              0.6666666666666666,
              "#ed7953"
             ],
             [
              0.7777777777777778,
              "#fb9f3a"
             ],
             [
              0.8888888888888888,
              "#fdca26"
             ],
             [
              1,
              "#f0f921"
             ]
            ],
            "type": "histogram2dcontour"
           }
          ],
          "mesh3d": [
           {
            "colorbar": {
             "outlinewidth": 0,
             "ticks": ""
            },
            "type": "mesh3d"
           }
          ],
          "parcoords": [
           {
            "line": {
             "colorbar": {
              "outlinewidth": 0,
              "ticks": ""
             }
            },
            "type": "parcoords"
           }
          ],
          "pie": [
           {
            "automargin": true,
            "type": "pie"
           }
          ],
          "scatter": [
           {
            "fillpattern": {
             "fillmode": "overlay",
             "size": 10,
             "solidity": 0.2
            },
            "type": "scatter"
           }
          ],
          "scatter3d": [
           {
            "line": {
             "colorbar": {
              "outlinewidth": 0,
              "ticks": ""
             }
            },
            "marker": {
             "colorbar": {
              "outlinewidth": 0,
              "ticks": ""
             }
            },
            "type": "scatter3d"
           }
          ],
          "scattercarpet": [
           {
            "marker": {
             "colorbar": {
              "outlinewidth": 0,
              "ticks": ""
             }
            },
            "type": "scattercarpet"
           }
          ],
          "scattergeo": [
           {
            "marker": {
             "colorbar": {
              "outlinewidth": 0,
              "ticks": ""
             }
            },
            "type": "scattergeo"
           }
          ],
          "scattergl": [
           {
            "marker": {
             "colorbar": {
              "outlinewidth": 0,
              "ticks": ""
             }
            },
            "type": "scattergl"
           }
          ],
          "scattermapbox": [
           {
            "marker": {
             "colorbar": {
              "outlinewidth": 0,
              "ticks": ""
             }
            },
            "type": "scattermapbox"
           }
          ],
          "scatterpolar": [
           {
            "marker": {
             "colorbar": {
              "outlinewidth": 0,
              "ticks": ""
             }
            },
            "type": "scatterpolar"
           }
          ],
          "scatterpolargl": [
           {
            "marker": {
             "colorbar": {
              "outlinewidth": 0,
              "ticks": ""
             }
            },
            "type": "scatterpolargl"
           }
          ],
          "scatterternary": [
           {
            "marker": {
             "colorbar": {
              "outlinewidth": 0,
              "ticks": ""
             }
            },
            "type": "scatterternary"
           }
          ],
          "surface": [
           {
            "colorbar": {
             "outlinewidth": 0,
             "ticks": ""
            },
            "colorscale": [
             [
              0,
              "#0d0887"
             ],
             [
              0.1111111111111111,
              "#46039f"
             ],
             [
              0.2222222222222222,
              "#7201a8"
             ],
             [
              0.3333333333333333,
              "#9c179e"
             ],
             [
              0.4444444444444444,
              "#bd3786"
             ],
             [
              0.5555555555555556,
              "#d8576b"
             ],
             [
              0.6666666666666666,
              "#ed7953"
             ],
             [
              0.7777777777777778,
              "#fb9f3a"
             ],
             [
              0.8888888888888888,
              "#fdca26"
             ],
             [
              1,
              "#f0f921"
             ]
            ],
            "type": "surface"
           }
          ],
          "table": [
           {
            "cells": {
             "fill": {
              "color": "#EBF0F8"
             },
             "line": {
              "color": "white"
             }
            },
            "header": {
             "fill": {
              "color": "#C8D4E3"
             },
             "line": {
              "color": "white"
             }
            },
            "type": "table"
           }
          ]
         },
         "layout": {
          "annotationdefaults": {
           "arrowcolor": "#2a3f5f",
           "arrowhead": 0,
           "arrowwidth": 1
          },
          "autotypenumbers": "strict",
          "coloraxis": {
           "colorbar": {
            "outlinewidth": 0,
            "ticks": ""
           }
          },
          "colorscale": {
           "diverging": [
            [
             0,
             "#8e0152"
            ],
            [
             0.1,
             "#c51b7d"
            ],
            [
             0.2,
             "#de77ae"
            ],
            [
             0.3,
             "#f1b6da"
            ],
            [
             0.4,
             "#fde0ef"
            ],
            [
             0.5,
             "#f7f7f7"
            ],
            [
             0.6,
             "#e6f5d0"
            ],
            [
             0.7,
             "#b8e186"
            ],
            [
             0.8,
             "#7fbc41"
            ],
            [
             0.9,
             "#4d9221"
            ],
            [
             1,
             "#276419"
            ]
           ],
           "sequential": [
            [
             0,
             "#0d0887"
            ],
            [
             0.1111111111111111,
             "#46039f"
            ],
            [
             0.2222222222222222,
             "#7201a8"
            ],
            [
             0.3333333333333333,
             "#9c179e"
            ],
            [
             0.4444444444444444,
             "#bd3786"
            ],
            [
             0.5555555555555556,
             "#d8576b"
            ],
            [
             0.6666666666666666,
             "#ed7953"
            ],
            [
             0.7777777777777778,
             "#fb9f3a"
            ],
            [
             0.8888888888888888,
             "#fdca26"
            ],
            [
             1,
             "#f0f921"
            ]
           ],
           "sequentialminus": [
            [
             0,
             "#0d0887"
            ],
            [
             0.1111111111111111,
             "#46039f"
            ],
            [
             0.2222222222222222,
             "#7201a8"
            ],
            [
             0.3333333333333333,
             "#9c179e"
            ],
            [
             0.4444444444444444,
             "#bd3786"
            ],
            [
             0.5555555555555556,
             "#d8576b"
            ],
            [
             0.6666666666666666,
             "#ed7953"
            ],
            [
             0.7777777777777778,
             "#fb9f3a"
            ],
            [
             0.8888888888888888,
             "#fdca26"
            ],
            [
             1,
             "#f0f921"
            ]
           ]
          },
          "colorway": [
           "#636efa",
           "#EF553B",
           "#00cc96",
           "#ab63fa",
           "#FFA15A",
           "#19d3f3",
           "#FF6692",
           "#B6E880",
           "#FF97FF",
           "#FECB52"
          ],
          "font": {
           "color": "#2a3f5f"
          },
          "geo": {
           "bgcolor": "white",
           "lakecolor": "white",
           "landcolor": "#E5ECF6",
           "showlakes": true,
           "showland": true,
           "subunitcolor": "white"
          },
          "hoverlabel": {
           "align": "left"
          },
          "hovermode": "closest",
          "mapbox": {
           "style": "light"
          },
          "paper_bgcolor": "white",
          "plot_bgcolor": "#E5ECF6",
          "polar": {
           "angularaxis": {
            "gridcolor": "white",
            "linecolor": "white",
            "ticks": ""
           },
           "bgcolor": "#E5ECF6",
           "radialaxis": {
            "gridcolor": "white",
            "linecolor": "white",
            "ticks": ""
           }
          },
          "scene": {
           "xaxis": {
            "backgroundcolor": "#E5ECF6",
            "gridcolor": "white",
            "gridwidth": 2,
            "linecolor": "white",
            "showbackground": true,
            "ticks": "",
            "zerolinecolor": "white"
           },
           "yaxis": {
            "backgroundcolor": "#E5ECF6",
            "gridcolor": "white",
            "gridwidth": 2,
            "linecolor": "white",
            "showbackground": true,
            "ticks": "",
            "zerolinecolor": "white"
           },
           "zaxis": {
            "backgroundcolor": "#E5ECF6",
            "gridcolor": "white",
            "gridwidth": 2,
            "linecolor": "white",
            "showbackground": true,
            "ticks": "",
            "zerolinecolor": "white"
           }
          },
          "shapedefaults": {
           "line": {
            "color": "#2a3f5f"
           }
          },
          "ternary": {
           "aaxis": {
            "gridcolor": "white",
            "linecolor": "white",
            "ticks": ""
           },
           "baxis": {
            "gridcolor": "white",
            "linecolor": "white",
            "ticks": ""
           },
           "bgcolor": "#E5ECF6",
           "caxis": {
            "gridcolor": "white",
            "linecolor": "white",
            "ticks": ""
           }
          },
          "title": {
           "x": 0.05
          },
          "xaxis": {
           "automargin": true,
           "gridcolor": "white",
           "linecolor": "white",
           "ticks": "",
           "title": {
            "standoff": 15
           },
           "zerolinecolor": "white",
           "zerolinewidth": 2
          },
          "yaxis": {
           "automargin": true,
           "gridcolor": "white",
           "linecolor": "white",
           "ticks": "",
           "title": {
            "standoff": 15
           },
           "zerolinecolor": "white",
           "zerolinewidth": 2
          }
         }
        }
       }
      },
      "text/html": [
       "<div>                            <div id=\"21d4bec8-0111-47cc-9d26-5b3cf4f27b77\" class=\"plotly-graph-div\" style=\"height:525px; width:100%;\"></div>            <script type=\"text/javascript\">                require([\"plotly\"], function(Plotly) {                    window.PLOTLYENV=window.PLOTLYENV || {};                                    if (document.getElementById(\"21d4bec8-0111-47cc-9d26-5b3cf4f27b77\")) {                    Plotly.newPlot(                        \"21d4bec8-0111-47cc-9d26-5b3cf4f27b77\",                        [{\"hovertemplate\":\"color=2\\u003cbr\\u003easisten_porcen_minuto=%{x}\\u003cbr\\u003etiempo_juego=%{y}\\u003cbr\\u003eedad=%{z}\\u003cextra\\u003e\\u003c\\u002fextra\\u003e\",\"legendgroup\":\"2\",\"marker\":{\"color\":\"#636efa\",\"symbol\":\"circle\"},\"mode\":\"markers\",\"name\":\"2\",\"scene\":\"scene\",\"showlegend\":true,\"x\":[0.1338769962623174,0.30750934420659193,0.08596670064559972,0.1661569826707441,0.2657152565409445,0.399932042133877,0.4797825348284064,0.19266055045871558,0.39959225280326205,0.24906557934080872,0.32857628270472305,0.0,0.20829085966700647,0.17431192660550457,0.19469928644240572,0.38498131158681625,0.308868501529052,0.363234794427455,0.2738702004757051,0.1365953109072375,0.19164118246687054,0.25891946992864423,0.2884811416921509,0.01902820251444104],\"y\":[0.8468821416911525,0.9546196539340515,0.9376428338230491,1.0,0.9245837414299705,0.7841984982043748,0.852758733268038,0.870714985308521,0.7659157688540645,0.8681031668299053,0.8328436173685929,0.7280444009141365,0.8207639569049949,0.6114920013059093,0.8331700946784197,0.6944172380019589,0.7646098596147568,0.7992164544564153,0.6754815540319947,0.5089781260202417,0.5964740450538688,0.5808031341821744,0.6914789422135161,0.6199804113614105],\"z\":[0.40000000000000013,0.5333333333333334,0.26666666666666683,0.5333333333333334,0.40000000000000013,0.5999999999999999,0.5333333333333334,0.3333333333333335,0.13333333333333353,0.4666666666666668,0.5333333333333334,0.6666666666666667,0.20000000000000018,0.8,0.06666666666666665,0.40000000000000013,0.06666666666666665,0.6666666666666667,0.26666666666666683,0.5333333333333334,0.40000000000000013,0.4666666666666668,0.40000000000000013,0.5999999999999999],\"type\":\"scatter3d\"},{\"hovertemplate\":\"color=3\\u003cbr\\u003easisten_porcen_minuto=%{x}\\u003cbr\\u003etiempo_juego=%{y}\\u003cbr\\u003eedad=%{z}\\u003cextra\\u003e\\u003c\\u002fextra\\u003e\",\"legendgroup\":\"3\",\"marker\":{\"color\":\"#EF553B\",\"symbol\":\"circle\"},\"mode\":\"markers\",\"name\":\"3\",\"scene\":\"scene\",\"showlegend\":true,\"x\":[0.6632687733605165,0.6765205572545022,0.2534828406388039,0.6187563710499491,0.6887529731566429,0.49677200135915733,0.4532789670404349,0.7431192660550459,0.5358477743798845,0.5946313285762826,1.0,0.6224940536867143,0.3679918450560653,0.6228338430173292,0.6418620455317704,0.6034658511722732,0.6799184505606524,0.6401630988786953,0.5351681957186545,0.5402650356778798,0.7737003058103976,0.6975874957526333,0.7213727488956846],\"y\":[0.9255631733594514,0.8139079333986288,0.7770159973881816,0.9118511263467188,0.7068233757753835,0.822722820763957,0.6353248449232778,0.9614756774404178,0.8534116878876916,0.8641854391119816,0.810643160300359,0.7655892915442377,0.6852758733268038,0.863206007182501,0.8217433888344758,0.7064968984655566,0.6653607574273588,0.7280444009141365,0.7757100881488737,0.5794972249428665,0.5546849493960171,0.798889977146588,0.4694743715311786],\"z\":[0.4666666666666668,0.3333333333333335,0.13333333333333353,0.40000000000000013,0.4666666666666668,0.6666666666666667,0.40000000000000013,0.3333333333333335,0.5333333333333334,0.06666666666666665,0.5999999999999999,0.3333333333333335,0.20000000000000018,0.6666666666666667,0.26666666666666683,0.3333333333333335,0.20000000000000018,0.3333333333333335,0.5333333333333334,0.20000000000000018,0.40000000000000013,0.40000000000000013,0.3333333333333335],\"type\":\"scatter3d\"},{\"hovertemplate\":\"color=1\\u003cbr\\u003easisten_porcen_minuto=%{x}\\u003cbr\\u003etiempo_juego=%{y}\\u003cbr\\u003eedad=%{z}\\u003cextra\\u003e\\u003c\\u002fextra\\u003e\",\"legendgroup\":\"1\",\"marker\":{\"color\":\"#00cc96\",\"symbol\":\"circle\"},\"mode\":\"markers\",\"name\":\"1\",\"scene\":\"scene\",\"showlegend\":true,\"x\":[0.2521236833163438,0.19571865443425077,0.17397213727488955,0.5674481821270813,0.3730886850152906,0.5558953448861705,0.29289840299014613,0.3340129119945634,0.2796466190961604,0.5548759768943256,0.13727488956846753,0.3513421678559293,0.3989126741420319,0.1963982330954808,0.17669045191980973],\"y\":[0.5426052889324191,0.46457721188377404,0.41756447926869084,0.4704538034606594,0.5115899444988574,0.375775383610839,0.10414626183480247,0.3339862879529872,0.24094025465230168,0.14658831211230822,0.10741103493307214,0.20502775057133532,0.14038524322559587,0.06660137120470128,0.12177603656545871],\"z\":[0.8,0.8,0.5333333333333334,0.6666666666666667,0.5999999999999999,0.5333333333333334,0.5999999999999999,0.5999999999999999,0.7333333333333336,1.0000000000000002,0.8,0.7333333333333336,0.8666666666666669,0.5999999999999999,0.6666666666666667],\"type\":\"scatter3d\"},{\"hovertemplate\":\"color=0\\u003cbr\\u003easisten_porcen_minuto=%{x}\\u003cbr\\u003etiempo_juego=%{y}\\u003cbr\\u003eedad=%{z}\\u003cextra\\u003e\\u003c\\u002fextra\\u003e\",\"legendgroup\":\"0\",\"marker\":{\"color\":\"#ab63fa\",\"symbol\":\"circle\"},\"mode\":\"markers\",\"name\":\"0\",\"scene\":\"scene\",\"showlegend\":true,\"x\":[0.031260618416581704,0.3367312266394835,0.3924566768603466,0.235813795446823,0.4913353720693171,0.13013931362555217,0.17533129459734967,0.1522256201155284,0.19605844376486578,0.07951070336391439,0.011552837240910635,0.18654434250764526,0.21610601427115186,0.5752633367312266,0.3727488956846755,0.5613319741760109,0.4678899082568807,0.3622154264356099,0.6299694189602447,0.3836221542643561,0.2531430513081889,0.5722052327556915,0.3785253143051308,0.10567448182127079,0.43560992184845404,0.45090044172612986,0.4709480122324159,0.22867821950390757,0.509683995922528,0.4118246687054027,0.3601766904519199,0.6075433231396534,0.43628950050968407,0.4651715936119606],\"y\":[0.3950375448906301,0.4404178909565785,0.5817825661116551,0.41332027424094026,0.34410708455762323,0.3783872020894548,0.38230492980737835,0.3294156056154098,0.46359777995429324,0.29905321580150174,0.2895853738165198,0.2030688867123735,0.42213516160626846,0.38752856676460984,0.38916095331374473,0.34051583414952663,0.31668299053215804,0.1942539993470454,0.4632713026444662,0.2745674175644793,0.2507345739471107,0.10545217107411037,0.2393078681031669,0.1172053542278812,0.24094025465230168,0.08325171400587661,0.07051909892262492,0.06268364348677768,0.32582435520731307,0.22592229840026118,0.04897159647404509,0.0,0.27685275873326803,0.056480574600065336],\"z\":[0.06666666666666665,0.3333333333333335,0.20000000000000018,0.13333333333333353,0.3333333333333335,0.26666666666666683,0.13333333333333353,0.26666666666666683,0.13333333333333353,0.3333333333333335,0.0,0.06666666666666665,0.20000000000000018,0.40000000000000013,0.13333333333333353,0.13333333333333353,0.40000000000000013,0.06666666666666665,0.26666666666666683,0.40000000000000013,0.26666666666666683,0.20000000000000018,0.26666666666666683,0.20000000000000018,0.3333333333333335,0.20000000000000018,0.5333333333333334,0.13333333333333353,0.3333333333333335,0.20000000000000018,0.13333333333333353,0.13333333333333353,0.06666666666666665,0.06666666666666665],\"type\":\"scatter3d\"}],                        {\"template\":{\"data\":{\"histogram2dcontour\":[{\"type\":\"histogram2dcontour\",\"colorbar\":{\"outlinewidth\":0,\"ticks\":\"\"},\"colorscale\":[[0.0,\"#0d0887\"],[0.1111111111111111,\"#46039f\"],[0.2222222222222222,\"#7201a8\"],[0.3333333333333333,\"#9c179e\"],[0.4444444444444444,\"#bd3786\"],[0.5555555555555556,\"#d8576b\"],[0.6666666666666666,\"#ed7953\"],[0.7777777777777778,\"#fb9f3a\"],[0.8888888888888888,\"#fdca26\"],[1.0,\"#f0f921\"]]}],\"choropleth\":[{\"type\":\"choropleth\",\"colorbar\":{\"outlinewidth\":0,\"ticks\":\"\"}}],\"histogram2d\":[{\"type\":\"histogram2d\",\"colorbar\":{\"outlinewidth\":0,\"ticks\":\"\"},\"colorscale\":[[0.0,\"#0d0887\"],[0.1111111111111111,\"#46039f\"],[0.2222222222222222,\"#7201a8\"],[0.3333333333333333,\"#9c179e\"],[0.4444444444444444,\"#bd3786\"],[0.5555555555555556,\"#d8576b\"],[0.6666666666666666,\"#ed7953\"],[0.7777777777777778,\"#fb9f3a\"],[0.8888888888888888,\"#fdca26\"],[1.0,\"#f0f921\"]]}],\"heatmap\":[{\"type\":\"heatmap\",\"colorbar\":{\"outlinewidth\":0,\"ticks\":\"\"},\"colorscale\":[[0.0,\"#0d0887\"],[0.1111111111111111,\"#46039f\"],[0.2222222222222222,\"#7201a8\"],[0.3333333333333333,\"#9c179e\"],[0.4444444444444444,\"#bd3786\"],[0.5555555555555556,\"#d8576b\"],[0.6666666666666666,\"#ed7953\"],[0.7777777777777778,\"#fb9f3a\"],[0.8888888888888888,\"#fdca26\"],[1.0,\"#f0f921\"]]}],\"heatmapgl\":[{\"type\":\"heatmapgl\",\"colorbar\":{\"outlinewidth\":0,\"ticks\":\"\"},\"colorscale\":[[0.0,\"#0d0887\"],[0.1111111111111111,\"#46039f\"],[0.2222222222222222,\"#7201a8\"],[0.3333333333333333,\"#9c179e\"],[0.4444444444444444,\"#bd3786\"],[0.5555555555555556,\"#d8576b\"],[0.6666666666666666,\"#ed7953\"],[0.7777777777777778,\"#fb9f3a\"],[0.8888888888888888,\"#fdca26\"],[1.0,\"#f0f921\"]]}],\"contourcarpet\":[{\"type\":\"contourcarpet\",\"colorbar\":{\"outlinewidth\":0,\"ticks\":\"\"}}],\"contour\":[{\"type\":\"contour\",\"colorbar\":{\"outlinewidth\":0,\"ticks\":\"\"},\"colorscale\":[[0.0,\"#0d0887\"],[0.1111111111111111,\"#46039f\"],[0.2222222222222222,\"#7201a8\"],[0.3333333333333333,\"#9c179e\"],[0.4444444444444444,\"#bd3786\"],[0.5555555555555556,\"#d8576b\"],[0.6666666666666666,\"#ed7953\"],[0.7777777777777778,\"#fb9f3a\"],[0.8888888888888888,\"#fdca26\"],[1.0,\"#f0f921\"]]}],\"surface\":[{\"type\":\"surface\",\"colorbar\":{\"outlinewidth\":0,\"ticks\":\"\"},\"colorscale\":[[0.0,\"#0d0887\"],[0.1111111111111111,\"#46039f\"],[0.2222222222222222,\"#7201a8\"],[0.3333333333333333,\"#9c179e\"],[0.4444444444444444,\"#bd3786\"],[0.5555555555555556,\"#d8576b\"],[0.6666666666666666,\"#ed7953\"],[0.7777777777777778,\"#fb9f3a\"],[0.8888888888888888,\"#fdca26\"],[1.0,\"#f0f921\"]]}],\"mesh3d\":[{\"type\":\"mesh3d\",\"colorbar\":{\"outlinewidth\":0,\"ticks\":\"\"}}],\"scatter\":[{\"fillpattern\":{\"fillmode\":\"overlay\",\"size\":10,\"solidity\":0.2},\"type\":\"scatter\"}],\"parcoords\":[{\"type\":\"parcoords\",\"line\":{\"colorbar\":{\"outlinewidth\":0,\"ticks\":\"\"}}}],\"scatterpolargl\":[{\"type\":\"scatterpolargl\",\"marker\":{\"colorbar\":{\"outlinewidth\":0,\"ticks\":\"\"}}}],\"bar\":[{\"error_x\":{\"color\":\"#2a3f5f\"},\"error_y\":{\"color\":\"#2a3f5f\"},\"marker\":{\"line\":{\"color\":\"#E5ECF6\",\"width\":0.5},\"pattern\":{\"fillmode\":\"overlay\",\"size\":10,\"solidity\":0.2}},\"type\":\"bar\"}],\"scattergeo\":[{\"type\":\"scattergeo\",\"marker\":{\"colorbar\":{\"outlinewidth\":0,\"ticks\":\"\"}}}],\"scatterpolar\":[{\"type\":\"scatterpolar\",\"marker\":{\"colorbar\":{\"outlinewidth\":0,\"ticks\":\"\"}}}],\"histogram\":[{\"marker\":{\"pattern\":{\"fillmode\":\"overlay\",\"size\":10,\"solidity\":0.2}},\"type\":\"histogram\"}],\"scattergl\":[{\"type\":\"scattergl\",\"marker\":{\"colorbar\":{\"outlinewidth\":0,\"ticks\":\"\"}}}],\"scatter3d\":[{\"type\":\"scatter3d\",\"line\":{\"colorbar\":{\"outlinewidth\":0,\"ticks\":\"\"}},\"marker\":{\"colorbar\":{\"outlinewidth\":0,\"ticks\":\"\"}}}],\"scattermapbox\":[{\"type\":\"scattermapbox\",\"marker\":{\"colorbar\":{\"outlinewidth\":0,\"ticks\":\"\"}}}],\"scatterternary\":[{\"type\":\"scatterternary\",\"marker\":{\"colorbar\":{\"outlinewidth\":0,\"ticks\":\"\"}}}],\"scattercarpet\":[{\"type\":\"scattercarpet\",\"marker\":{\"colorbar\":{\"outlinewidth\":0,\"ticks\":\"\"}}}],\"carpet\":[{\"aaxis\":{\"endlinecolor\":\"#2a3f5f\",\"gridcolor\":\"white\",\"linecolor\":\"white\",\"minorgridcolor\":\"white\",\"startlinecolor\":\"#2a3f5f\"},\"baxis\":{\"endlinecolor\":\"#2a3f5f\",\"gridcolor\":\"white\",\"linecolor\":\"white\",\"minorgridcolor\":\"white\",\"startlinecolor\":\"#2a3f5f\"},\"type\":\"carpet\"}],\"table\":[{\"cells\":{\"fill\":{\"color\":\"#EBF0F8\"},\"line\":{\"color\":\"white\"}},\"header\":{\"fill\":{\"color\":\"#C8D4E3\"},\"line\":{\"color\":\"white\"}},\"type\":\"table\"}],\"barpolar\":[{\"marker\":{\"line\":{\"color\":\"#E5ECF6\",\"width\":0.5},\"pattern\":{\"fillmode\":\"overlay\",\"size\":10,\"solidity\":0.2}},\"type\":\"barpolar\"}],\"pie\":[{\"automargin\":true,\"type\":\"pie\"}]},\"layout\":{\"autotypenumbers\":\"strict\",\"colorway\":[\"#636efa\",\"#EF553B\",\"#00cc96\",\"#ab63fa\",\"#FFA15A\",\"#19d3f3\",\"#FF6692\",\"#B6E880\",\"#FF97FF\",\"#FECB52\"],\"font\":{\"color\":\"#2a3f5f\"},\"hovermode\":\"closest\",\"hoverlabel\":{\"align\":\"left\"},\"paper_bgcolor\":\"white\",\"plot_bgcolor\":\"#E5ECF6\",\"polar\":{\"bgcolor\":\"#E5ECF6\",\"angularaxis\":{\"gridcolor\":\"white\",\"linecolor\":\"white\",\"ticks\":\"\"},\"radialaxis\":{\"gridcolor\":\"white\",\"linecolor\":\"white\",\"ticks\":\"\"}},\"ternary\":{\"bgcolor\":\"#E5ECF6\",\"aaxis\":{\"gridcolor\":\"white\",\"linecolor\":\"white\",\"ticks\":\"\"},\"baxis\":{\"gridcolor\":\"white\",\"linecolor\":\"white\",\"ticks\":\"\"},\"caxis\":{\"gridcolor\":\"white\",\"linecolor\":\"white\",\"ticks\":\"\"}},\"coloraxis\":{\"colorbar\":{\"outlinewidth\":0,\"ticks\":\"\"}},\"colorscale\":{\"sequential\":[[0.0,\"#0d0887\"],[0.1111111111111111,\"#46039f\"],[0.2222222222222222,\"#7201a8\"],[0.3333333333333333,\"#9c179e\"],[0.4444444444444444,\"#bd3786\"],[0.5555555555555556,\"#d8576b\"],[0.6666666666666666,\"#ed7953\"],[0.7777777777777778,\"#fb9f3a\"],[0.8888888888888888,\"#fdca26\"],[1.0,\"#f0f921\"]],\"sequentialminus\":[[0.0,\"#0d0887\"],[0.1111111111111111,\"#46039f\"],[0.2222222222222222,\"#7201a8\"],[0.3333333333333333,\"#9c179e\"],[0.4444444444444444,\"#bd3786\"],[0.5555555555555556,\"#d8576b\"],[0.6666666666666666,\"#ed7953\"],[0.7777777777777778,\"#fb9f3a\"],[0.8888888888888888,\"#fdca26\"],[1.0,\"#f0f921\"]],\"diverging\":[[0,\"#8e0152\"],[0.1,\"#c51b7d\"],[0.2,\"#de77ae\"],[0.3,\"#f1b6da\"],[0.4,\"#fde0ef\"],[0.5,\"#f7f7f7\"],[0.6,\"#e6f5d0\"],[0.7,\"#b8e186\"],[0.8,\"#7fbc41\"],[0.9,\"#4d9221\"],[1,\"#276419\"]]},\"xaxis\":{\"gridcolor\":\"white\",\"linecolor\":\"white\",\"ticks\":\"\",\"title\":{\"standoff\":15},\"zerolinecolor\":\"white\",\"automargin\":true,\"zerolinewidth\":2},\"yaxis\":{\"gridcolor\":\"white\",\"linecolor\":\"white\",\"ticks\":\"\",\"title\":{\"standoff\":15},\"zerolinecolor\":\"white\",\"automargin\":true,\"zerolinewidth\":2},\"scene\":{\"xaxis\":{\"backgroundcolor\":\"#E5ECF6\",\"gridcolor\":\"white\",\"linecolor\":\"white\",\"showbackground\":true,\"ticks\":\"\",\"zerolinecolor\":\"white\",\"gridwidth\":2},\"yaxis\":{\"backgroundcolor\":\"#E5ECF6\",\"gridcolor\":\"white\",\"linecolor\":\"white\",\"showbackground\":true,\"ticks\":\"\",\"zerolinecolor\":\"white\",\"gridwidth\":2},\"zaxis\":{\"backgroundcolor\":\"#E5ECF6\",\"gridcolor\":\"white\",\"linecolor\":\"white\",\"showbackground\":true,\"ticks\":\"\",\"zerolinecolor\":\"white\",\"gridwidth\":2}},\"shapedefaults\":{\"line\":{\"color\":\"#2a3f5f\"}},\"annotationdefaults\":{\"arrowcolor\":\"#2a3f5f\",\"arrowhead\":0,\"arrowwidth\":1},\"geo\":{\"bgcolor\":\"white\",\"landcolor\":\"#E5ECF6\",\"subunitcolor\":\"white\",\"showland\":true,\"showlakes\":true,\"lakecolor\":\"white\"},\"title\":{\"x\":0.05},\"mapbox\":{\"style\":\"light\"}}},\"scene\":{\"domain\":{\"x\":[0.0,1.0],\"y\":[0.0,1.0]},\"xaxis\":{\"title\":{\"text\":\"asisten_porcen_minuto\"}},\"yaxis\":{\"title\":{\"text\":\"tiempo_juego\"}},\"zaxis\":{\"title\":{\"text\":\"edad\"}}},\"legend\":{\"title\":{\"text\":\"color\"},\"tracegroupgap\":0},\"margin\":{\"t\":60}},                        {\"responsive\": true}                    ).then(function(){\n",
       "                            \n",
       "var gd = document.getElementById('21d4bec8-0111-47cc-9d26-5b3cf4f27b77');\n",
       "var x = new MutationObserver(function (mutations, observer) {{\n",
       "        var display = window.getComputedStyle(gd).display;\n",
       "        if (!display || display === 'none') {{\n",
       "            console.log([gd, 'removed!']);\n",
       "            Plotly.purge(gd);\n",
       "            observer.disconnect();\n",
       "        }}\n",
       "}});\n",
       "\n",
       "// Listen for the removal of the full notebook cells\n",
       "var notebookContainer = gd.closest('#notebook-container');\n",
       "if (notebookContainer) {{\n",
       "    x.observe(notebookContainer, {childList: true});\n",
       "}}\n",
       "\n",
       "// Listen for the clearing of the current output cell\n",
       "var outputEl = gd.closest('.output');\n",
       "if (outputEl) {{\n",
       "    x.observe(outputEl, {childList: true});\n",
       "}}\n",
       "\n",
       "                        })                };                });            </script>        </div>"
      ]
     },
     "metadata": {},
     "output_type": "display_data"
    }
   ],
   "source": [
    "import plotly.express as px\n",
    "\n",
    "fig = px.scatter_3d(zscore_df, x='asisten_porcen_minuto', y='tiempo_juego', z='edad', color=cluster_Med['Cluster'].astype(str))\n",
    "fig.show()\n"
   ]
  },
  {
   "cell_type": "code",
   "execution_count": 45,
   "metadata": {
    "tags": []
   },
   "outputs": [],
   "source": [
    "# Crear un diccionario que mapee cada clúster a un nombre\n",
    "cluster_names = {\n",
    "    0: 'Cluster A',\n",
    "    1: 'Cluster B',\n",
    "    2: 'Cluster C',\n",
    "    3: 'Cluster D'\n",
    "    # Añade más clústeres y nombres si es necesario\n",
    "}\n",
    "\n",
    "# Añadir una nueva columna 'Nombre' en el DataFrame 'basket' con los nombres de clúster correspondientes\n",
    "cluster_Med['Segmento'] = cluster_Med['Cluster'].map(cluster_names)"
   ]
  },
  {
   "cell_type": "code",
   "execution_count": 46,
   "metadata": {
    "tags": []
   },
   "outputs": [
    {
     "data": {
      "text/html": [
       "<div>\n",
       "<style scoped>\n",
       "    .dataframe tbody tr th:only-of-type {\n",
       "        vertical-align: middle;\n",
       "    }\n",
       "\n",
       "    .dataframe tbody tr th {\n",
       "        vertical-align: top;\n",
       "    }\n",
       "\n",
       "    .dataframe thead th {\n",
       "        text-align: right;\n",
       "    }\n",
       "</style>\n",
       "<table border=\"1\" class=\"dataframe\">\n",
       "  <thead>\n",
       "    <tr style=\"text-align: right;\">\n",
       "      <th></th>\n",
       "      <th>asisten_porcen_minuto</th>\n",
       "      <th>talla</th>\n",
       "      <th>tiempo_juego</th>\n",
       "      <th>edad</th>\n",
       "      <th>puntos_porcen_minuto</th>\n",
       "      <th>Cluster</th>\n",
       "      <th>Segmento</th>\n",
       "    </tr>\n",
       "  </thead>\n",
       "  <tbody>\n",
       "    <tr>\n",
       "      <th>0</th>\n",
       "      <td>0.0888</td>\n",
       "      <td>201</td>\n",
       "      <td>36.02</td>\n",
       "      <td>28</td>\n",
       "      <td>0.5885</td>\n",
       "      <td>2</td>\n",
       "      <td>Cluster C</td>\n",
       "    </tr>\n",
       "    <tr>\n",
       "      <th>1</th>\n",
       "      <td>0.1399</td>\n",
       "      <td>198</td>\n",
       "      <td>39.32</td>\n",
       "      <td>30</td>\n",
       "      <td>0.8291</td>\n",
       "      <td>2</td>\n",
       "      <td>Cluster C</td>\n",
       "    </tr>\n",
       "    <tr>\n",
       "      <th>2</th>\n",
       "      <td>0.0747</td>\n",
       "      <td>198</td>\n",
       "      <td>38.80</td>\n",
       "      <td>26</td>\n",
       "      <td>0.4974</td>\n",
       "      <td>2</td>\n",
       "      <td>Cluster C</td>\n",
       "    </tr>\n",
       "    <tr>\n",
       "      <th>3</th>\n",
       "      <td>0.0983</td>\n",
       "      <td>191</td>\n",
       "      <td>40.71</td>\n",
       "      <td>30</td>\n",
       "      <td>0.5772</td>\n",
       "      <td>2</td>\n",
       "      <td>Cluster C</td>\n",
       "    </tr>\n",
       "    <tr>\n",
       "      <th>4</th>\n",
       "      <td>0.1276</td>\n",
       "      <td>196</td>\n",
       "      <td>38.40</td>\n",
       "      <td>28</td>\n",
       "      <td>0.5703</td>\n",
       "      <td>2</td>\n",
       "      <td>Cluster C</td>\n",
       "    </tr>\n",
       "    <tr>\n",
       "      <th>...</th>\n",
       "      <td>...</td>\n",
       "      <td>...</td>\n",
       "      <td>...</td>\n",
       "      <td>...</td>\n",
       "      <td>...</td>\n",
       "      <td>...</td>\n",
       "      <td>...</td>\n",
       "    </tr>\n",
       "    <tr>\n",
       "      <th>91</th>\n",
       "      <td>0.1554</td>\n",
       "      <td>183</td>\n",
       "      <td>11.58</td>\n",
       "      <td>24</td>\n",
       "      <td>0.3195</td>\n",
       "      <td>0</td>\n",
       "      <td>Cluster A</td>\n",
       "    </tr>\n",
       "    <tr>\n",
       "      <th>92</th>\n",
       "      <td>0.2282</td>\n",
       "      <td>185</td>\n",
       "      <td>10.08</td>\n",
       "      <td>24</td>\n",
       "      <td>0.2381</td>\n",
       "      <td>0</td>\n",
       "      <td>Cluster A</td>\n",
       "    </tr>\n",
       "    <tr>\n",
       "      <th>93</th>\n",
       "      <td>0.1778</td>\n",
       "      <td>185</td>\n",
       "      <td>18.56</td>\n",
       "      <td>23</td>\n",
       "      <td>0.2802</td>\n",
       "      <td>0</td>\n",
       "      <td>Cluster A</td>\n",
       "    </tr>\n",
       "    <tr>\n",
       "      <th>94</th>\n",
       "      <td>0.1863</td>\n",
       "      <td>185</td>\n",
       "      <td>11.81</td>\n",
       "      <td>23</td>\n",
       "      <td>0.3810</td>\n",
       "      <td>0</td>\n",
       "      <td>Cluster A</td>\n",
       "    </tr>\n",
       "    <tr>\n",
       "      <th>95</th>\n",
       "      <td>0.1014</td>\n",
       "      <td>193</td>\n",
       "      <td>13.81</td>\n",
       "      <td>32</td>\n",
       "      <td>0.1593</td>\n",
       "      <td>1</td>\n",
       "      <td>Cluster B</td>\n",
       "    </tr>\n",
       "  </tbody>\n",
       "</table>\n",
       "<p>96 rows × 7 columns</p>\n",
       "</div>"
      ],
      "text/plain": [
       "    asisten_porcen_minuto  talla  tiempo_juego  edad  puntos_porcen_minuto  \\\n",
       "0                  0.0888    201         36.02    28                0.5885   \n",
       "1                  0.1399    198         39.32    30                0.8291   \n",
       "2                  0.0747    198         38.80    26                0.4974   \n",
       "3                  0.0983    191         40.71    30                0.5772   \n",
       "4                  0.1276    196         38.40    28                0.5703   \n",
       "..                    ...    ...           ...   ...                   ...   \n",
       "91                 0.1554    183         11.58    24                0.3195   \n",
       "92                 0.2282    185         10.08    24                0.2381   \n",
       "93                 0.1778    185         18.56    23                0.2802   \n",
       "94                 0.1863    185         11.81    23                0.3810   \n",
       "95                 0.1014    193         13.81    32                0.1593   \n",
       "\n",
       "    Cluster   Segmento  \n",
       "0         2  Cluster C  \n",
       "1         2  Cluster C  \n",
       "2         2  Cluster C  \n",
       "3         2  Cluster C  \n",
       "4         2  Cluster C  \n",
       "..      ...        ...  \n",
       "91        0  Cluster A  \n",
       "92        0  Cluster A  \n",
       "93        0  Cluster A  \n",
       "94        0  Cluster A  \n",
       "95        1  Cluster B  \n",
       "\n",
       "[96 rows x 7 columns]"
      ]
     },
     "execution_count": 46,
     "metadata": {},
     "output_type": "execute_result"
    }
   ],
   "source": [
    "cluster_Med"
   ]
  },
  {
   "cell_type": "code",
   "execution_count": 47,
   "metadata": {
    "tags": []
   },
   "outputs": [
    {
     "data": {
      "application/vnd.plotly.v1+json": {
       "config": {
        "plotlyServerURL": "https://plot.ly"
       },
       "data": [
        {
         "hovertemplate": "<b>%{hovertext}</b><br><br>Segmento=2<br>asisten_porcen_minuto=%{x}<br>tiempo_juego=%{y}<br>edad=%{z}<extra></extra>",
         "hovertext": [
          "Cluster C",
          "Cluster C",
          "Cluster C",
          "Cluster C",
          "Cluster C",
          "Cluster C",
          "Cluster C",
          "Cluster C",
          "Cluster C",
          "Cluster C",
          "Cluster C",
          "Cluster C",
          "Cluster C",
          "Cluster C",
          "Cluster C",
          "Cluster C",
          "Cluster C",
          "Cluster C",
          "Cluster C",
          "Cluster C",
          "Cluster C",
          "Cluster C",
          "Cluster C",
          "Cluster C"
         ],
         "legendgroup": "2",
         "marker": {
          "color": "#636efa",
          "symbol": "circle"
         },
         "mode": "markers",
         "name": "2",
         "scene": "scene",
         "showlegend": true,
         "type": "scatter3d",
         "x": [
          0.1338769962623174,
          0.30750934420659193,
          0.08596670064559972,
          0.1661569826707441,
          0.2657152565409445,
          0.399932042133877,
          0.4797825348284064,
          0.19266055045871558,
          0.39959225280326205,
          0.24906557934080872,
          0.32857628270472305,
          0,
          0.20829085966700647,
          0.17431192660550457,
          0.19469928644240572,
          0.38498131158681625,
          0.308868501529052,
          0.363234794427455,
          0.2738702004757051,
          0.1365953109072375,
          0.19164118246687054,
          0.25891946992864423,
          0.2884811416921509,
          0.01902820251444104
         ],
         "y": [
          0.8468821416911525,
          0.9546196539340515,
          0.9376428338230491,
          1,
          0.9245837414299705,
          0.7841984982043748,
          0.852758733268038,
          0.870714985308521,
          0.7659157688540645,
          0.8681031668299053,
          0.8328436173685929,
          0.7280444009141365,
          0.8207639569049949,
          0.6114920013059093,
          0.8331700946784197,
          0.6944172380019589,
          0.7646098596147568,
          0.7992164544564153,
          0.6754815540319947,
          0.5089781260202417,
          0.5964740450538688,
          0.5808031341821744,
          0.6914789422135161,
          0.6199804113614105
         ],
         "z": [
          0.40000000000000013,
          0.5333333333333334,
          0.26666666666666683,
          0.5333333333333334,
          0.40000000000000013,
          0.5999999999999999,
          0.5333333333333334,
          0.3333333333333335,
          0.13333333333333353,
          0.4666666666666668,
          0.5333333333333334,
          0.6666666666666667,
          0.20000000000000018,
          0.8,
          0.06666666666666665,
          0.40000000000000013,
          0.06666666666666665,
          0.6666666666666667,
          0.26666666666666683,
          0.5333333333333334,
          0.40000000000000013,
          0.4666666666666668,
          0.40000000000000013,
          0.5999999999999999
         ]
        },
        {
         "hovertemplate": "<b>%{hovertext}</b><br><br>Segmento=3<br>asisten_porcen_minuto=%{x}<br>tiempo_juego=%{y}<br>edad=%{z}<extra></extra>",
         "hovertext": [
          "Cluster D",
          "Cluster D",
          "Cluster D",
          "Cluster D",
          "Cluster D",
          "Cluster D",
          "Cluster D",
          "Cluster D",
          "Cluster D",
          "Cluster D",
          "Cluster D",
          "Cluster D",
          "Cluster D",
          "Cluster D",
          "Cluster D",
          "Cluster D",
          "Cluster D",
          "Cluster D",
          "Cluster D",
          "Cluster D",
          "Cluster D",
          "Cluster D",
          "Cluster D"
         ],
         "legendgroup": "3",
         "marker": {
          "color": "#EF553B",
          "symbol": "circle"
         },
         "mode": "markers",
         "name": "3",
         "scene": "scene",
         "showlegend": true,
         "type": "scatter3d",
         "x": [
          0.6632687733605165,
          0.6765205572545022,
          0.2534828406388039,
          0.6187563710499491,
          0.6887529731566429,
          0.49677200135915733,
          0.4532789670404349,
          0.7431192660550459,
          0.5358477743798845,
          0.5946313285762826,
          1,
          0.6224940536867143,
          0.3679918450560653,
          0.6228338430173292,
          0.6418620455317704,
          0.6034658511722732,
          0.6799184505606524,
          0.6401630988786953,
          0.5351681957186545,
          0.5402650356778798,
          0.7737003058103976,
          0.6975874957526333,
          0.7213727488956846
         ],
         "y": [
          0.9255631733594514,
          0.8139079333986288,
          0.7770159973881816,
          0.9118511263467188,
          0.7068233757753835,
          0.822722820763957,
          0.6353248449232778,
          0.9614756774404178,
          0.8534116878876916,
          0.8641854391119816,
          0.810643160300359,
          0.7655892915442377,
          0.6852758733268038,
          0.863206007182501,
          0.8217433888344758,
          0.7064968984655566,
          0.6653607574273588,
          0.7280444009141365,
          0.7757100881488737,
          0.5794972249428665,
          0.5546849493960171,
          0.798889977146588,
          0.4694743715311786
         ],
         "z": [
          0.4666666666666668,
          0.3333333333333335,
          0.13333333333333353,
          0.40000000000000013,
          0.4666666666666668,
          0.6666666666666667,
          0.40000000000000013,
          0.3333333333333335,
          0.5333333333333334,
          0.06666666666666665,
          0.5999999999999999,
          0.3333333333333335,
          0.20000000000000018,
          0.6666666666666667,
          0.26666666666666683,
          0.3333333333333335,
          0.20000000000000018,
          0.3333333333333335,
          0.5333333333333334,
          0.20000000000000018,
          0.40000000000000013,
          0.40000000000000013,
          0.3333333333333335
         ]
        },
        {
         "hovertemplate": "<b>%{hovertext}</b><br><br>Segmento=1<br>asisten_porcen_minuto=%{x}<br>tiempo_juego=%{y}<br>edad=%{z}<extra></extra>",
         "hovertext": [
          "Cluster B",
          "Cluster B",
          "Cluster B",
          "Cluster B",
          "Cluster B",
          "Cluster B",
          "Cluster B",
          "Cluster B",
          "Cluster B",
          "Cluster B",
          "Cluster B",
          "Cluster B",
          "Cluster B",
          "Cluster B",
          "Cluster B"
         ],
         "legendgroup": "1",
         "marker": {
          "color": "#00cc96",
          "symbol": "circle"
         },
         "mode": "markers",
         "name": "1",
         "scene": "scene",
         "showlegend": true,
         "type": "scatter3d",
         "x": [
          0.2521236833163438,
          0.19571865443425077,
          0.17397213727488955,
          0.5674481821270813,
          0.3730886850152906,
          0.5558953448861705,
          0.29289840299014613,
          0.3340129119945634,
          0.2796466190961604,
          0.5548759768943256,
          0.13727488956846753,
          0.3513421678559293,
          0.3989126741420319,
          0.1963982330954808,
          0.17669045191980973
         ],
         "y": [
          0.5426052889324191,
          0.46457721188377404,
          0.41756447926869084,
          0.4704538034606594,
          0.5115899444988574,
          0.375775383610839,
          0.10414626183480247,
          0.3339862879529872,
          0.24094025465230168,
          0.14658831211230822,
          0.10741103493307214,
          0.20502775057133532,
          0.14038524322559587,
          0.06660137120470128,
          0.12177603656545871
         ],
         "z": [
          0.8,
          0.8,
          0.5333333333333334,
          0.6666666666666667,
          0.5999999999999999,
          0.5333333333333334,
          0.5999999999999999,
          0.5999999999999999,
          0.7333333333333336,
          1.0000000000000002,
          0.8,
          0.7333333333333336,
          0.8666666666666669,
          0.5999999999999999,
          0.6666666666666667
         ]
        },
        {
         "hovertemplate": "<b>%{hovertext}</b><br><br>Segmento=0<br>asisten_porcen_minuto=%{x}<br>tiempo_juego=%{y}<br>edad=%{z}<extra></extra>",
         "hovertext": [
          "Cluster A",
          "Cluster A",
          "Cluster A",
          "Cluster A",
          "Cluster A",
          "Cluster A",
          "Cluster A",
          "Cluster A",
          "Cluster A",
          "Cluster A",
          "Cluster A",
          "Cluster A",
          "Cluster A",
          "Cluster A",
          "Cluster A",
          "Cluster A",
          "Cluster A",
          "Cluster A",
          "Cluster A",
          "Cluster A",
          "Cluster A",
          "Cluster A",
          "Cluster A",
          "Cluster A",
          "Cluster A",
          "Cluster A",
          "Cluster A",
          "Cluster A",
          "Cluster A",
          "Cluster A",
          "Cluster A",
          "Cluster A",
          "Cluster A",
          "Cluster A"
         ],
         "legendgroup": "0",
         "marker": {
          "color": "#ab63fa",
          "symbol": "circle"
         },
         "mode": "markers",
         "name": "0",
         "scene": "scene",
         "showlegend": true,
         "type": "scatter3d",
         "x": [
          0.031260618416581704,
          0.3367312266394835,
          0.3924566768603466,
          0.235813795446823,
          0.4913353720693171,
          0.13013931362555217,
          0.17533129459734967,
          0.1522256201155284,
          0.19605844376486578,
          0.07951070336391439,
          0.011552837240910635,
          0.18654434250764526,
          0.21610601427115186,
          0.5752633367312266,
          0.3727488956846755,
          0.5613319741760109,
          0.4678899082568807,
          0.3622154264356099,
          0.6299694189602447,
          0.3836221542643561,
          0.2531430513081889,
          0.5722052327556915,
          0.3785253143051308,
          0.10567448182127079,
          0.43560992184845404,
          0.45090044172612986,
          0.4709480122324159,
          0.22867821950390757,
          0.509683995922528,
          0.4118246687054027,
          0.3601766904519199,
          0.6075433231396534,
          0.43628950050968407,
          0.4651715936119606
         ],
         "y": [
          0.3950375448906301,
          0.4404178909565785,
          0.5817825661116551,
          0.41332027424094026,
          0.34410708455762323,
          0.3783872020894548,
          0.38230492980737835,
          0.3294156056154098,
          0.46359777995429324,
          0.29905321580150174,
          0.2895853738165198,
          0.2030688867123735,
          0.42213516160626846,
          0.38752856676460984,
          0.38916095331374473,
          0.34051583414952663,
          0.31668299053215804,
          0.1942539993470454,
          0.4632713026444662,
          0.2745674175644793,
          0.2507345739471107,
          0.10545217107411037,
          0.2393078681031669,
          0.1172053542278812,
          0.24094025465230168,
          0.08325171400587661,
          0.07051909892262492,
          0.06268364348677768,
          0.32582435520731307,
          0.22592229840026118,
          0.04897159647404509,
          0,
          0.27685275873326803,
          0.056480574600065336
         ],
         "z": [
          0.06666666666666665,
          0.3333333333333335,
          0.20000000000000018,
          0.13333333333333353,
          0.3333333333333335,
          0.26666666666666683,
          0.13333333333333353,
          0.26666666666666683,
          0.13333333333333353,
          0.3333333333333335,
          0,
          0.06666666666666665,
          0.20000000000000018,
          0.40000000000000013,
          0.13333333333333353,
          0.13333333333333353,
          0.40000000000000013,
          0.06666666666666665,
          0.26666666666666683,
          0.40000000000000013,
          0.26666666666666683,
          0.20000000000000018,
          0.26666666666666683,
          0.20000000000000018,
          0.3333333333333335,
          0.20000000000000018,
          0.5333333333333334,
          0.13333333333333353,
          0.3333333333333335,
          0.20000000000000018,
          0.13333333333333353,
          0.13333333333333353,
          0.06666666666666665,
          0.06666666666666665
         ]
        }
       ],
       "layout": {
        "legend": {
         "title": {
          "text": "Segmento"
         },
         "tracegroupgap": 0
        },
        "margin": {
         "t": 60
        },
        "scene": {
         "domain": {
          "x": [
           0,
           1
          ],
          "y": [
           0,
           1
          ]
         },
         "xaxis": {
          "title": {
           "text": "asisten_porcen_minuto"
          }
         },
         "yaxis": {
          "title": {
           "text": "tiempo_juego"
          }
         },
         "zaxis": {
          "title": {
           "text": "edad"
          }
         }
        },
        "template": {
         "data": {
          "bar": [
           {
            "error_x": {
             "color": "#2a3f5f"
            },
            "error_y": {
             "color": "#2a3f5f"
            },
            "marker": {
             "line": {
              "color": "#E5ECF6",
              "width": 0.5
             },
             "pattern": {
              "fillmode": "overlay",
              "size": 10,
              "solidity": 0.2
             }
            },
            "type": "bar"
           }
          ],
          "barpolar": [
           {
            "marker": {
             "line": {
              "color": "#E5ECF6",
              "width": 0.5
             },
             "pattern": {
              "fillmode": "overlay",
              "size": 10,
              "solidity": 0.2
             }
            },
            "type": "barpolar"
           }
          ],
          "carpet": [
           {
            "aaxis": {
             "endlinecolor": "#2a3f5f",
             "gridcolor": "white",
             "linecolor": "white",
             "minorgridcolor": "white",
             "startlinecolor": "#2a3f5f"
            },
            "baxis": {
             "endlinecolor": "#2a3f5f",
             "gridcolor": "white",
             "linecolor": "white",
             "minorgridcolor": "white",
             "startlinecolor": "#2a3f5f"
            },
            "type": "carpet"
           }
          ],
          "choropleth": [
           {
            "colorbar": {
             "outlinewidth": 0,
             "ticks": ""
            },
            "type": "choropleth"
           }
          ],
          "contour": [
           {
            "colorbar": {
             "outlinewidth": 0,
             "ticks": ""
            },
            "colorscale": [
             [
              0,
              "#0d0887"
             ],
             [
              0.1111111111111111,
              "#46039f"
             ],
             [
              0.2222222222222222,
              "#7201a8"
             ],
             [
              0.3333333333333333,
              "#9c179e"
             ],
             [
              0.4444444444444444,
              "#bd3786"
             ],
             [
              0.5555555555555556,
              "#d8576b"
             ],
             [
              0.6666666666666666,
              "#ed7953"
             ],
             [
              0.7777777777777778,
              "#fb9f3a"
             ],
             [
              0.8888888888888888,
              "#fdca26"
             ],
             [
              1,
              "#f0f921"
             ]
            ],
            "type": "contour"
           }
          ],
          "contourcarpet": [
           {
            "colorbar": {
             "outlinewidth": 0,
             "ticks": ""
            },
            "type": "contourcarpet"
           }
          ],
          "heatmap": [
           {
            "colorbar": {
             "outlinewidth": 0,
             "ticks": ""
            },
            "colorscale": [
             [
              0,
              "#0d0887"
             ],
             [
              0.1111111111111111,
              "#46039f"
             ],
             [
              0.2222222222222222,
              "#7201a8"
             ],
             [
              0.3333333333333333,
              "#9c179e"
             ],
             [
              0.4444444444444444,
              "#bd3786"
             ],
             [
              0.5555555555555556,
              "#d8576b"
             ],
             [
              0.6666666666666666,
              "#ed7953"
             ],
             [
              0.7777777777777778,
              "#fb9f3a"
             ],
             [
              0.8888888888888888,
              "#fdca26"
             ],
             [
              1,
              "#f0f921"
             ]
            ],
            "type": "heatmap"
           }
          ],
          "heatmapgl": [
           {
            "colorbar": {
             "outlinewidth": 0,
             "ticks": ""
            },
            "colorscale": [
             [
              0,
              "#0d0887"
             ],
             [
              0.1111111111111111,
              "#46039f"
             ],
             [
              0.2222222222222222,
              "#7201a8"
             ],
             [
              0.3333333333333333,
              "#9c179e"
             ],
             [
              0.4444444444444444,
              "#bd3786"
             ],
             [
              0.5555555555555556,
              "#d8576b"
             ],
             [
              0.6666666666666666,
              "#ed7953"
             ],
             [
              0.7777777777777778,
              "#fb9f3a"
             ],
             [
              0.8888888888888888,
              "#fdca26"
             ],
             [
              1,
              "#f0f921"
             ]
            ],
            "type": "heatmapgl"
           }
          ],
          "histogram": [
           {
            "marker": {
             "pattern": {
              "fillmode": "overlay",
              "size": 10,
              "solidity": 0.2
             }
            },
            "type": "histogram"
           }
          ],
          "histogram2d": [
           {
            "colorbar": {
             "outlinewidth": 0,
             "ticks": ""
            },
            "colorscale": [
             [
              0,
              "#0d0887"
             ],
             [
              0.1111111111111111,
              "#46039f"
             ],
             [
              0.2222222222222222,
              "#7201a8"
             ],
             [
              0.3333333333333333,
              "#9c179e"
             ],
             [
              0.4444444444444444,
              "#bd3786"
             ],
             [
              0.5555555555555556,
              "#d8576b"
             ],
             [
              0.6666666666666666,
              "#ed7953"
             ],
             [
              0.7777777777777778,
              "#fb9f3a"
             ],
             [
              0.8888888888888888,
              "#fdca26"
             ],
             [
              1,
              "#f0f921"
             ]
            ],
            "type": "histogram2d"
           }
          ],
          "histogram2dcontour": [
           {
            "colorbar": {
             "outlinewidth": 0,
             "ticks": ""
            },
            "colorscale": [
             [
              0,
              "#0d0887"
             ],
             [
              0.1111111111111111,
              "#46039f"
             ],
             [
              0.2222222222222222,
              "#7201a8"
             ],
             [
              0.3333333333333333,
              "#9c179e"
             ],
             [
              0.4444444444444444,
              "#bd3786"
             ],
             [
              0.5555555555555556,
              "#d8576b"
             ],
             [
              0.6666666666666666,
              "#ed7953"
             ],
             [
              0.7777777777777778,
              "#fb9f3a"
             ],
             [
              0.8888888888888888,
              "#fdca26"
             ],
             [
              1,
              "#f0f921"
             ]
            ],
            "type": "histogram2dcontour"
           }
          ],
          "mesh3d": [
           {
            "colorbar": {
             "outlinewidth": 0,
             "ticks": ""
            },
            "type": "mesh3d"
           }
          ],
          "parcoords": [
           {
            "line": {
             "colorbar": {
              "outlinewidth": 0,
              "ticks": ""
             }
            },
            "type": "parcoords"
           }
          ],
          "pie": [
           {
            "automargin": true,
            "type": "pie"
           }
          ],
          "scatter": [
           {
            "fillpattern": {
             "fillmode": "overlay",
             "size": 10,
             "solidity": 0.2
            },
            "type": "scatter"
           }
          ],
          "scatter3d": [
           {
            "line": {
             "colorbar": {
              "outlinewidth": 0,
              "ticks": ""
             }
            },
            "marker": {
             "colorbar": {
              "outlinewidth": 0,
              "ticks": ""
             }
            },
            "type": "scatter3d"
           }
          ],
          "scattercarpet": [
           {
            "marker": {
             "colorbar": {
              "outlinewidth": 0,
              "ticks": ""
             }
            },
            "type": "scattercarpet"
           }
          ],
          "scattergeo": [
           {
            "marker": {
             "colorbar": {
              "outlinewidth": 0,
              "ticks": ""
             }
            },
            "type": "scattergeo"
           }
          ],
          "scattergl": [
           {
            "marker": {
             "colorbar": {
              "outlinewidth": 0,
              "ticks": ""
             }
            },
            "type": "scattergl"
           }
          ],
          "scattermapbox": [
           {
            "marker": {
             "colorbar": {
              "outlinewidth": 0,
              "ticks": ""
             }
            },
            "type": "scattermapbox"
           }
          ],
          "scatterpolar": [
           {
            "marker": {
             "colorbar": {
              "outlinewidth": 0,
              "ticks": ""
             }
            },
            "type": "scatterpolar"
           }
          ],
          "scatterpolargl": [
           {
            "marker": {
             "colorbar": {
              "outlinewidth": 0,
              "ticks": ""
             }
            },
            "type": "scatterpolargl"
           }
          ],
          "scatterternary": [
           {
            "marker": {
             "colorbar": {
              "outlinewidth": 0,
              "ticks": ""
             }
            },
            "type": "scatterternary"
           }
          ],
          "surface": [
           {
            "colorbar": {
             "outlinewidth": 0,
             "ticks": ""
            },
            "colorscale": [
             [
              0,
              "#0d0887"
             ],
             [
              0.1111111111111111,
              "#46039f"
             ],
             [
              0.2222222222222222,
              "#7201a8"
             ],
             [
              0.3333333333333333,
              "#9c179e"
             ],
             [
              0.4444444444444444,
              "#bd3786"
             ],
             [
              0.5555555555555556,
              "#d8576b"
             ],
             [
              0.6666666666666666,
              "#ed7953"
             ],
             [
              0.7777777777777778,
              "#fb9f3a"
             ],
             [
              0.8888888888888888,
              "#fdca26"
             ],
             [
              1,
              "#f0f921"
             ]
            ],
            "type": "surface"
           }
          ],
          "table": [
           {
            "cells": {
             "fill": {
              "color": "#EBF0F8"
             },
             "line": {
              "color": "white"
             }
            },
            "header": {
             "fill": {
              "color": "#C8D4E3"
             },
             "line": {
              "color": "white"
             }
            },
            "type": "table"
           }
          ]
         },
         "layout": {
          "annotationdefaults": {
           "arrowcolor": "#2a3f5f",
           "arrowhead": 0,
           "arrowwidth": 1
          },
          "autotypenumbers": "strict",
          "coloraxis": {
           "colorbar": {
            "outlinewidth": 0,
            "ticks": ""
           }
          },
          "colorscale": {
           "diverging": [
            [
             0,
             "#8e0152"
            ],
            [
             0.1,
             "#c51b7d"
            ],
            [
             0.2,
             "#de77ae"
            ],
            [
             0.3,
             "#f1b6da"
            ],
            [
             0.4,
             "#fde0ef"
            ],
            [
             0.5,
             "#f7f7f7"
            ],
            [
             0.6,
             "#e6f5d0"
            ],
            [
             0.7,
             "#b8e186"
            ],
            [
             0.8,
             "#7fbc41"
            ],
            [
             0.9,
             "#4d9221"
            ],
            [
             1,
             "#276419"
            ]
           ],
           "sequential": [
            [
             0,
             "#0d0887"
            ],
            [
             0.1111111111111111,
             "#46039f"
            ],
            [
             0.2222222222222222,
             "#7201a8"
            ],
            [
             0.3333333333333333,
             "#9c179e"
            ],
            [
             0.4444444444444444,
             "#bd3786"
            ],
            [
             0.5555555555555556,
             "#d8576b"
            ],
            [
             0.6666666666666666,
             "#ed7953"
            ],
            [
             0.7777777777777778,
             "#fb9f3a"
            ],
            [
             0.8888888888888888,
             "#fdca26"
            ],
            [
             1,
             "#f0f921"
            ]
           ],
           "sequentialminus": [
            [
             0,
             "#0d0887"
            ],
            [
             0.1111111111111111,
             "#46039f"
            ],
            [
             0.2222222222222222,
             "#7201a8"
            ],
            [
             0.3333333333333333,
             "#9c179e"
            ],
            [
             0.4444444444444444,
             "#bd3786"
            ],
            [
             0.5555555555555556,
             "#d8576b"
            ],
            [
             0.6666666666666666,
             "#ed7953"
            ],
            [
             0.7777777777777778,
             "#fb9f3a"
            ],
            [
             0.8888888888888888,
             "#fdca26"
            ],
            [
             1,
             "#f0f921"
            ]
           ]
          },
          "colorway": [
           "#636efa",
           "#EF553B",
           "#00cc96",
           "#ab63fa",
           "#FFA15A",
           "#19d3f3",
           "#FF6692",
           "#B6E880",
           "#FF97FF",
           "#FECB52"
          ],
          "font": {
           "color": "#2a3f5f"
          },
          "geo": {
           "bgcolor": "white",
           "lakecolor": "white",
           "landcolor": "#E5ECF6",
           "showlakes": true,
           "showland": true,
           "subunitcolor": "white"
          },
          "hoverlabel": {
           "align": "left"
          },
          "hovermode": "closest",
          "mapbox": {
           "style": "light"
          },
          "paper_bgcolor": "white",
          "plot_bgcolor": "#E5ECF6",
          "polar": {
           "angularaxis": {
            "gridcolor": "white",
            "linecolor": "white",
            "ticks": ""
           },
           "bgcolor": "#E5ECF6",
           "radialaxis": {
            "gridcolor": "white",
            "linecolor": "white",
            "ticks": ""
           }
          },
          "scene": {
           "xaxis": {
            "backgroundcolor": "#E5ECF6",
            "gridcolor": "white",
            "gridwidth": 2,
            "linecolor": "white",
            "showbackground": true,
            "ticks": "",
            "zerolinecolor": "white"
           },
           "yaxis": {
            "backgroundcolor": "#E5ECF6",
            "gridcolor": "white",
            "gridwidth": 2,
            "linecolor": "white",
            "showbackground": true,
            "ticks": "",
            "zerolinecolor": "white"
           },
           "zaxis": {
            "backgroundcolor": "#E5ECF6",
            "gridcolor": "white",
            "gridwidth": 2,
            "linecolor": "white",
            "showbackground": true,
            "ticks": "",
            "zerolinecolor": "white"
           }
          },
          "shapedefaults": {
           "line": {
            "color": "#2a3f5f"
           }
          },
          "ternary": {
           "aaxis": {
            "gridcolor": "white",
            "linecolor": "white",
            "ticks": ""
           },
           "baxis": {
            "gridcolor": "white",
            "linecolor": "white",
            "ticks": ""
           },
           "bgcolor": "#E5ECF6",
           "caxis": {
            "gridcolor": "white",
            "linecolor": "white",
            "ticks": ""
           }
          },
          "title": {
           "x": 0.05
          },
          "xaxis": {
           "automargin": true,
           "gridcolor": "white",
           "linecolor": "white",
           "ticks": "",
           "title": {
            "standoff": 15
           },
           "zerolinecolor": "white",
           "zerolinewidth": 2
          },
          "yaxis": {
           "automargin": true,
           "gridcolor": "white",
           "linecolor": "white",
           "ticks": "",
           "title": {
            "standoff": 15
           },
           "zerolinecolor": "white",
           "zerolinewidth": 2
          }
         }
        }
       }
      },
      "text/html": [
       "<div>                            <div id=\"b8464e20-94cb-4d8e-aa17-9a3c29c4cf76\" class=\"plotly-graph-div\" style=\"height:525px; width:100%;\"></div>            <script type=\"text/javascript\">                require([\"plotly\"], function(Plotly) {                    window.PLOTLYENV=window.PLOTLYENV || {};                                    if (document.getElementById(\"b8464e20-94cb-4d8e-aa17-9a3c29c4cf76\")) {                    Plotly.newPlot(                        \"b8464e20-94cb-4d8e-aa17-9a3c29c4cf76\",                        [{\"hovertemplate\":\"\\u003cb\\u003e%{hovertext}\\u003c\\u002fb\\u003e\\u003cbr\\u003e\\u003cbr\\u003eSegmento=2\\u003cbr\\u003easisten_porcen_minuto=%{x}\\u003cbr\\u003etiempo_juego=%{y}\\u003cbr\\u003eedad=%{z}\\u003cextra\\u003e\\u003c\\u002fextra\\u003e\",\"hovertext\":[\"Cluster C\",\"Cluster C\",\"Cluster C\",\"Cluster C\",\"Cluster C\",\"Cluster C\",\"Cluster C\",\"Cluster C\",\"Cluster C\",\"Cluster C\",\"Cluster C\",\"Cluster C\",\"Cluster C\",\"Cluster C\",\"Cluster C\",\"Cluster C\",\"Cluster C\",\"Cluster C\",\"Cluster C\",\"Cluster C\",\"Cluster C\",\"Cluster C\",\"Cluster C\",\"Cluster C\"],\"legendgroup\":\"2\",\"marker\":{\"color\":\"#636efa\",\"symbol\":\"circle\"},\"mode\":\"markers\",\"name\":\"2\",\"scene\":\"scene\",\"showlegend\":true,\"x\":[0.1338769962623174,0.30750934420659193,0.08596670064559972,0.1661569826707441,0.2657152565409445,0.399932042133877,0.4797825348284064,0.19266055045871558,0.39959225280326205,0.24906557934080872,0.32857628270472305,0.0,0.20829085966700647,0.17431192660550457,0.19469928644240572,0.38498131158681625,0.308868501529052,0.363234794427455,0.2738702004757051,0.1365953109072375,0.19164118246687054,0.25891946992864423,0.2884811416921509,0.01902820251444104],\"y\":[0.8468821416911525,0.9546196539340515,0.9376428338230491,1.0,0.9245837414299705,0.7841984982043748,0.852758733268038,0.870714985308521,0.7659157688540645,0.8681031668299053,0.8328436173685929,0.7280444009141365,0.8207639569049949,0.6114920013059093,0.8331700946784197,0.6944172380019589,0.7646098596147568,0.7992164544564153,0.6754815540319947,0.5089781260202417,0.5964740450538688,0.5808031341821744,0.6914789422135161,0.6199804113614105],\"z\":[0.40000000000000013,0.5333333333333334,0.26666666666666683,0.5333333333333334,0.40000000000000013,0.5999999999999999,0.5333333333333334,0.3333333333333335,0.13333333333333353,0.4666666666666668,0.5333333333333334,0.6666666666666667,0.20000000000000018,0.8,0.06666666666666665,0.40000000000000013,0.06666666666666665,0.6666666666666667,0.26666666666666683,0.5333333333333334,0.40000000000000013,0.4666666666666668,0.40000000000000013,0.5999999999999999],\"type\":\"scatter3d\"},{\"hovertemplate\":\"\\u003cb\\u003e%{hovertext}\\u003c\\u002fb\\u003e\\u003cbr\\u003e\\u003cbr\\u003eSegmento=3\\u003cbr\\u003easisten_porcen_minuto=%{x}\\u003cbr\\u003etiempo_juego=%{y}\\u003cbr\\u003eedad=%{z}\\u003cextra\\u003e\\u003c\\u002fextra\\u003e\",\"hovertext\":[\"Cluster D\",\"Cluster D\",\"Cluster D\",\"Cluster D\",\"Cluster D\",\"Cluster D\",\"Cluster D\",\"Cluster D\",\"Cluster D\",\"Cluster D\",\"Cluster D\",\"Cluster D\",\"Cluster D\",\"Cluster D\",\"Cluster D\",\"Cluster D\",\"Cluster D\",\"Cluster D\",\"Cluster D\",\"Cluster D\",\"Cluster D\",\"Cluster D\",\"Cluster D\"],\"legendgroup\":\"3\",\"marker\":{\"color\":\"#EF553B\",\"symbol\":\"circle\"},\"mode\":\"markers\",\"name\":\"3\",\"scene\":\"scene\",\"showlegend\":true,\"x\":[0.6632687733605165,0.6765205572545022,0.2534828406388039,0.6187563710499491,0.6887529731566429,0.49677200135915733,0.4532789670404349,0.7431192660550459,0.5358477743798845,0.5946313285762826,1.0,0.6224940536867143,0.3679918450560653,0.6228338430173292,0.6418620455317704,0.6034658511722732,0.6799184505606524,0.6401630988786953,0.5351681957186545,0.5402650356778798,0.7737003058103976,0.6975874957526333,0.7213727488956846],\"y\":[0.9255631733594514,0.8139079333986288,0.7770159973881816,0.9118511263467188,0.7068233757753835,0.822722820763957,0.6353248449232778,0.9614756774404178,0.8534116878876916,0.8641854391119816,0.810643160300359,0.7655892915442377,0.6852758733268038,0.863206007182501,0.8217433888344758,0.7064968984655566,0.6653607574273588,0.7280444009141365,0.7757100881488737,0.5794972249428665,0.5546849493960171,0.798889977146588,0.4694743715311786],\"z\":[0.4666666666666668,0.3333333333333335,0.13333333333333353,0.40000000000000013,0.4666666666666668,0.6666666666666667,0.40000000000000013,0.3333333333333335,0.5333333333333334,0.06666666666666665,0.5999999999999999,0.3333333333333335,0.20000000000000018,0.6666666666666667,0.26666666666666683,0.3333333333333335,0.20000000000000018,0.3333333333333335,0.5333333333333334,0.20000000000000018,0.40000000000000013,0.40000000000000013,0.3333333333333335],\"type\":\"scatter3d\"},{\"hovertemplate\":\"\\u003cb\\u003e%{hovertext}\\u003c\\u002fb\\u003e\\u003cbr\\u003e\\u003cbr\\u003eSegmento=1\\u003cbr\\u003easisten_porcen_minuto=%{x}\\u003cbr\\u003etiempo_juego=%{y}\\u003cbr\\u003eedad=%{z}\\u003cextra\\u003e\\u003c\\u002fextra\\u003e\",\"hovertext\":[\"Cluster B\",\"Cluster B\",\"Cluster B\",\"Cluster B\",\"Cluster B\",\"Cluster B\",\"Cluster B\",\"Cluster B\",\"Cluster B\",\"Cluster B\",\"Cluster B\",\"Cluster B\",\"Cluster B\",\"Cluster B\",\"Cluster B\"],\"legendgroup\":\"1\",\"marker\":{\"color\":\"#00cc96\",\"symbol\":\"circle\"},\"mode\":\"markers\",\"name\":\"1\",\"scene\":\"scene\",\"showlegend\":true,\"x\":[0.2521236833163438,0.19571865443425077,0.17397213727488955,0.5674481821270813,0.3730886850152906,0.5558953448861705,0.29289840299014613,0.3340129119945634,0.2796466190961604,0.5548759768943256,0.13727488956846753,0.3513421678559293,0.3989126741420319,0.1963982330954808,0.17669045191980973],\"y\":[0.5426052889324191,0.46457721188377404,0.41756447926869084,0.4704538034606594,0.5115899444988574,0.375775383610839,0.10414626183480247,0.3339862879529872,0.24094025465230168,0.14658831211230822,0.10741103493307214,0.20502775057133532,0.14038524322559587,0.06660137120470128,0.12177603656545871],\"z\":[0.8,0.8,0.5333333333333334,0.6666666666666667,0.5999999999999999,0.5333333333333334,0.5999999999999999,0.5999999999999999,0.7333333333333336,1.0000000000000002,0.8,0.7333333333333336,0.8666666666666669,0.5999999999999999,0.6666666666666667],\"type\":\"scatter3d\"},{\"hovertemplate\":\"\\u003cb\\u003e%{hovertext}\\u003c\\u002fb\\u003e\\u003cbr\\u003e\\u003cbr\\u003eSegmento=0\\u003cbr\\u003easisten_porcen_minuto=%{x}\\u003cbr\\u003etiempo_juego=%{y}\\u003cbr\\u003eedad=%{z}\\u003cextra\\u003e\\u003c\\u002fextra\\u003e\",\"hovertext\":[\"Cluster A\",\"Cluster A\",\"Cluster A\",\"Cluster A\",\"Cluster A\",\"Cluster A\",\"Cluster A\",\"Cluster A\",\"Cluster A\",\"Cluster A\",\"Cluster A\",\"Cluster A\",\"Cluster A\",\"Cluster A\",\"Cluster A\",\"Cluster A\",\"Cluster A\",\"Cluster A\",\"Cluster A\",\"Cluster A\",\"Cluster A\",\"Cluster A\",\"Cluster A\",\"Cluster A\",\"Cluster A\",\"Cluster A\",\"Cluster A\",\"Cluster A\",\"Cluster A\",\"Cluster A\",\"Cluster A\",\"Cluster A\",\"Cluster A\",\"Cluster A\"],\"legendgroup\":\"0\",\"marker\":{\"color\":\"#ab63fa\",\"symbol\":\"circle\"},\"mode\":\"markers\",\"name\":\"0\",\"scene\":\"scene\",\"showlegend\":true,\"x\":[0.031260618416581704,0.3367312266394835,0.3924566768603466,0.235813795446823,0.4913353720693171,0.13013931362555217,0.17533129459734967,0.1522256201155284,0.19605844376486578,0.07951070336391439,0.011552837240910635,0.18654434250764526,0.21610601427115186,0.5752633367312266,0.3727488956846755,0.5613319741760109,0.4678899082568807,0.3622154264356099,0.6299694189602447,0.3836221542643561,0.2531430513081889,0.5722052327556915,0.3785253143051308,0.10567448182127079,0.43560992184845404,0.45090044172612986,0.4709480122324159,0.22867821950390757,0.509683995922528,0.4118246687054027,0.3601766904519199,0.6075433231396534,0.43628950050968407,0.4651715936119606],\"y\":[0.3950375448906301,0.4404178909565785,0.5817825661116551,0.41332027424094026,0.34410708455762323,0.3783872020894548,0.38230492980737835,0.3294156056154098,0.46359777995429324,0.29905321580150174,0.2895853738165198,0.2030688867123735,0.42213516160626846,0.38752856676460984,0.38916095331374473,0.34051583414952663,0.31668299053215804,0.1942539993470454,0.4632713026444662,0.2745674175644793,0.2507345739471107,0.10545217107411037,0.2393078681031669,0.1172053542278812,0.24094025465230168,0.08325171400587661,0.07051909892262492,0.06268364348677768,0.32582435520731307,0.22592229840026118,0.04897159647404509,0.0,0.27685275873326803,0.056480574600065336],\"z\":[0.06666666666666665,0.3333333333333335,0.20000000000000018,0.13333333333333353,0.3333333333333335,0.26666666666666683,0.13333333333333353,0.26666666666666683,0.13333333333333353,0.3333333333333335,0.0,0.06666666666666665,0.20000000000000018,0.40000000000000013,0.13333333333333353,0.13333333333333353,0.40000000000000013,0.06666666666666665,0.26666666666666683,0.40000000000000013,0.26666666666666683,0.20000000000000018,0.26666666666666683,0.20000000000000018,0.3333333333333335,0.20000000000000018,0.5333333333333334,0.13333333333333353,0.3333333333333335,0.20000000000000018,0.13333333333333353,0.13333333333333353,0.06666666666666665,0.06666666666666665],\"type\":\"scatter3d\"}],                        {\"template\":{\"data\":{\"histogram2dcontour\":[{\"type\":\"histogram2dcontour\",\"colorbar\":{\"outlinewidth\":0,\"ticks\":\"\"},\"colorscale\":[[0.0,\"#0d0887\"],[0.1111111111111111,\"#46039f\"],[0.2222222222222222,\"#7201a8\"],[0.3333333333333333,\"#9c179e\"],[0.4444444444444444,\"#bd3786\"],[0.5555555555555556,\"#d8576b\"],[0.6666666666666666,\"#ed7953\"],[0.7777777777777778,\"#fb9f3a\"],[0.8888888888888888,\"#fdca26\"],[1.0,\"#f0f921\"]]}],\"choropleth\":[{\"type\":\"choropleth\",\"colorbar\":{\"outlinewidth\":0,\"ticks\":\"\"}}],\"histogram2d\":[{\"type\":\"histogram2d\",\"colorbar\":{\"outlinewidth\":0,\"ticks\":\"\"},\"colorscale\":[[0.0,\"#0d0887\"],[0.1111111111111111,\"#46039f\"],[0.2222222222222222,\"#7201a8\"],[0.3333333333333333,\"#9c179e\"],[0.4444444444444444,\"#bd3786\"],[0.5555555555555556,\"#d8576b\"],[0.6666666666666666,\"#ed7953\"],[0.7777777777777778,\"#fb9f3a\"],[0.8888888888888888,\"#fdca26\"],[1.0,\"#f0f921\"]]}],\"heatmap\":[{\"type\":\"heatmap\",\"colorbar\":{\"outlinewidth\":0,\"ticks\":\"\"},\"colorscale\":[[0.0,\"#0d0887\"],[0.1111111111111111,\"#46039f\"],[0.2222222222222222,\"#7201a8\"],[0.3333333333333333,\"#9c179e\"],[0.4444444444444444,\"#bd3786\"],[0.5555555555555556,\"#d8576b\"],[0.6666666666666666,\"#ed7953\"],[0.7777777777777778,\"#fb9f3a\"],[0.8888888888888888,\"#fdca26\"],[1.0,\"#f0f921\"]]}],\"heatmapgl\":[{\"type\":\"heatmapgl\",\"colorbar\":{\"outlinewidth\":0,\"ticks\":\"\"},\"colorscale\":[[0.0,\"#0d0887\"],[0.1111111111111111,\"#46039f\"],[0.2222222222222222,\"#7201a8\"],[0.3333333333333333,\"#9c179e\"],[0.4444444444444444,\"#bd3786\"],[0.5555555555555556,\"#d8576b\"],[0.6666666666666666,\"#ed7953\"],[0.7777777777777778,\"#fb9f3a\"],[0.8888888888888888,\"#fdca26\"],[1.0,\"#f0f921\"]]}],\"contourcarpet\":[{\"type\":\"contourcarpet\",\"colorbar\":{\"outlinewidth\":0,\"ticks\":\"\"}}],\"contour\":[{\"type\":\"contour\",\"colorbar\":{\"outlinewidth\":0,\"ticks\":\"\"},\"colorscale\":[[0.0,\"#0d0887\"],[0.1111111111111111,\"#46039f\"],[0.2222222222222222,\"#7201a8\"],[0.3333333333333333,\"#9c179e\"],[0.4444444444444444,\"#bd3786\"],[0.5555555555555556,\"#d8576b\"],[0.6666666666666666,\"#ed7953\"],[0.7777777777777778,\"#fb9f3a\"],[0.8888888888888888,\"#fdca26\"],[1.0,\"#f0f921\"]]}],\"surface\":[{\"type\":\"surface\",\"colorbar\":{\"outlinewidth\":0,\"ticks\":\"\"},\"colorscale\":[[0.0,\"#0d0887\"],[0.1111111111111111,\"#46039f\"],[0.2222222222222222,\"#7201a8\"],[0.3333333333333333,\"#9c179e\"],[0.4444444444444444,\"#bd3786\"],[0.5555555555555556,\"#d8576b\"],[0.6666666666666666,\"#ed7953\"],[0.7777777777777778,\"#fb9f3a\"],[0.8888888888888888,\"#fdca26\"],[1.0,\"#f0f921\"]]}],\"mesh3d\":[{\"type\":\"mesh3d\",\"colorbar\":{\"outlinewidth\":0,\"ticks\":\"\"}}],\"scatter\":[{\"fillpattern\":{\"fillmode\":\"overlay\",\"size\":10,\"solidity\":0.2},\"type\":\"scatter\"}],\"parcoords\":[{\"type\":\"parcoords\",\"line\":{\"colorbar\":{\"outlinewidth\":0,\"ticks\":\"\"}}}],\"scatterpolargl\":[{\"type\":\"scatterpolargl\",\"marker\":{\"colorbar\":{\"outlinewidth\":0,\"ticks\":\"\"}}}],\"bar\":[{\"error_x\":{\"color\":\"#2a3f5f\"},\"error_y\":{\"color\":\"#2a3f5f\"},\"marker\":{\"line\":{\"color\":\"#E5ECF6\",\"width\":0.5},\"pattern\":{\"fillmode\":\"overlay\",\"size\":10,\"solidity\":0.2}},\"type\":\"bar\"}],\"scattergeo\":[{\"type\":\"scattergeo\",\"marker\":{\"colorbar\":{\"outlinewidth\":0,\"ticks\":\"\"}}}],\"scatterpolar\":[{\"type\":\"scatterpolar\",\"marker\":{\"colorbar\":{\"outlinewidth\":0,\"ticks\":\"\"}}}],\"histogram\":[{\"marker\":{\"pattern\":{\"fillmode\":\"overlay\",\"size\":10,\"solidity\":0.2}},\"type\":\"histogram\"}],\"scattergl\":[{\"type\":\"scattergl\",\"marker\":{\"colorbar\":{\"outlinewidth\":0,\"ticks\":\"\"}}}],\"scatter3d\":[{\"type\":\"scatter3d\",\"line\":{\"colorbar\":{\"outlinewidth\":0,\"ticks\":\"\"}},\"marker\":{\"colorbar\":{\"outlinewidth\":0,\"ticks\":\"\"}}}],\"scattermapbox\":[{\"type\":\"scattermapbox\",\"marker\":{\"colorbar\":{\"outlinewidth\":0,\"ticks\":\"\"}}}],\"scatterternary\":[{\"type\":\"scatterternary\",\"marker\":{\"colorbar\":{\"outlinewidth\":0,\"ticks\":\"\"}}}],\"scattercarpet\":[{\"type\":\"scattercarpet\",\"marker\":{\"colorbar\":{\"outlinewidth\":0,\"ticks\":\"\"}}}],\"carpet\":[{\"aaxis\":{\"endlinecolor\":\"#2a3f5f\",\"gridcolor\":\"white\",\"linecolor\":\"white\",\"minorgridcolor\":\"white\",\"startlinecolor\":\"#2a3f5f\"},\"baxis\":{\"endlinecolor\":\"#2a3f5f\",\"gridcolor\":\"white\",\"linecolor\":\"white\",\"minorgridcolor\":\"white\",\"startlinecolor\":\"#2a3f5f\"},\"type\":\"carpet\"}],\"table\":[{\"cells\":{\"fill\":{\"color\":\"#EBF0F8\"},\"line\":{\"color\":\"white\"}},\"header\":{\"fill\":{\"color\":\"#C8D4E3\"},\"line\":{\"color\":\"white\"}},\"type\":\"table\"}],\"barpolar\":[{\"marker\":{\"line\":{\"color\":\"#E5ECF6\",\"width\":0.5},\"pattern\":{\"fillmode\":\"overlay\",\"size\":10,\"solidity\":0.2}},\"type\":\"barpolar\"}],\"pie\":[{\"automargin\":true,\"type\":\"pie\"}]},\"layout\":{\"autotypenumbers\":\"strict\",\"colorway\":[\"#636efa\",\"#EF553B\",\"#00cc96\",\"#ab63fa\",\"#FFA15A\",\"#19d3f3\",\"#FF6692\",\"#B6E880\",\"#FF97FF\",\"#FECB52\"],\"font\":{\"color\":\"#2a3f5f\"},\"hovermode\":\"closest\",\"hoverlabel\":{\"align\":\"left\"},\"paper_bgcolor\":\"white\",\"plot_bgcolor\":\"#E5ECF6\",\"polar\":{\"bgcolor\":\"#E5ECF6\",\"angularaxis\":{\"gridcolor\":\"white\",\"linecolor\":\"white\",\"ticks\":\"\"},\"radialaxis\":{\"gridcolor\":\"white\",\"linecolor\":\"white\",\"ticks\":\"\"}},\"ternary\":{\"bgcolor\":\"#E5ECF6\",\"aaxis\":{\"gridcolor\":\"white\",\"linecolor\":\"white\",\"ticks\":\"\"},\"baxis\":{\"gridcolor\":\"white\",\"linecolor\":\"white\",\"ticks\":\"\"},\"caxis\":{\"gridcolor\":\"white\",\"linecolor\":\"white\",\"ticks\":\"\"}},\"coloraxis\":{\"colorbar\":{\"outlinewidth\":0,\"ticks\":\"\"}},\"colorscale\":{\"sequential\":[[0.0,\"#0d0887\"],[0.1111111111111111,\"#46039f\"],[0.2222222222222222,\"#7201a8\"],[0.3333333333333333,\"#9c179e\"],[0.4444444444444444,\"#bd3786\"],[0.5555555555555556,\"#d8576b\"],[0.6666666666666666,\"#ed7953\"],[0.7777777777777778,\"#fb9f3a\"],[0.8888888888888888,\"#fdca26\"],[1.0,\"#f0f921\"]],\"sequentialminus\":[[0.0,\"#0d0887\"],[0.1111111111111111,\"#46039f\"],[0.2222222222222222,\"#7201a8\"],[0.3333333333333333,\"#9c179e\"],[0.4444444444444444,\"#bd3786\"],[0.5555555555555556,\"#d8576b\"],[0.6666666666666666,\"#ed7953\"],[0.7777777777777778,\"#fb9f3a\"],[0.8888888888888888,\"#fdca26\"],[1.0,\"#f0f921\"]],\"diverging\":[[0,\"#8e0152\"],[0.1,\"#c51b7d\"],[0.2,\"#de77ae\"],[0.3,\"#f1b6da\"],[0.4,\"#fde0ef\"],[0.5,\"#f7f7f7\"],[0.6,\"#e6f5d0\"],[0.7,\"#b8e186\"],[0.8,\"#7fbc41\"],[0.9,\"#4d9221\"],[1,\"#276419\"]]},\"xaxis\":{\"gridcolor\":\"white\",\"linecolor\":\"white\",\"ticks\":\"\",\"title\":{\"standoff\":15},\"zerolinecolor\":\"white\",\"automargin\":true,\"zerolinewidth\":2},\"yaxis\":{\"gridcolor\":\"white\",\"linecolor\":\"white\",\"ticks\":\"\",\"title\":{\"standoff\":15},\"zerolinecolor\":\"white\",\"automargin\":true,\"zerolinewidth\":2},\"scene\":{\"xaxis\":{\"backgroundcolor\":\"#E5ECF6\",\"gridcolor\":\"white\",\"linecolor\":\"white\",\"showbackground\":true,\"ticks\":\"\",\"zerolinecolor\":\"white\",\"gridwidth\":2},\"yaxis\":{\"backgroundcolor\":\"#E5ECF6\",\"gridcolor\":\"white\",\"linecolor\":\"white\",\"showbackground\":true,\"ticks\":\"\",\"zerolinecolor\":\"white\",\"gridwidth\":2},\"zaxis\":{\"backgroundcolor\":\"#E5ECF6\",\"gridcolor\":\"white\",\"linecolor\":\"white\",\"showbackground\":true,\"ticks\":\"\",\"zerolinecolor\":\"white\",\"gridwidth\":2}},\"shapedefaults\":{\"line\":{\"color\":\"#2a3f5f\"}},\"annotationdefaults\":{\"arrowcolor\":\"#2a3f5f\",\"arrowhead\":0,\"arrowwidth\":1},\"geo\":{\"bgcolor\":\"white\",\"landcolor\":\"#E5ECF6\",\"subunitcolor\":\"white\",\"showland\":true,\"showlakes\":true,\"lakecolor\":\"white\"},\"title\":{\"x\":0.05},\"mapbox\":{\"style\":\"light\"}}},\"scene\":{\"domain\":{\"x\":[0.0,1.0],\"y\":[0.0,1.0]},\"xaxis\":{\"title\":{\"text\":\"asisten_porcen_minuto\"}},\"yaxis\":{\"title\":{\"text\":\"tiempo_juego\"}},\"zaxis\":{\"title\":{\"text\":\"edad\"}}},\"legend\":{\"title\":{\"text\":\"Segmento\"},\"tracegroupgap\":0},\"margin\":{\"t\":60}},                        {\"responsive\": true}                    ).then(function(){\n",
       "                            \n",
       "var gd = document.getElementById('b8464e20-94cb-4d8e-aa17-9a3c29c4cf76');\n",
       "var x = new MutationObserver(function (mutations, observer) {{\n",
       "        var display = window.getComputedStyle(gd).display;\n",
       "        if (!display || display === 'none') {{\n",
       "            console.log([gd, 'removed!']);\n",
       "            Plotly.purge(gd);\n",
       "            observer.disconnect();\n",
       "        }}\n",
       "}});\n",
       "\n",
       "// Listen for the removal of the full notebook cells\n",
       "var notebookContainer = gd.closest('#notebook-container');\n",
       "if (notebookContainer) {{\n",
       "    x.observe(notebookContainer, {childList: true});\n",
       "}}\n",
       "\n",
       "// Listen for the clearing of the current output cell\n",
       "var outputEl = gd.closest('.output');\n",
       "if (outputEl) {{\n",
       "    x.observe(outputEl, {childList: true});\n",
       "}}\n",
       "\n",
       "                        })                };                });            </script>        </div>"
      ]
     },
     "metadata": {},
     "output_type": "display_data"
    }
   ],
   "source": [
    "import plotly.express as px\n",
    "\n",
    "fig = px.scatter_3d(zscore_df, x='asisten_porcen_minuto', y='tiempo_juego', z='edad', color=cluster_Med['Cluster'].astype(str),\n",
    "                    hover_name=cluster_Med['Segmento'],labels={'color': 'Segmento'})\n",
    "fig.show()\n"
   ]
  },
  {
   "cell_type": "markdown",
   "metadata": {},
   "source": [
    "### Métrica de Silueta"
   ]
  },
  {
   "cell_type": "code",
   "execution_count": 48,
   "metadata": {
    "tags": []
   },
   "outputs": [
    {
     "data": {
      "text/plain": [
       "0.22289836852175823"
      ]
     },
     "execution_count": 48,
     "metadata": {},
     "output_type": "execute_result"
    }
   ],
   "source": [
    "from sklearn.metrics import silhouette_score\n",
    "silhouette_score(basket.values, cluster_Med.Cluster, metric='euclidean')"
   ]
  },
  {
   "cell_type": "markdown",
   "metadata": {},
   "source": [
    "## Usamos Kmeans"
   ]
  },
  {
   "cell_type": "code",
   "execution_count": 49,
   "metadata": {
    "tags": []
   },
   "outputs": [
    {
     "name": "stdout",
     "output_type": "stream",
     "text": [
      "The index of kemans that algorithm found to be best : [0 0 0 0 0 0 0 0 3 0 3 0 0 0 3 0 0 3 0 0 3 0 0 0 0 3 2 0 2 3 3 3 0 3 0 3 0\n",
      " 2 0 1 3 2 2 1 3 1 1 1 3 3 2 3 3 1 1 1 2 1 1 3 1 2 2 1 1 2 2 1 2 3 1 2 1 1\n",
      " 2 1 1 1 1 1 1 1 1 2 2 1 2 1 3 1 1 1 1 1 1 2]\n"
     ]
    }
   ],
   "source": [
    "from sklearn.cluster import KMeans\n",
    "\n",
    "kmeans = KMeans(n_clusters=4,random_state=16)\n",
    "kmeans.fit(zscore_df.values)\n",
    "centroids = kmeans.cluster_centers_\n",
    "print(\"The index of kemans that algorithm found to be best :\", kmeans.labels_)"
   ]
  },
  {
   "cell_type": "markdown",
   "metadata": {},
   "source": [
    "Adecuamos los cluster con etiquetas"
   ]
  },
  {
   "cell_type": "code",
   "execution_count": 50,
   "metadata": {
    "tags": []
   },
   "outputs": [
    {
     "data": {
      "text/html": [
       "<div>\n",
       "<style scoped>\n",
       "    .dataframe tbody tr th:only-of-type {\n",
       "        vertical-align: middle;\n",
       "    }\n",
       "\n",
       "    .dataframe tbody tr th {\n",
       "        vertical-align: top;\n",
       "    }\n",
       "\n",
       "    .dataframe thead th {\n",
       "        text-align: right;\n",
       "    }\n",
       "</style>\n",
       "<table border=\"1\" class=\"dataframe\">\n",
       "  <thead>\n",
       "    <tr style=\"text-align: right;\">\n",
       "      <th></th>\n",
       "      <th>asisten_porcen_minuto</th>\n",
       "      <th>talla</th>\n",
       "      <th>tiempo_juego</th>\n",
       "      <th>edad</th>\n",
       "      <th>puntos_porcen_minuto</th>\n",
       "      <th>Cluster</th>\n",
       "    </tr>\n",
       "  </thead>\n",
       "  <tbody>\n",
       "    <tr>\n",
       "      <th>0</th>\n",
       "      <td>0.0888</td>\n",
       "      <td>201</td>\n",
       "      <td>36.02</td>\n",
       "      <td>28</td>\n",
       "      <td>0.5885</td>\n",
       "      <td>0</td>\n",
       "    </tr>\n",
       "    <tr>\n",
       "      <th>1</th>\n",
       "      <td>0.1399</td>\n",
       "      <td>198</td>\n",
       "      <td>39.32</td>\n",
       "      <td>30</td>\n",
       "      <td>0.8291</td>\n",
       "      <td>0</td>\n",
       "    </tr>\n",
       "    <tr>\n",
       "      <th>2</th>\n",
       "      <td>0.0747</td>\n",
       "      <td>198</td>\n",
       "      <td>38.80</td>\n",
       "      <td>26</td>\n",
       "      <td>0.4974</td>\n",
       "      <td>0</td>\n",
       "    </tr>\n",
       "    <tr>\n",
       "      <th>3</th>\n",
       "      <td>0.0983</td>\n",
       "      <td>191</td>\n",
       "      <td>40.71</td>\n",
       "      <td>30</td>\n",
       "      <td>0.5772</td>\n",
       "      <td>0</td>\n",
       "    </tr>\n",
       "    <tr>\n",
       "      <th>4</th>\n",
       "      <td>0.1276</td>\n",
       "      <td>196</td>\n",
       "      <td>38.40</td>\n",
       "      <td>28</td>\n",
       "      <td>0.5703</td>\n",
       "      <td>0</td>\n",
       "    </tr>\n",
       "    <tr>\n",
       "      <th>...</th>\n",
       "      <td>...</td>\n",
       "      <td>...</td>\n",
       "      <td>...</td>\n",
       "      <td>...</td>\n",
       "      <td>...</td>\n",
       "      <td>...</td>\n",
       "    </tr>\n",
       "    <tr>\n",
       "      <th>91</th>\n",
       "      <td>0.1554</td>\n",
       "      <td>183</td>\n",
       "      <td>11.58</td>\n",
       "      <td>24</td>\n",
       "      <td>0.3195</td>\n",
       "      <td>1</td>\n",
       "    </tr>\n",
       "    <tr>\n",
       "      <th>92</th>\n",
       "      <td>0.2282</td>\n",
       "      <td>185</td>\n",
       "      <td>10.08</td>\n",
       "      <td>24</td>\n",
       "      <td>0.2381</td>\n",
       "      <td>1</td>\n",
       "    </tr>\n",
       "    <tr>\n",
       "      <th>93</th>\n",
       "      <td>0.1778</td>\n",
       "      <td>185</td>\n",
       "      <td>18.56</td>\n",
       "      <td>23</td>\n",
       "      <td>0.2802</td>\n",
       "      <td>1</td>\n",
       "    </tr>\n",
       "    <tr>\n",
       "      <th>94</th>\n",
       "      <td>0.1863</td>\n",
       "      <td>185</td>\n",
       "      <td>11.81</td>\n",
       "      <td>23</td>\n",
       "      <td>0.3810</td>\n",
       "      <td>1</td>\n",
       "    </tr>\n",
       "    <tr>\n",
       "      <th>95</th>\n",
       "      <td>0.1014</td>\n",
       "      <td>193</td>\n",
       "      <td>13.81</td>\n",
       "      <td>32</td>\n",
       "      <td>0.1593</td>\n",
       "      <td>2</td>\n",
       "    </tr>\n",
       "  </tbody>\n",
       "</table>\n",
       "<p>96 rows × 6 columns</p>\n",
       "</div>"
      ],
      "text/plain": [
       "    asisten_porcen_minuto  talla  tiempo_juego  edad  puntos_porcen_minuto  \\\n",
       "0                  0.0888    201         36.02    28                0.5885   \n",
       "1                  0.1399    198         39.32    30                0.8291   \n",
       "2                  0.0747    198         38.80    26                0.4974   \n",
       "3                  0.0983    191         40.71    30                0.5772   \n",
       "4                  0.1276    196         38.40    28                0.5703   \n",
       "..                    ...    ...           ...   ...                   ...   \n",
       "91                 0.1554    183         11.58    24                0.3195   \n",
       "92                 0.2282    185         10.08    24                0.2381   \n",
       "93                 0.1778    185         18.56    23                0.2802   \n",
       "94                 0.1863    185         11.81    23                0.3810   \n",
       "95                 0.1014    193         13.81    32                0.1593   \n",
       "\n",
       "    Cluster  \n",
       "0         0  \n",
       "1         0  \n",
       "2         0  \n",
       "3         0  \n",
       "4         0  \n",
       "..      ...  \n",
       "91        1  \n",
       "92        1  \n",
       "93        1  \n",
       "94        1  \n",
       "95        2  \n",
       "\n",
       "[96 rows x 6 columns]"
      ]
     },
     "execution_count": 50,
     "metadata": {},
     "output_type": "execute_result"
    }
   ],
   "source": [
    "label_km = pd.DataFrame(kmeans.labels_,columns= ['Cluster'])\n",
    "cluster_kmeans = pd.concat([basket,label_km['Cluster']], axis=1)\n",
    "cluster_kmeans"
   ]
  },
  {
   "cell_type": "code",
   "execution_count": 51,
   "metadata": {
    "tags": []
   },
   "outputs": [
    {
     "data": {
      "text/plain": [
       "Cluster\n",
       "1    33\n",
       "0    25\n",
       "3    20\n",
       "2    18\n",
       "Name: count, dtype: int64"
      ]
     },
     "execution_count": 51,
     "metadata": {},
     "output_type": "execute_result"
    }
   ],
   "source": [
    "cluster_kmeans.Cluster.value_counts()"
   ]
  },
  {
   "cell_type": "markdown",
   "metadata": {},
   "source": [
    "## Visualizacion en 2D"
   ]
  },
  {
   "cell_type": "code",
   "execution_count": 52,
   "metadata": {
    "tags": []
   },
   "outputs": [
    {
     "data": {
      "text/plain": [
       "<matplotlib.collections.PathCollection at 0x1b4bcc4d390>"
      ]
     },
     "execution_count": 52,
     "metadata": {},
     "output_type": "execute_result"
    },
    {
     "data": {
      "image/png": "[encoded data removed]",
      "text/plain": [
       "<Figure size 1000x700 with 1 Axes>"
      ]
     },
     "metadata": {},
     "output_type": "display_data"
    }
   ],
   "source": [
    "plt.figure(figsize=(10, 7))  \n",
    "plt.scatter(zscore_df['asisten_porcen_minuto'], zscore_df['puntos_porcen_minuto'], c=cluster_kmeans.Cluster, cmap='rainbow') "
   ]
  },
  {
   "cell_type": "markdown",
   "metadata": {},
   "source": [
    "## Visualizacion en 3D"
   ]
  },
  {
   "cell_type": "code",
   "execution_count": 53,
   "metadata": {
    "tags": []
   },
   "outputs": [
    {
     "data": {
      "application/vnd.plotly.v1+json": {
       "config": {
        "plotlyServerURL": "https://plot.ly"
       },
       "data": [
        {
         "hovertemplate": "color=0<br>asisten_porcen_minuto=%{x}<br>tiempo_juego=%{y}<br>edad=%{z}<extra></extra>",
         "legendgroup": "0",
         "marker": {
          "color": "#636efa",
          "symbol": "circle"
         },
         "mode": "markers",
         "name": "0",
         "scene": "scene",
         "showlegend": true,
         "type": "scatter3d",
         "x": [
          0.1338769962623174,
          0.30750934420659193,
          0.08596670064559972,
          0.1661569826707441,
          0.2657152565409445,
          0.399932042133877,
          0.4797825348284064,
          0.19266055045871558,
          0.39959225280326205,
          0.24906557934080872,
          0.2534828406388039,
          0.32857628270472305,
          0,
          0.20829085966700647,
          0.17431192660550457,
          0.19469928644240572,
          0.4532789670404349,
          0.38498131158681625,
          0.308868501529052,
          0.363234794427455,
          0.2738702004757051,
          0.19164118246687054,
          0.3679918450560653,
          0.25891946992864423,
          0.2884811416921509
         ],
         "y": [
          0.8468821416911525,
          0.9546196539340515,
          0.9376428338230491,
          1,
          0.9245837414299705,
          0.7841984982043748,
          0.852758733268038,
          0.870714985308521,
          0.7659157688540645,
          0.8681031668299053,
          0.7770159973881816,
          0.8328436173685929,
          0.7280444009141365,
          0.8207639569049949,
          0.6114920013059093,
          0.8331700946784197,
          0.6353248449232778,
          0.6944172380019589,
          0.7646098596147568,
          0.7992164544564153,
          0.6754815540319947,
          0.5964740450538688,
          0.6852758733268038,
          0.5808031341821744,
          0.6914789422135161
         ],
         "z": [
          0.40000000000000013,
          0.5333333333333334,
          0.26666666666666683,
          0.5333333333333334,
          0.40000000000000013,
          0.5999999999999999,
          0.5333333333333334,
          0.3333333333333335,
          0.13333333333333353,
          0.4666666666666668,
          0.13333333333333353,
          0.5333333333333334,
          0.6666666666666667,
          0.20000000000000018,
          0.8,
          0.06666666666666665,
          0.40000000000000013,
          0.40000000000000013,
          0.06666666666666665,
          0.6666666666666667,
          0.26666666666666683,
          0.40000000000000013,
          0.20000000000000018,
          0.4666666666666668,
          0.40000000000000013
         ]
        },
        {
         "hovertemplate": "color=3<br>asisten_porcen_minuto=%{x}<br>tiempo_juego=%{y}<br>edad=%{z}<extra></extra>",
         "legendgroup": "3",
         "marker": {
          "color": "#EF553B",
          "symbol": "circle"
         },
         "mode": "markers",
         "name": "3",
         "scene": "scene",
         "showlegend": true,
         "type": "scatter3d",
         "x": [
          0.6632687733605165,
          0.6765205572545022,
          0.6187563710499491,
          0.6887529731566429,
          0.49677200135915733,
          0.7431192660550459,
          0.5358477743798845,
          0.5946313285762826,
          1,
          0.6224940536867143,
          0.6228338430173292,
          0.6418620455317704,
          0.6034658511722732,
          0.6799184505606524,
          0.6401630988786953,
          0.5351681957186545,
          0.5402650356778798,
          0.7737003058103976,
          0.6975874957526333,
          0.7213727488956846
         ],
         "y": [
          0.9255631733594514,
          0.8139079333986288,
          0.9118511263467188,
          0.7068233757753835,
          0.822722820763957,
          0.9614756774404178,
          0.8534116878876916,
          0.8641854391119816,
          0.810643160300359,
          0.7655892915442377,
          0.863206007182501,
          0.8217433888344758,
          0.7064968984655566,
          0.6653607574273588,
          0.7280444009141365,
          0.7757100881488737,
          0.5794972249428665,
          0.5546849493960171,
          0.798889977146588,
          0.4694743715311786
         ],
         "z": [
          0.4666666666666668,
          0.3333333333333335,
          0.40000000000000013,
          0.4666666666666668,
          0.6666666666666667,
          0.3333333333333335,
          0.5333333333333334,
          0.06666666666666665,
          0.5999999999999999,
          0.3333333333333335,
          0.6666666666666667,
          0.26666666666666683,
          0.3333333333333335,
          0.20000000000000018,
          0.3333333333333335,
          0.5333333333333334,
          0.20000000000000018,
          0.40000000000000013,
          0.40000000000000013,
          0.3333333333333335
         ]
        },
        {
         "hovertemplate": "color=2<br>asisten_porcen_minuto=%{x}<br>tiempo_juego=%{y}<br>edad=%{z}<extra></extra>",
         "legendgroup": "2",
         "marker": {
          "color": "#00cc96",
          "symbol": "circle"
         },
         "mode": "markers",
         "name": "2",
         "scene": "scene",
         "showlegend": true,
         "type": "scatter3d",
         "x": [
          0.2521236833163438,
          0.1365953109072375,
          0.19571865443425077,
          0.17397213727488955,
          0.5674481821270813,
          0.3730886850152906,
          0.01902820251444104,
          0.5558953448861705,
          0.29289840299014613,
          0.3340129119945634,
          0.2796466190961604,
          0.5548759768943256,
          0.13727488956846753,
          0.3513421678559293,
          0.3989126741420319,
          0.1963982330954808,
          0.4709480122324159,
          0.17669045191980973
         ],
         "y": [
          0.5426052889324191,
          0.5089781260202417,
          0.46457721188377404,
          0.41756447926869084,
          0.4704538034606594,
          0.5115899444988574,
          0.6199804113614105,
          0.375775383610839,
          0.10414626183480247,
          0.3339862879529872,
          0.24094025465230168,
          0.14658831211230822,
          0.10741103493307214,
          0.20502775057133532,
          0.14038524322559587,
          0.06660137120470128,
          0.07051909892262492,
          0.12177603656545871
         ],
         "z": [
          0.8,
          0.5333333333333334,
          0.8,
          0.5333333333333334,
          0.6666666666666667,
          0.5999999999999999,
          0.5999999999999999,
          0.5333333333333334,
          0.5999999999999999,
          0.5999999999999999,
          0.7333333333333336,
          1.0000000000000002,
          0.8,
          0.7333333333333336,
          0.8666666666666669,
          0.5999999999999999,
          0.5333333333333334,
          0.6666666666666667
         ]
        },
        {
         "hovertemplate": "color=1<br>asisten_porcen_minuto=%{x}<br>tiempo_juego=%{y}<br>edad=%{z}<extra></extra>",
         "legendgroup": "1",
         "marker": {
          "color": "#ab63fa",
          "symbol": "circle"
         },
         "mode": "markers",
         "name": "1",
         "scene": "scene",
         "showlegend": true,
         "type": "scatter3d",
         "x": [
          0.031260618416581704,
          0.3367312266394835,
          0.3924566768603466,
          0.235813795446823,
          0.4913353720693171,
          0.13013931362555217,
          0.17533129459734967,
          0.1522256201155284,
          0.19605844376486578,
          0.07951070336391439,
          0.011552837240910635,
          0.18654434250764526,
          0.21610601427115186,
          0.5752633367312266,
          0.3727488956846755,
          0.5613319741760109,
          0.4678899082568807,
          0.3622154264356099,
          0.6299694189602447,
          0.3836221542643561,
          0.2531430513081889,
          0.5722052327556915,
          0.3785253143051308,
          0.10567448182127079,
          0.43560992184845404,
          0.45090044172612986,
          0.22867821950390757,
          0.509683995922528,
          0.4118246687054027,
          0.3601766904519199,
          0.6075433231396534,
          0.43628950050968407,
          0.4651715936119606
         ],
         "y": [
          0.3950375448906301,
          0.4404178909565785,
          0.5817825661116551,
          0.41332027424094026,
          0.34410708455762323,
          0.3783872020894548,
          0.38230492980737835,
          0.3294156056154098,
          0.46359777995429324,
          0.29905321580150174,
          0.2895853738165198,
          0.2030688867123735,
          0.42213516160626846,
          0.38752856676460984,
          0.38916095331374473,
          0.34051583414952663,
          0.31668299053215804,
          0.1942539993470454,
          0.4632713026444662,
          0.2745674175644793,
          0.2507345739471107,
          0.10545217107411037,
          0.2393078681031669,
          0.1172053542278812,
          0.24094025465230168,
          0.08325171400587661,
          0.06268364348677768,
          0.32582435520731307,
          0.22592229840026118,
          0.04897159647404509,
          0,
          0.27685275873326803,
          0.056480574600065336
         ],
         "z": [
          0.06666666666666665,
          0.3333333333333335,
          0.20000000000000018,
          0.13333333333333353,
          0.3333333333333335,
          0.26666666666666683,
          0.13333333333333353,
          0.26666666666666683,
          0.13333333333333353,
          0.3333333333333335,
          0,
          0.06666666666666665,
          0.20000000000000018,
          0.40000000000000013,
          0.13333333333333353,
          0.13333333333333353,
          0.40000000000000013,
          0.06666666666666665,
          0.26666666666666683,
          0.40000000000000013,
          0.26666666666666683,
          0.20000000000000018,
          0.26666666666666683,
          0.20000000000000018,
          0.3333333333333335,
          0.20000000000000018,
          0.13333333333333353,
          0.3333333333333335,
          0.20000000000000018,
          0.13333333333333353,
          0.13333333333333353,
          0.06666666666666665,
          0.06666666666666665
         ]
        }
       ],
       "layout": {
        "legend": {
         "title": {
          "text": "color"
         },
         "tracegroupgap": 0
        },
        "margin": {
         "t": 60
        },
        "scene": {
         "domain": {
          "x": [
           0,
           1
          ],
          "y": [
           0,
           1
          ]
         },
         "xaxis": {
          "title": {
           "text": "asisten_porcen_minuto"
          }
         },
         "yaxis": {
          "title": {
           "text": "tiempo_juego"
          }
         },
         "zaxis": {
          "title": {
           "text": "edad"
          }
         }
        },
        "template": {
         "data": {
          "bar": [
           {
            "error_x": {
             "color": "#2a3f5f"
            },
            "error_y": {
             "color": "#2a3f5f"
            },
            "marker": {
             "line": {
              "color": "#E5ECF6",
              "width": 0.5
             },
             "pattern": {
              "fillmode": "overlay",
              "size": 10,
              "solidity": 0.2
             }
            },
            "type": "bar"
           }
          ],
          "barpolar": [
           {
            "marker": {
             "line": {
              "color": "#E5ECF6",
              "width": 0.5
             },
             "pattern": {
              "fillmode": "overlay",
              "size": 10,
              "solidity": 0.2
             }
            },
            "type": "barpolar"
           }
          ],
          "carpet": [
           {
            "aaxis": {
             "endlinecolor": "#2a3f5f",
             "gridcolor": "white",
             "linecolor": "white",
             "minorgridcolor": "white",
             "startlinecolor": "#2a3f5f"
            },
            "baxis": {
             "endlinecolor": "#2a3f5f",
             "gridcolor": "white",
             "linecolor": "white",
             "minorgridcolor": "white",
             "startlinecolor": "#2a3f5f"
            },
            "type": "carpet"
           }
          ],
          "choropleth": [
           {
            "colorbar": {
             "outlinewidth": 0,
             "ticks": ""
            },
            "type": "choropleth"
           }
          ],
          "contour": [
           {
            "colorbar": {
             "outlinewidth": 0,
             "ticks": ""
            },
            "colorscale": [
             [
              0,
              "#0d0887"
             ],
             [
              0.1111111111111111,
              "#46039f"
             ],
             [
              0.2222222222222222,
              "#7201a8"
             ],
             [
              0.3333333333333333,
              "#9c179e"
             ],
             [
              0.4444444444444444,
              "#bd3786"
             ],
             [
              0.5555555555555556,
              "#d8576b"
             ],
             [
              0.6666666666666666,
              "#ed7953"
             ],
             [
              0.7777777777777778,
              "#fb9f3a"
             ],
             [
              0.8888888888888888,
              "#fdca26"
             ],
             [
              1,
              "#f0f921"
             ]
            ],
            "type": "contour"
           }
          ],
          "contourcarpet": [
           {
            "colorbar": {
             "outlinewidth": 0,
             "ticks": ""
            },
            "type": "contourcarpet"
           }
          ],
          "heatmap": [
           {
            "colorbar": {
             "outlinewidth": 0,
             "ticks": ""
            },
            "colorscale": [
             [
              0,
              "#0d0887"
             ],
             [
              0.1111111111111111,
              "#46039f"
             ],
             [
              0.2222222222222222,
              "#7201a8"
             ],
             [
              0.3333333333333333,
              "#9c179e"
             ],
             [
              0.4444444444444444,
              "#bd3786"
             ],
             [
              0.5555555555555556,
              "#d8576b"
             ],
             [
              0.6666666666666666,
              "#ed7953"
             ],
             [
              0.7777777777777778,
              "#fb9f3a"
             ],
             [
              0.8888888888888888,
              "#fdca26"
             ],
             [
              1,
              "#f0f921"
             ]
            ],
            "type": "heatmap"
           }
          ],
          "heatmapgl": [
           {
            "colorbar": {
             "outlinewidth": 0,
             "ticks": ""
            },
            "colorscale": [
             [
              0,
              "#0d0887"
             ],
             [
              0.1111111111111111,
              "#46039f"
             ],
             [
              0.2222222222222222,
              "#7201a8"
             ],
             [
              0.3333333333333333,
              "#9c179e"
             ],
             [
              0.4444444444444444,
              "#bd3786"
             ],
             [
              0.5555555555555556,
              "#d8576b"
             ],
             [
              0.6666666666666666,
              "#ed7953"
             ],
             [
              0.7777777777777778,
              "#fb9f3a"
             ],
             [
              0.8888888888888888,
              "#fdca26"
             ],
             [
              1,
              "#f0f921"
             ]
            ],
            "type": "heatmapgl"
           }
          ],
          "histogram": [
           {
            "marker": {
             "pattern": {
              "fillmode": "overlay",
              "size": 10,
              "solidity": 0.2
             }
            },
            "type": "histogram"
           }
          ],
          "histogram2d": [
           {
            "colorbar": {
             "outlinewidth": 0,
             "ticks": ""
            },
            "colorscale": [
             [
              0,
              "#0d0887"
             ],
             [
              0.1111111111111111,
              "#46039f"
             ],
             [
              0.2222222222222222,
              "#7201a8"
             ],
             [
              0.3333333333333333,
              "#9c179e"
             ],
             [
              0.4444444444444444,
              "#bd3786"
             ],
             [
              0.5555555555555556,
              "#d8576b"
             ],
             [
              0.6666666666666666,
              "#ed7953"
             ],
             [
              0.7777777777777778,
              "#fb9f3a"
             ],
             [
              0.8888888888888888,
              "#fdca26"
             ],
             [
              1,
              "#f0f921"
             ]
            ],
            "type": "histogram2d"
           }
          ],
          "histogram2dcontour": [
           {
            "colorbar": {
             "outlinewidth": 0,
             "ticks": ""
            },
            "colorscale": [
             [
              0,
              "#0d0887"
             ],
             [
              0.1111111111111111,
              "#46039f"
             ],
             [
              0.2222222222222222,
              "#7201a8"
             ],
             [
              0.3333333333333333,
              "#9c179e"
             ],
             [
              0.4444444444444444,
              "#bd3786"
             ],
             [
              0.5555555555555556,
              "#d8576b"
             ],
             [
              0.6666666666666666,
              "#ed7953"
             ],
             [
              0.7777777777777778,
              "#fb9f3a"
             ],
             [
              0.8888888888888888,
              "#fdca26"
             ],
             [
              1,
              "#f0f921"
             ]
            ],
            "type": "histogram2dcontour"
           }
          ],
          "mesh3d": [
           {
            "colorbar": {
             "outlinewidth": 0,
             "ticks": ""
            },
            "type": "mesh3d"
           }
          ],
          "parcoords": [
           {
            "line": {
             "colorbar": {
              "outlinewidth": 0,
              "ticks": ""
             }
            },
            "type": "parcoords"
           }
          ],
          "pie": [
           {
            "automargin": true,
            "type": "pie"
           }
          ],
          "scatter": [
           {
            "fillpattern": {
             "fillmode": "overlay",
             "size": 10,
             "solidity": 0.2
            },
            "type": "scatter"
           }
          ],
          "scatter3d": [
           {
            "line": {
             "colorbar": {
              "outlinewidth": 0,
              "ticks": ""
             }
            },
            "marker": {
             "colorbar": {
              "outlinewidth": 0,
              "ticks": ""
             }
            },
            "type": "scatter3d"
           }
          ],
          "scattercarpet": [
           {
            "marker": {
             "colorbar": {
              "outlinewidth": 0,
              "ticks": ""
             }
            },
            "type": "scattercarpet"
           }
          ],
          "scattergeo": [
           {
            "marker": {
             "colorbar": {
              "outlinewidth": 0,
              "ticks": ""
             }
            },
            "type": "scattergeo"
           }
          ],
          "scattergl": [
           {
            "marker": {
             "colorbar": {
              "outlinewidth": 0,
              "ticks": ""
             }
            },
            "type": "scattergl"
           }
          ],
          "scattermapbox": [
           {
            "marker": {
             "colorbar": {
              "outlinewidth": 0,
              "ticks": ""
             }
            },
            "type": "scattermapbox"
           }
          ],
          "scatterpolar": [
           {
            "marker": {
             "colorbar": {
              "outlinewidth": 0,
              "ticks": ""
             }
            },
            "type": "scatterpolar"
           }
          ],
          "scatterpolargl": [
           {
            "marker": {
             "colorbar": {
              "outlinewidth": 0,
              "ticks": ""
             }
            },
            "type": "scatterpolargl"
           }
          ],
          "scatterternary": [
           {
            "marker": {
             "colorbar": {
              "outlinewidth": 0,
              "ticks": ""
             }
            },
            "type": "scatterternary"
           }
          ],
          "surface": [
           {
            "colorbar": {
             "outlinewidth": 0,
             "ticks": ""
            },
            "colorscale": [
             [
              0,
              "#0d0887"
             ],
             [
              0.1111111111111111,
              "#46039f"
             ],
             [
              0.2222222222222222,
              "#7201a8"
             ],
             [
              0.3333333333333333,
              "#9c179e"
             ],
             [
              0.4444444444444444,
              "#bd3786"
             ],
             [
              0.5555555555555556,
              "#d8576b"
             ],
             [
              0.6666666666666666,
              "#ed7953"
             ],
             [
              0.7777777777777778,
              "#fb9f3a"
             ],
             [
              0.8888888888888888,
              "#fdca26"
             ],
             [
              1,
              "#f0f921"
             ]
            ],
            "type": "surface"
           }
          ],
          "table": [
           {
            "cells": {
             "fill": {
              "color": "#EBF0F8"
             },
             "line": {
              "color": "white"
             }
            },
            "header": {
             "fill": {
              "color": "#C8D4E3"
             },
             "line": {
              "color": "white"
             }
            },
            "type": "table"
           }
          ]
         },
         "layout": {
          "annotationdefaults": {
           "arrowcolor": "#2a3f5f",
           "arrowhead": 0,
           "arrowwidth": 1
          },
          "autotypenumbers": "strict",
          "coloraxis": {
           "colorbar": {
            "outlinewidth": 0,
            "ticks": ""
           }
          },
          "colorscale": {
           "diverging": [
            [
             0,
             "#8e0152"
            ],
            [
             0.1,
             "#c51b7d"
            ],
            [
             0.2,
             "#de77ae"
            ],
            [
             0.3,
             "#f1b6da"
            ],
            [
             0.4,
             "#fde0ef"
            ],
            [
             0.5,
             "#f7f7f7"
            ],
            [
             0.6,
             "#e6f5d0"
            ],
            [
             0.7,
             "#b8e186"
            ],
            [
             0.8,
             "#7fbc41"
            ],
            [
             0.9,
             "#4d9221"
            ],
            [
             1,
             "#276419"
            ]
           ],
           "sequential": [
            [
             0,
             "#0d0887"
            ],
            [
             0.1111111111111111,
             "#46039f"
            ],
            [
             0.2222222222222222,
             "#7201a8"
            ],
            [
             0.3333333333333333,
             "#9c179e"
            ],
            [
             0.4444444444444444,
             "#bd3786"
            ],
            [
             0.5555555555555556,
             "#d8576b"
            ],
            [
             0.6666666666666666,
             "#ed7953"
            ],
            [
             0.7777777777777778,
             "#fb9f3a"
            ],
            [
             0.8888888888888888,
             "#fdca26"
            ],
            [
             1,
             "#f0f921"
            ]
           ],
           "sequentialminus": [
            [
             0,
             "#0d0887"
            ],
            [
             0.1111111111111111,
             "#46039f"
            ],
            [
             0.2222222222222222,
             "#7201a8"
            ],
            [
             0.3333333333333333,
             "#9c179e"
            ],
            [
             0.4444444444444444,
             "#bd3786"
            ],
            [
             0.5555555555555556,
             "#d8576b"
            ],
            [
             0.6666666666666666,
             "#ed7953"
            ],
            [
             0.7777777777777778,
             "#fb9f3a"
            ],
            [
             0.8888888888888888,
             "#fdca26"
            ],
            [
             1,
             "#f0f921"
            ]
           ]
          },
          "colorway": [
           "#636efa",
           "#EF553B",
           "#00cc96",
           "#ab63fa",
           "#FFA15A",
           "#19d3f3",
           "#FF6692",
           "#B6E880",
           "#FF97FF",
           "#FECB52"
          ],
          "font": {
           "color": "#2a3f5f"
          },
          "geo": {
           "bgcolor": "white",
           "lakecolor": "white",
           "landcolor": "#E5ECF6",
           "showlakes": true,
           "showland": true,
           "subunitcolor": "white"
          },
          "hoverlabel": {
           "align": "left"
          },
          "hovermode": "closest",
          "mapbox": {
           "style": "light"
          },
          "paper_bgcolor": "white",
          "plot_bgcolor": "#E5ECF6",
          "polar": {
           "angularaxis": {
            "gridcolor": "white",
            "linecolor": "white",
            "ticks": ""
           },
           "bgcolor": "#E5ECF6",
           "radialaxis": {
            "gridcolor": "white",
            "linecolor": "white",
            "ticks": ""
           }
          },
          "scene": {
           "xaxis": {
            "backgroundcolor": "#E5ECF6",
            "gridcolor": "white",
            "gridwidth": 2,
            "linecolor": "white",
            "showbackground": true,
            "ticks": "",
            "zerolinecolor": "white"
           },
           "yaxis": {
            "backgroundcolor": "#E5ECF6",
            "gridcolor": "white",
            "gridwidth": 2,
            "linecolor": "white",
            "showbackground": true,
            "ticks": "",
            "zerolinecolor": "white"
           },
           "zaxis": {
            "backgroundcolor": "#E5ECF6",
            "gridcolor": "white",
            "gridwidth": 2,
            "linecolor": "white",
            "showbackground": true,
            "ticks": "",
            "zerolinecolor": "white"
           }
          },
          "shapedefaults": {
           "line": {
            "color": "#2a3f5f"
           }
          },
          "ternary": {
           "aaxis": {
            "gridcolor": "white",
            "linecolor": "white",
            "ticks": ""
           },
           "baxis": {
            "gridcolor": "white",
            "linecolor": "white",
            "ticks": ""
           },
           "bgcolor": "#E5ECF6",
           "caxis": {
            "gridcolor": "white",
            "linecolor": "white",
            "ticks": ""
           }
          },
          "title": {
           "x": 0.05
          },
          "xaxis": {
           "automargin": true,
           "gridcolor": "white",
           "linecolor": "white",
           "ticks": "",
           "title": {
            "standoff": 15
           },
           "zerolinecolor": "white",
           "zerolinewidth": 2
          },
          "yaxis": {
           "automargin": true,
           "gridcolor": "white",
           "linecolor": "white",
           "ticks": "",
           "title": {
            "standoff": 15
           },
           "zerolinecolor": "white",
           "zerolinewidth": 2
          }
         }
        }
       }
      },
      "text/html": [
       "<div>                            <div id=\"cd67bbc3-1533-4f21-93ce-e962f79addfd\" class=\"plotly-graph-div\" style=\"height:525px; width:100%;\"></div>            <script type=\"text/javascript\">                require([\"plotly\"], function(Plotly) {                    window.PLOTLYENV=window.PLOTLYENV || {};                                    if (document.getElementById(\"cd67bbc3-1533-4f21-93ce-e962f79addfd\")) {                    Plotly.newPlot(                        \"cd67bbc3-1533-4f21-93ce-e962f79addfd\",                        [{\"hovertemplate\":\"color=0\\u003cbr\\u003easisten_porcen_minuto=%{x}\\u003cbr\\u003etiempo_juego=%{y}\\u003cbr\\u003eedad=%{z}\\u003cextra\\u003e\\u003c\\u002fextra\\u003e\",\"legendgroup\":\"0\",\"marker\":{\"color\":\"#636efa\",\"symbol\":\"circle\"},\"mode\":\"markers\",\"name\":\"0\",\"scene\":\"scene\",\"showlegend\":true,\"x\":[0.1338769962623174,0.30750934420659193,0.08596670064559972,0.1661569826707441,0.2657152565409445,0.399932042133877,0.4797825348284064,0.19266055045871558,0.39959225280326205,0.24906557934080872,0.2534828406388039,0.32857628270472305,0.0,0.20829085966700647,0.17431192660550457,0.19469928644240572,0.4532789670404349,0.38498131158681625,0.308868501529052,0.363234794427455,0.2738702004757051,0.19164118246687054,0.3679918450560653,0.25891946992864423,0.2884811416921509],\"y\":[0.8468821416911525,0.9546196539340515,0.9376428338230491,1.0,0.9245837414299705,0.7841984982043748,0.852758733268038,0.870714985308521,0.7659157688540645,0.8681031668299053,0.7770159973881816,0.8328436173685929,0.7280444009141365,0.8207639569049949,0.6114920013059093,0.8331700946784197,0.6353248449232778,0.6944172380019589,0.7646098596147568,0.7992164544564153,0.6754815540319947,0.5964740450538688,0.6852758733268038,0.5808031341821744,0.6914789422135161],\"z\":[0.40000000000000013,0.5333333333333334,0.26666666666666683,0.5333333333333334,0.40000000000000013,0.5999999999999999,0.5333333333333334,0.3333333333333335,0.13333333333333353,0.4666666666666668,0.13333333333333353,0.5333333333333334,0.6666666666666667,0.20000000000000018,0.8,0.06666666666666665,0.40000000000000013,0.40000000000000013,0.06666666666666665,0.6666666666666667,0.26666666666666683,0.40000000000000013,0.20000000000000018,0.4666666666666668,0.40000000000000013],\"type\":\"scatter3d\"},{\"hovertemplate\":\"color=3\\u003cbr\\u003easisten_porcen_minuto=%{x}\\u003cbr\\u003etiempo_juego=%{y}\\u003cbr\\u003eedad=%{z}\\u003cextra\\u003e\\u003c\\u002fextra\\u003e\",\"legendgroup\":\"3\",\"marker\":{\"color\":\"#EF553B\",\"symbol\":\"circle\"},\"mode\":\"markers\",\"name\":\"3\",\"scene\":\"scene\",\"showlegend\":true,\"x\":[0.6632687733605165,0.6765205572545022,0.6187563710499491,0.6887529731566429,0.49677200135915733,0.7431192660550459,0.5358477743798845,0.5946313285762826,1.0,0.6224940536867143,0.6228338430173292,0.6418620455317704,0.6034658511722732,0.6799184505606524,0.6401630988786953,0.5351681957186545,0.5402650356778798,0.7737003058103976,0.6975874957526333,0.7213727488956846],\"y\":[0.9255631733594514,0.8139079333986288,0.9118511263467188,0.7068233757753835,0.822722820763957,0.9614756774404178,0.8534116878876916,0.8641854391119816,0.810643160300359,0.7655892915442377,0.863206007182501,0.8217433888344758,0.7064968984655566,0.6653607574273588,0.7280444009141365,0.7757100881488737,0.5794972249428665,0.5546849493960171,0.798889977146588,0.4694743715311786],\"z\":[0.4666666666666668,0.3333333333333335,0.40000000000000013,0.4666666666666668,0.6666666666666667,0.3333333333333335,0.5333333333333334,0.06666666666666665,0.5999999999999999,0.3333333333333335,0.6666666666666667,0.26666666666666683,0.3333333333333335,0.20000000000000018,0.3333333333333335,0.5333333333333334,0.20000000000000018,0.40000000000000013,0.40000000000000013,0.3333333333333335],\"type\":\"scatter3d\"},{\"hovertemplate\":\"color=2\\u003cbr\\u003easisten_porcen_minuto=%{x}\\u003cbr\\u003etiempo_juego=%{y}\\u003cbr\\u003eedad=%{z}\\u003cextra\\u003e\\u003c\\u002fextra\\u003e\",\"legendgroup\":\"2\",\"marker\":{\"color\":\"#00cc96\",\"symbol\":\"circle\"},\"mode\":\"markers\",\"name\":\"2\",\"scene\":\"scene\",\"showlegend\":true,\"x\":[0.2521236833163438,0.1365953109072375,0.19571865443425077,0.17397213727488955,0.5674481821270813,0.3730886850152906,0.01902820251444104,0.5558953448861705,0.29289840299014613,0.3340129119945634,0.2796466190961604,0.5548759768943256,0.13727488956846753,0.3513421678559293,0.3989126741420319,0.1963982330954808,0.4709480122324159,0.17669045191980973],\"y\":[0.5426052889324191,0.5089781260202417,0.46457721188377404,0.41756447926869084,0.4704538034606594,0.5115899444988574,0.6199804113614105,0.375775383610839,0.10414626183480247,0.3339862879529872,0.24094025465230168,0.14658831211230822,0.10741103493307214,0.20502775057133532,0.14038524322559587,0.06660137120470128,0.07051909892262492,0.12177603656545871],\"z\":[0.8,0.5333333333333334,0.8,0.5333333333333334,0.6666666666666667,0.5999999999999999,0.5999999999999999,0.5333333333333334,0.5999999999999999,0.5999999999999999,0.7333333333333336,1.0000000000000002,0.8,0.7333333333333336,0.8666666666666669,0.5999999999999999,0.5333333333333334,0.6666666666666667],\"type\":\"scatter3d\"},{\"hovertemplate\":\"color=1\\u003cbr\\u003easisten_porcen_minuto=%{x}\\u003cbr\\u003etiempo_juego=%{y}\\u003cbr\\u003eedad=%{z}\\u003cextra\\u003e\\u003c\\u002fextra\\u003e\",\"legendgroup\":\"1\",\"marker\":{\"color\":\"#ab63fa\",\"symbol\":\"circle\"},\"mode\":\"markers\",\"name\":\"1\",\"scene\":\"scene\",\"showlegend\":true,\"x\":[0.031260618416581704,0.3367312266394835,0.3924566768603466,0.235813795446823,0.4913353720693171,0.13013931362555217,0.17533129459734967,0.1522256201155284,0.19605844376486578,0.07951070336391439,0.011552837240910635,0.18654434250764526,0.21610601427115186,0.5752633367312266,0.3727488956846755,0.5613319741760109,0.4678899082568807,0.3622154264356099,0.6299694189602447,0.3836221542643561,0.2531430513081889,0.5722052327556915,0.3785253143051308,0.10567448182127079,0.43560992184845404,0.45090044172612986,0.22867821950390757,0.509683995922528,0.4118246687054027,0.3601766904519199,0.6075433231396534,0.43628950050968407,0.4651715936119606],\"y\":[0.3950375448906301,0.4404178909565785,0.5817825661116551,0.41332027424094026,0.34410708455762323,0.3783872020894548,0.38230492980737835,0.3294156056154098,0.46359777995429324,0.29905321580150174,0.2895853738165198,0.2030688867123735,0.42213516160626846,0.38752856676460984,0.38916095331374473,0.34051583414952663,0.31668299053215804,0.1942539993470454,0.4632713026444662,0.2745674175644793,0.2507345739471107,0.10545217107411037,0.2393078681031669,0.1172053542278812,0.24094025465230168,0.08325171400587661,0.06268364348677768,0.32582435520731307,0.22592229840026118,0.04897159647404509,0.0,0.27685275873326803,0.056480574600065336],\"z\":[0.06666666666666665,0.3333333333333335,0.20000000000000018,0.13333333333333353,0.3333333333333335,0.26666666666666683,0.13333333333333353,0.26666666666666683,0.13333333333333353,0.3333333333333335,0.0,0.06666666666666665,0.20000000000000018,0.40000000000000013,0.13333333333333353,0.13333333333333353,0.40000000000000013,0.06666666666666665,0.26666666666666683,0.40000000000000013,0.26666666666666683,0.20000000000000018,0.26666666666666683,0.20000000000000018,0.3333333333333335,0.20000000000000018,0.13333333333333353,0.3333333333333335,0.20000000000000018,0.13333333333333353,0.13333333333333353,0.06666666666666665,0.06666666666666665],\"type\":\"scatter3d\"}],                        {\"template\":{\"data\":{\"histogram2dcontour\":[{\"type\":\"histogram2dcontour\",\"colorbar\":{\"outlinewidth\":0,\"ticks\":\"\"},\"colorscale\":[[0.0,\"#0d0887\"],[0.1111111111111111,\"#46039f\"],[0.2222222222222222,\"#7201a8\"],[0.3333333333333333,\"#9c179e\"],[0.4444444444444444,\"#bd3786\"],[0.5555555555555556,\"#d8576b\"],[0.6666666666666666,\"#ed7953\"],[0.7777777777777778,\"#fb9f3a\"],[0.8888888888888888,\"#fdca26\"],[1.0,\"#f0f921\"]]}],\"choropleth\":[{\"type\":\"choropleth\",\"colorbar\":{\"outlinewidth\":0,\"ticks\":\"\"}}],\"histogram2d\":[{\"type\":\"histogram2d\",\"colorbar\":{\"outlinewidth\":0,\"ticks\":\"\"},\"colorscale\":[[0.0,\"#0d0887\"],[0.1111111111111111,\"#46039f\"],[0.2222222222222222,\"#7201a8\"],[0.3333333333333333,\"#9c179e\"],[0.4444444444444444,\"#bd3786\"],[0.5555555555555556,\"#d8576b\"],[0.6666666666666666,\"#ed7953\"],[0.7777777777777778,\"#fb9f3a\"],[0.8888888888888888,\"#fdca26\"],[1.0,\"#f0f921\"]]}],\"heatmap\":[{\"type\":\"heatmap\",\"colorbar\":{\"outlinewidth\":0,\"ticks\":\"\"},\"colorscale\":[[0.0,\"#0d0887\"],[0.1111111111111111,\"#46039f\"],[0.2222222222222222,\"#7201a8\"],[0.3333333333333333,\"#9c179e\"],[0.4444444444444444,\"#bd3786\"],[0.5555555555555556,\"#d8576b\"],[0.6666666666666666,\"#ed7953\"],[0.7777777777777778,\"#fb9f3a\"],[0.8888888888888888,\"#fdca26\"],[1.0,\"#f0f921\"]]}],\"heatmapgl\":[{\"type\":\"heatmapgl\",\"colorbar\":{\"outlinewidth\":0,\"ticks\":\"\"},\"colorscale\":[[0.0,\"#0d0887\"],[0.1111111111111111,\"#46039f\"],[0.2222222222222222,\"#7201a8\"],[0.3333333333333333,\"#9c179e\"],[0.4444444444444444,\"#bd3786\"],[0.5555555555555556,\"#d8576b\"],[0.6666666666666666,\"#ed7953\"],[0.7777777777777778,\"#fb9f3a\"],[0.8888888888888888,\"#fdca26\"],[1.0,\"#f0f921\"]]}],\"contourcarpet\":[{\"type\":\"contourcarpet\",\"colorbar\":{\"outlinewidth\":0,\"ticks\":\"\"}}],\"contour\":[{\"type\":\"contour\",\"colorbar\":{\"outlinewidth\":0,\"ticks\":\"\"},\"colorscale\":[[0.0,\"#0d0887\"],[0.1111111111111111,\"#46039f\"],[0.2222222222222222,\"#7201a8\"],[0.3333333333333333,\"#9c179e\"],[0.4444444444444444,\"#bd3786\"],[0.5555555555555556,\"#d8576b\"],[0.6666666666666666,\"#ed7953\"],[0.7777777777777778,\"#fb9f3a\"],[0.8888888888888888,\"#fdca26\"],[1.0,\"#f0f921\"]]}],\"surface\":[{\"type\":\"surface\",\"colorbar\":{\"outlinewidth\":0,\"ticks\":\"\"},\"colorscale\":[[0.0,\"#0d0887\"],[0.1111111111111111,\"#46039f\"],[0.2222222222222222,\"#7201a8\"],[0.3333333333333333,\"#9c179e\"],[0.4444444444444444,\"#bd3786\"],[0.5555555555555556,\"#d8576b\"],[0.6666666666666666,\"#ed7953\"],[0.7777777777777778,\"#fb9f3a\"],[0.8888888888888888,\"#fdca26\"],[1.0,\"#f0f921\"]]}],\"mesh3d\":[{\"type\":\"mesh3d\",\"colorbar\":{\"outlinewidth\":0,\"ticks\":\"\"}}],\"scatter\":[{\"fillpattern\":{\"fillmode\":\"overlay\",\"size\":10,\"solidity\":0.2},\"type\":\"scatter\"}],\"parcoords\":[{\"type\":\"parcoords\",\"line\":{\"colorbar\":{\"outlinewidth\":0,\"ticks\":\"\"}}}],\"scatterpolargl\":[{\"type\":\"scatterpolargl\",\"marker\":{\"colorbar\":{\"outlinewidth\":0,\"ticks\":\"\"}}}],\"bar\":[{\"error_x\":{\"color\":\"#2a3f5f\"},\"error_y\":{\"color\":\"#2a3f5f\"},\"marker\":{\"line\":{\"color\":\"#E5ECF6\",\"width\":0.5},\"pattern\":{\"fillmode\":\"overlay\",\"size\":10,\"solidity\":0.2}},\"type\":\"bar\"}],\"scattergeo\":[{\"type\":\"scattergeo\",\"marker\":{\"colorbar\":{\"outlinewidth\":0,\"ticks\":\"\"}}}],\"scatterpolar\":[{\"type\":\"scatterpolar\",\"marker\":{\"colorbar\":{\"outlinewidth\":0,\"ticks\":\"\"}}}],\"histogram\":[{\"marker\":{\"pattern\":{\"fillmode\":\"overlay\",\"size\":10,\"solidity\":0.2}},\"type\":\"histogram\"}],\"scattergl\":[{\"type\":\"scattergl\",\"marker\":{\"colorbar\":{\"outlinewidth\":0,\"ticks\":\"\"}}}],\"scatter3d\":[{\"type\":\"scatter3d\",\"line\":{\"colorbar\":{\"outlinewidth\":0,\"ticks\":\"\"}},\"marker\":{\"colorbar\":{\"outlinewidth\":0,\"ticks\":\"\"}}}],\"scattermapbox\":[{\"type\":\"scattermapbox\",\"marker\":{\"colorbar\":{\"outlinewidth\":0,\"ticks\":\"\"}}}],\"scatterternary\":[{\"type\":\"scatterternary\",\"marker\":{\"colorbar\":{\"outlinewidth\":0,\"ticks\":\"\"}}}],\"scattercarpet\":[{\"type\":\"scattercarpet\",\"marker\":{\"colorbar\":{\"outlinewidth\":0,\"ticks\":\"\"}}}],\"carpet\":[{\"aaxis\":{\"endlinecolor\":\"#2a3f5f\",\"gridcolor\":\"white\",\"linecolor\":\"white\",\"minorgridcolor\":\"white\",\"startlinecolor\":\"#2a3f5f\"},\"baxis\":{\"endlinecolor\":\"#2a3f5f\",\"gridcolor\":\"white\",\"linecolor\":\"white\",\"minorgridcolor\":\"white\",\"startlinecolor\":\"#2a3f5f\"},\"type\":\"carpet\"}],\"table\":[{\"cells\":{\"fill\":{\"color\":\"#EBF0F8\"},\"line\":{\"color\":\"white\"}},\"header\":{\"fill\":{\"color\":\"#C8D4E3\"},\"line\":{\"color\":\"white\"}},\"type\":\"table\"}],\"barpolar\":[{\"marker\":{\"line\":{\"color\":\"#E5ECF6\",\"width\":0.5},\"pattern\":{\"fillmode\":\"overlay\",\"size\":10,\"solidity\":0.2}},\"type\":\"barpolar\"}],\"pie\":[{\"automargin\":true,\"type\":\"pie\"}]},\"layout\":{\"autotypenumbers\":\"strict\",\"colorway\":[\"#636efa\",\"#EF553B\",\"#00cc96\",\"#ab63fa\",\"#FFA15A\",\"#19d3f3\",\"#FF6692\",\"#B6E880\",\"#FF97FF\",\"#FECB52\"],\"font\":{\"color\":\"#2a3f5f\"},\"hovermode\":\"closest\",\"hoverlabel\":{\"align\":\"left\"},\"paper_bgcolor\":\"white\",\"plot_bgcolor\":\"#E5ECF6\",\"polar\":{\"bgcolor\":\"#E5ECF6\",\"angularaxis\":{\"gridcolor\":\"white\",\"linecolor\":\"white\",\"ticks\":\"\"},\"radialaxis\":{\"gridcolor\":\"white\",\"linecolor\":\"white\",\"ticks\":\"\"}},\"ternary\":{\"bgcolor\":\"#E5ECF6\",\"aaxis\":{\"gridcolor\":\"white\",\"linecolor\":\"white\",\"ticks\":\"\"},\"baxis\":{\"gridcolor\":\"white\",\"linecolor\":\"white\",\"ticks\":\"\"},\"caxis\":{\"gridcolor\":\"white\",\"linecolor\":\"white\",\"ticks\":\"\"}},\"coloraxis\":{\"colorbar\":{\"outlinewidth\":0,\"ticks\":\"\"}},\"colorscale\":{\"sequential\":[[0.0,\"#0d0887\"],[0.1111111111111111,\"#46039f\"],[0.2222222222222222,\"#7201a8\"],[0.3333333333333333,\"#9c179e\"],[0.4444444444444444,\"#bd3786\"],[0.5555555555555556,\"#d8576b\"],[0.6666666666666666,\"#ed7953\"],[0.7777777777777778,\"#fb9f3a\"],[0.8888888888888888,\"#fdca26\"],[1.0,\"#f0f921\"]],\"sequentialminus\":[[0.0,\"#0d0887\"],[0.1111111111111111,\"#46039f\"],[0.2222222222222222,\"#7201a8\"],[0.3333333333333333,\"#9c179e\"],[0.4444444444444444,\"#bd3786\"],[0.5555555555555556,\"#d8576b\"],[0.6666666666666666,\"#ed7953\"],[0.7777777777777778,\"#fb9f3a\"],[0.8888888888888888,\"#fdca26\"],[1.0,\"#f0f921\"]],\"diverging\":[[0,\"#8e0152\"],[0.1,\"#c51b7d\"],[0.2,\"#de77ae\"],[0.3,\"#f1b6da\"],[0.4,\"#fde0ef\"],[0.5,\"#f7f7f7\"],[0.6,\"#e6f5d0\"],[0.7,\"#b8e186\"],[0.8,\"#7fbc41\"],[0.9,\"#4d9221\"],[1,\"#276419\"]]},\"xaxis\":{\"gridcolor\":\"white\",\"linecolor\":\"white\",\"ticks\":\"\",\"title\":{\"standoff\":15},\"zerolinecolor\":\"white\",\"automargin\":true,\"zerolinewidth\":2},\"yaxis\":{\"gridcolor\":\"white\",\"linecolor\":\"white\",\"ticks\":\"\",\"title\":{\"standoff\":15},\"zerolinecolor\":\"white\",\"automargin\":true,\"zerolinewidth\":2},\"scene\":{\"xaxis\":{\"backgroundcolor\":\"#E5ECF6\",\"gridcolor\":\"white\",\"linecolor\":\"white\",\"showbackground\":true,\"ticks\":\"\",\"zerolinecolor\":\"white\",\"gridwidth\":2},\"yaxis\":{\"backgroundcolor\":\"#E5ECF6\",\"gridcolor\":\"white\",\"linecolor\":\"white\",\"showbackground\":true,\"ticks\":\"\",\"zerolinecolor\":\"white\",\"gridwidth\":2},\"zaxis\":{\"backgroundcolor\":\"#E5ECF6\",\"gridcolor\":\"white\",\"linecolor\":\"white\",\"showbackground\":true,\"ticks\":\"\",\"zerolinecolor\":\"white\",\"gridwidth\":2}},\"shapedefaults\":{\"line\":{\"color\":\"#2a3f5f\"}},\"annotationdefaults\":{\"arrowcolor\":\"#2a3f5f\",\"arrowhead\":0,\"arrowwidth\":1},\"geo\":{\"bgcolor\":\"white\",\"landcolor\":\"#E5ECF6\",\"subunitcolor\":\"white\",\"showland\":true,\"showlakes\":true,\"lakecolor\":\"white\"},\"title\":{\"x\":0.05},\"mapbox\":{\"style\":\"light\"}}},\"scene\":{\"domain\":{\"x\":[0.0,1.0],\"y\":[0.0,1.0]},\"xaxis\":{\"title\":{\"text\":\"asisten_porcen_minuto\"}},\"yaxis\":{\"title\":{\"text\":\"tiempo_juego\"}},\"zaxis\":{\"title\":{\"text\":\"edad\"}}},\"legend\":{\"title\":{\"text\":\"color\"},\"tracegroupgap\":0},\"margin\":{\"t\":60}},                        {\"responsive\": true}                    ).then(function(){\n",
       "                            \n",
       "var gd = document.getElementById('cd67bbc3-1533-4f21-93ce-e962f79addfd');\n",
       "var x = new MutationObserver(function (mutations, observer) {{\n",
       "        var display = window.getComputedStyle(gd).display;\n",
       "        if (!display || display === 'none') {{\n",
       "            console.log([gd, 'removed!']);\n",
       "            Plotly.purge(gd);\n",
       "            observer.disconnect();\n",
       "        }}\n",
       "}});\n",
       "\n",
       "// Listen for the removal of the full notebook cells\n",
       "var notebookContainer = gd.closest('#notebook-container');\n",
       "if (notebookContainer) {{\n",
       "    x.observe(notebookContainer, {childList: true});\n",
       "}}\n",
       "\n",
       "// Listen for the clearing of the current output cell\n",
       "var outputEl = gd.closest('.output');\n",
       "if (outputEl) {{\n",
       "    x.observe(outputEl, {childList: true});\n",
       "}}\n",
       "\n",
       "                        })                };                });            </script>        </div>"
      ]
     },
     "metadata": {},
     "output_type": "display_data"
    }
   ],
   "source": [
    "import plotly.express as px\n",
    "\n",
    "fig = px.scatter_3d(zscore_df, x='asisten_porcen_minuto', y='tiempo_juego', z='edad', color=cluster_kmeans['Cluster'].astype(str))\n",
    "fig.show()"
   ]
  },
  {
   "cell_type": "markdown",
   "metadata": {},
   "source": [
    "### Métrica de Silueta"
   ]
  },
  {
   "cell_type": "code",
   "execution_count": 54,
   "metadata": {
    "tags": []
   },
   "outputs": [
    {
     "data": {
      "text/plain": [
       "0.22198291378995924"
      ]
     },
     "execution_count": 54,
     "metadata": {},
     "output_type": "execute_result"
    }
   ],
   "source": [
    "from sklearn.metrics import silhouette_score\n",
    "silhouette_score(basket.values, cluster_kmeans.Cluster, metric='euclidean')"
   ]
  },
  {
   "cell_type": "markdown",
   "metadata": {},
   "source": [
    "### Referencias: \n",
    "https://machinelearningmastery.com/standardscaler-and-minmaxscaler-transforms-in-python/ \n",
    "\n",
    "https://scikit-learn.org/stable/modules/generated/sklearn.preprocessing.MinMaxScaler.html"
   ]
  }
 ],
 "metadata": {
  "kernelspec": {
   "display_name": "Python 3 (ipykernel)",
   "language": "python",
   "name": "python3"
  },
  "language_info": {
   "codemirror_mode": {
    "name": "ipython",
    "version": 3
   },
   "file_extension": ".py",
   "mimetype": "text/x-python",
   "name": "python",
   "nbconvert_exporter": "python",
   "pygments_lexer": "ipython3",
   "version": "3.10.12"
  }
 },
 "nbformat": 4,
 "nbformat_minor": 4
}
